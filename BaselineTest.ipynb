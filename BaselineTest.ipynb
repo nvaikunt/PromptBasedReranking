{
  "nbformat": 4,
  "nbformat_minor": 0,
  "metadata": {
    "colab": {
      "provenance": [],
      "machine_shape": "hm",
      "authorship_tag": "ABX9TyOJiBPwHggYwhQeLjYEUtN3",
      "include_colab_link": true
    },
    "kernelspec": {
      "name": "python3",
      "display_name": "Python 3"
    },
    "language_info": {
      "name": "python"
    },
    "accelerator": "GPU",
    "widgets": {
      "application/vnd.jupyter.widget-state+json": {
        "9970ea2eeb524de5859088c28d0a95cb": {
          "model_module": "@jupyter-widgets/controls",
          "model_name": "HBoxModel",
          "model_module_version": "1.5.0",
          "state": {
            "_dom_classes": [],
            "_model_module": "@jupyter-widgets/controls",
            "_model_module_version": "1.5.0",
            "_model_name": "HBoxModel",
            "_view_count": null,
            "_view_module": "@jupyter-widgets/controls",
            "_view_module_version": "1.5.0",
            "_view_name": "HBoxView",
            "box_style": "",
            "children": [
              "IPY_MODEL_db46b330943944b09ece822b01c129a9",
              "IPY_MODEL_50d09df739174f02a50a007acc331c8e",
              "IPY_MODEL_4c639666b9024cd09b19c34be7272c90"
            ],
            "layout": "IPY_MODEL_6cef630ffeac4eb99796cf9eacd9d8a7"
          }
        },
        "db46b330943944b09ece822b01c129a9": {
          "model_module": "@jupyter-widgets/controls",
          "model_name": "HTMLModel",
          "model_module_version": "1.5.0",
          "state": {
            "_dom_classes": [],
            "_model_module": "@jupyter-widgets/controls",
            "_model_module_version": "1.5.0",
            "_model_name": "HTMLModel",
            "_view_count": null,
            "_view_module": "@jupyter-widgets/controls",
            "_view_module_version": "1.5.0",
            "_view_name": "HTMLView",
            "description": "",
            "description_tooltip": null,
            "layout": "IPY_MODEL_58deab2c285b455c9f0548bac5dba816",
            "placeholder": "​",
            "style": "IPY_MODEL_14cec7b8f7a340ba8c091ce3fc01ce36",
            "value": "  0%"
          }
        },
        "50d09df739174f02a50a007acc331c8e": {
          "model_module": "@jupyter-widgets/controls",
          "model_name": "FloatProgressModel",
          "model_module_version": "1.5.0",
          "state": {
            "_dom_classes": [],
            "_model_module": "@jupyter-widgets/controls",
            "_model_module_version": "1.5.0",
            "_model_name": "FloatProgressModel",
            "_view_count": null,
            "_view_module": "@jupyter-widgets/controls",
            "_view_module_version": "1.5.0",
            "_view_name": "ProgressView",
            "bar_style": "danger",
            "description": "",
            "description_tooltip": null,
            "layout": "IPY_MODEL_f792234f56424fb491ab7172362467b6",
            "max": 1,
            "min": 0,
            "orientation": "horizontal",
            "style": "IPY_MODEL_058c229a8ebb4577ad81460efd8f1dc3",
            "value": 0
          }
        },
        "4c639666b9024cd09b19c34be7272c90": {
          "model_module": "@jupyter-widgets/controls",
          "model_name": "HTMLModel",
          "model_module_version": "1.5.0",
          "state": {
            "_dom_classes": [],
            "_model_module": "@jupyter-widgets/controls",
            "_model_module_version": "1.5.0",
            "_model_name": "HTMLModel",
            "_view_count": null,
            "_view_module": "@jupyter-widgets/controls",
            "_view_module_version": "1.5.0",
            "_view_name": "HTMLView",
            "description": "",
            "description_tooltip": null,
            "layout": "IPY_MODEL_d0e536340a2d4479a2cdbd524658c888",
            "placeholder": "​",
            "style": "IPY_MODEL_22caa7de41ae412d883699e39ec5262d",
            "value": " 0/1 [00:00&lt;?, ?ba/s]"
          }
        },
        "6cef630ffeac4eb99796cf9eacd9d8a7": {
          "model_module": "@jupyter-widgets/base",
          "model_name": "LayoutModel",
          "model_module_version": "1.2.0",
          "state": {
            "_model_module": "@jupyter-widgets/base",
            "_model_module_version": "1.2.0",
            "_model_name": "LayoutModel",
            "_view_count": null,
            "_view_module": "@jupyter-widgets/base",
            "_view_module_version": "1.2.0",
            "_view_name": "LayoutView",
            "align_content": null,
            "align_items": null,
            "align_self": null,
            "border": null,
            "bottom": null,
            "display": null,
            "flex": null,
            "flex_flow": null,
            "grid_area": null,
            "grid_auto_columns": null,
            "grid_auto_flow": null,
            "grid_auto_rows": null,
            "grid_column": null,
            "grid_gap": null,
            "grid_row": null,
            "grid_template_areas": null,
            "grid_template_columns": null,
            "grid_template_rows": null,
            "height": null,
            "justify_content": null,
            "justify_items": null,
            "left": null,
            "margin": null,
            "max_height": null,
            "max_width": null,
            "min_height": null,
            "min_width": null,
            "object_fit": null,
            "object_position": null,
            "order": null,
            "overflow": null,
            "overflow_x": null,
            "overflow_y": null,
            "padding": null,
            "right": null,
            "top": null,
            "visibility": null,
            "width": null
          }
        },
        "58deab2c285b455c9f0548bac5dba816": {
          "model_module": "@jupyter-widgets/base",
          "model_name": "LayoutModel",
          "model_module_version": "1.2.0",
          "state": {
            "_model_module": "@jupyter-widgets/base",
            "_model_module_version": "1.2.0",
            "_model_name": "LayoutModel",
            "_view_count": null,
            "_view_module": "@jupyter-widgets/base",
            "_view_module_version": "1.2.0",
            "_view_name": "LayoutView",
            "align_content": null,
            "align_items": null,
            "align_self": null,
            "border": null,
            "bottom": null,
            "display": null,
            "flex": null,
            "flex_flow": null,
            "grid_area": null,
            "grid_auto_columns": null,
            "grid_auto_flow": null,
            "grid_auto_rows": null,
            "grid_column": null,
            "grid_gap": null,
            "grid_row": null,
            "grid_template_areas": null,
            "grid_template_columns": null,
            "grid_template_rows": null,
            "height": null,
            "justify_content": null,
            "justify_items": null,
            "left": null,
            "margin": null,
            "max_height": null,
            "max_width": null,
            "min_height": null,
            "min_width": null,
            "object_fit": null,
            "object_position": null,
            "order": null,
            "overflow": null,
            "overflow_x": null,
            "overflow_y": null,
            "padding": null,
            "right": null,
            "top": null,
            "visibility": null,
            "width": null
          }
        },
        "14cec7b8f7a340ba8c091ce3fc01ce36": {
          "model_module": "@jupyter-widgets/controls",
          "model_name": "DescriptionStyleModel",
          "model_module_version": "1.5.0",
          "state": {
            "_model_module": "@jupyter-widgets/controls",
            "_model_module_version": "1.5.0",
            "_model_name": "DescriptionStyleModel",
            "_view_count": null,
            "_view_module": "@jupyter-widgets/base",
            "_view_module_version": "1.2.0",
            "_view_name": "StyleView",
            "description_width": ""
          }
        },
        "f792234f56424fb491ab7172362467b6": {
          "model_module": "@jupyter-widgets/base",
          "model_name": "LayoutModel",
          "model_module_version": "1.2.0",
          "state": {
            "_model_module": "@jupyter-widgets/base",
            "_model_module_version": "1.2.0",
            "_model_name": "LayoutModel",
            "_view_count": null,
            "_view_module": "@jupyter-widgets/base",
            "_view_module_version": "1.2.0",
            "_view_name": "LayoutView",
            "align_content": null,
            "align_items": null,
            "align_self": null,
            "border": null,
            "bottom": null,
            "display": null,
            "flex": null,
            "flex_flow": null,
            "grid_area": null,
            "grid_auto_columns": null,
            "grid_auto_flow": null,
            "grid_auto_rows": null,
            "grid_column": null,
            "grid_gap": null,
            "grid_row": null,
            "grid_template_areas": null,
            "grid_template_columns": null,
            "grid_template_rows": null,
            "height": null,
            "justify_content": null,
            "justify_items": null,
            "left": null,
            "margin": null,
            "max_height": null,
            "max_width": null,
            "min_height": null,
            "min_width": null,
            "object_fit": null,
            "object_position": null,
            "order": null,
            "overflow": null,
            "overflow_x": null,
            "overflow_y": null,
            "padding": null,
            "right": null,
            "top": null,
            "visibility": null,
            "width": null
          }
        },
        "058c229a8ebb4577ad81460efd8f1dc3": {
          "model_module": "@jupyter-widgets/controls",
          "model_name": "ProgressStyleModel",
          "model_module_version": "1.5.0",
          "state": {
            "_model_module": "@jupyter-widgets/controls",
            "_model_module_version": "1.5.0",
            "_model_name": "ProgressStyleModel",
            "_view_count": null,
            "_view_module": "@jupyter-widgets/base",
            "_view_module_version": "1.2.0",
            "_view_name": "StyleView",
            "bar_color": null,
            "description_width": ""
          }
        },
        "d0e536340a2d4479a2cdbd524658c888": {
          "model_module": "@jupyter-widgets/base",
          "model_name": "LayoutModel",
          "model_module_version": "1.2.0",
          "state": {
            "_model_module": "@jupyter-widgets/base",
            "_model_module_version": "1.2.0",
            "_model_name": "LayoutModel",
            "_view_count": null,
            "_view_module": "@jupyter-widgets/base",
            "_view_module_version": "1.2.0",
            "_view_name": "LayoutView",
            "align_content": null,
            "align_items": null,
            "align_self": null,
            "border": null,
            "bottom": null,
            "display": null,
            "flex": null,
            "flex_flow": null,
            "grid_area": null,
            "grid_auto_columns": null,
            "grid_auto_flow": null,
            "grid_auto_rows": null,
            "grid_column": null,
            "grid_gap": null,
            "grid_row": null,
            "grid_template_areas": null,
            "grid_template_columns": null,
            "grid_template_rows": null,
            "height": null,
            "justify_content": null,
            "justify_items": null,
            "left": null,
            "margin": null,
            "max_height": null,
            "max_width": null,
            "min_height": null,
            "min_width": null,
            "object_fit": null,
            "object_position": null,
            "order": null,
            "overflow": null,
            "overflow_x": null,
            "overflow_y": null,
            "padding": null,
            "right": null,
            "top": null,
            "visibility": null,
            "width": null
          }
        },
        "22caa7de41ae412d883699e39ec5262d": {
          "model_module": "@jupyter-widgets/controls",
          "model_name": "DescriptionStyleModel",
          "model_module_version": "1.5.0",
          "state": {
            "_model_module": "@jupyter-widgets/controls",
            "_model_module_version": "1.5.0",
            "_model_name": "DescriptionStyleModel",
            "_view_count": null,
            "_view_module": "@jupyter-widgets/base",
            "_view_module_version": "1.2.0",
            "_view_name": "StyleView",
            "description_width": ""
          }
        }
      }
    }
  },
  "cells": [
    {
      "cell_type": "markdown",
      "metadata": {
        "id": "view-in-github",
        "colab_type": "text"
      },
      "source": [
        "<a href=\"https://colab.research.google.com/github/nvaikunt/PromptBasedReranking/blob/main/BaselineTest.ipynb\" target=\"_parent\"><img src=\"https://colab.research.google.com/assets/colab-badge.svg\" alt=\"Open In Colab\"/></a>"
      ]
    },
    {
      "cell_type": "code",
      "execution_count": 1,
      "metadata": {
        "id": "Ty9kvEWUUnWA",
        "pycharm": {
          "name": "#%%\n"
        },
        "outputId": "ec0bcbb7-0c49-4af9-f9f4-d78d36b3cc94",
        "colab": {
          "base_uri": "https://localhost:8080/"
        }
      },
      "outputs": [
        {
          "output_type": "stream",
          "name": "stdout",
          "text": [
            "fatal: destination path 'PromptBasedReranking' already exists and is not an empty directory.\n"
          ]
        }
      ],
      "source": [
        "!git clone https://github.com/nvaikunt/PromptBasedReranking.git"
      ]
    },
    {
      "cell_type": "code",
      "source": [
        "!pip install -q condacolab\n",
        "import condacolab\n",
        "condacolab.install()"
      ],
      "metadata": {
        "id": "fyZJj4_rbt13",
        "pycharm": {
          "name": "#%%\n"
        },
        "outputId": "52ab1167-6416-4f1e-e711-2a301bbfdd94",
        "colab": {
          "base_uri": "https://localhost:8080/"
        }
      },
      "execution_count": 2,
      "outputs": [
        {
          "output_type": "stream",
          "name": "stdout",
          "text": [
            "\u001b[33mWARNING: Running pip as the 'root' user can result in broken permissions and conflicting behaviour with the system package manager. It is recommended to use a virtual environment instead: https://pip.pypa.io/warnings/venv\u001b[0m\u001b[33m\n",
            "\u001b[0m✨🍰✨ Everything looks OK!\n"
          ]
        }
      ]
    },
    {
      "cell_type": "code",
      "source": [
        "!conda --version"
      ],
      "metadata": {
        "id": "pPVDbhP4d-xX",
        "pycharm": {
          "name": "#%%\n"
        },
        "outputId": "6bbec723-3841-42bb-b999-8c9c3c6f5e4c",
        "colab": {
          "base_uri": "https://localhost:8080/"
        }
      },
      "execution_count": 3,
      "outputs": [
        {
          "output_type": "stream",
          "name": "stdout",
          "text": [
            "conda 4.14.0\n"
          ]
        }
      ]
    },
    {
      "cell_type": "code",
      "source": [
        "%cd PromptBasedReranking/"
      ],
      "metadata": {
        "id": "aCJaFzY3cDqo",
        "pycharm": {
          "name": "#%%\n"
        },
        "outputId": "e888e661-833e-4dde-d24b-ee4713a4f35a",
        "colab": {
          "base_uri": "https://localhost:8080/"
        }
      },
      "execution_count": 4,
      "outputs": [
        {
          "output_type": "stream",
          "name": "stdout",
          "text": [
            "/content/PromptBasedReranking\n"
          ]
        }
      ]
    },
    {
      "cell_type": "code",
      "source": [
        "!bash setup.sh"
      ],
      "metadata": {
        "id": "a3x6GMeGey6w",
        "pycharm": {
          "name": "#%%\n"
        }
      },
      "execution_count": null,
      "outputs": []
    },
    {
      "cell_type": "code",
      "source": [
        "import torch\n",
        "torch.cuda.is_available()"
      ],
      "metadata": {
        "id": "IFklJTLN399-",
        "pycharm": {
          "name": "#%%\n"
        },
        "outputId": "591df52e-cf56-44f8-f163-34965ec9d336",
        "colab": {
          "base_uri": "https://localhost:8080/"
        }
      },
      "execution_count": 6,
      "outputs": [
        {
          "output_type": "execute_result",
          "data": {
            "text/plain": [
              "True"
            ]
          },
          "metadata": {},
          "execution_count": 6
        }
      ]
    },
    {
      "cell_type": "code",
      "source": [
        "!python utils/download_dpr_data.py --resource data.wikipedia-split.psgs_w100"
      ],
      "metadata": {
        "id": "7ZhQbsuOpH7W",
        "pycharm": {
          "name": "#%%\n"
        },
        "outputId": "cf8e8fd2-278d-4de2-e516-2549725c90e3",
        "colab": {
          "base_uri": "https://localhost:8080/"
        }
      },
      "execution_count": 7,
      "outputs": [
        {
          "output_type": "stream",
          "name": "stdout",
          "text": [
            "Requested resource from %s https://www.dropbox.com/s/bezryc9win2bha1/psgs_w100.tar.gz\n",
            "Download root_dir %s ./\n",
            "File to be downloaded as %s /content/PromptBasedReranking/downloads/data/wikipedia-split/psgs_w100.tsv\n",
            "\n",
            "Downloaded to %s /content/PromptBasedReranking/downloads/data/wikipedia-split/psgs_w100.tar.gz\n",
            "Uncompressing %s /content/PromptBasedReranking/downloads/data/wikipedia-split/psgs_w100.tar.gz\n",
            " Saved to %s ./downloads/data/wikipedia-split\n"
          ]
        }
      ]
    },
    {
      "cell_type": "code",
      "source": [
        "!python utils/download_dpr_data.py --resource data.retriever-outputs.dpr.nq-train"
      ],
      "metadata": {
        "id": "VxlROfN2rCem",
        "pycharm": {
          "name": "#%%\n"
        },
        "outputId": "df0f4808-604f-472f-8eb1-aa46a2dcd71d",
        "colab": {
          "base_uri": "https://localhost:8080/"
        }
      },
      "execution_count": 8,
      "outputs": [
        {
          "output_type": "stream",
          "name": "stdout",
          "text": [
            "Requested resource from %s https://www.dropbox.com/s/6g4erof4ifg8xea/nq-train.tar.gz\n",
            "Download root_dir %s ./\n",
            "File to be downloaded as %s /content/PromptBasedReranking/downloads/data/retriever-outputs/dpr/nq-train.json\n",
            "\n",
            "Downloaded to %s /content/PromptBasedReranking/downloads/data/retriever-outputs/dpr/nq-train.tar.gz\n",
            "Uncompressing %s /content/PromptBasedReranking/downloads/data/retriever-outputs/dpr/nq-train.tar.gz\n",
            " Saved to %s ./downloads/data/retriever-outputs/dpr\n"
          ]
        }
      ]
    },
    {
      "cell_type": "code",
      "source": [
        "!python utils/download_dpr_data.py --resource data.retriever-outputs.dpr.nq-dev"
      ],
      "metadata": {
        "id": "NdRFSl84uXvM",
        "pycharm": {
          "name": "#%%\n"
        },
        "outputId": "e1a3b3ae-e741-4fb9-b041-1beb85df8bb7",
        "colab": {
          "base_uri": "https://localhost:8080/"
        }
      },
      "execution_count": 9,
      "outputs": [
        {
          "output_type": "stream",
          "name": "stdout",
          "text": [
            "Requested resource from %s https://www.dropbox.com/s/257quanu64w9sh0/nq-dev.tar.gz\n",
            "Download root_dir %s ./\n",
            "File to be downloaded as %s /content/PromptBasedReranking/downloads/data/retriever-outputs/dpr/nq-dev.json\n",
            "\n",
            "Downloaded to %s /content/PromptBasedReranking/downloads/data/retriever-outputs/dpr/nq-dev.tar.gz\n",
            "Uncompressing %s /content/PromptBasedReranking/downloads/data/retriever-outputs/dpr/nq-dev.tar.gz\n",
            " Saved to %s ./downloads/data/retriever-outputs/dpr\n"
          ]
        }
      ]
    },
    {
      "cell_type": "code",
      "source": [
        "!git pull"
      ],
      "metadata": {
        "id": "CuMp6LcYQkya",
        "outputId": "961b94bb-a2dc-4dc5-fde5-de66805592a1",
        "colab": {
          "base_uri": "https://localhost:8080/"
        }
      },
      "execution_count": 54,
      "outputs": [
        {
          "output_type": "stream",
          "name": "stdout",
          "text": [
            "Already up to date.\n"
          ]
        }
      ]
    },
    {
      "cell_type": "code",
      "source": [
        "from transformers import AutoTokenizer, T5ForConditionalGeneration\n",
        "from preprocess_data import create_training_dataset\n",
        "model_checkpoint = \"google/t5-base-lm-adapt\"\n",
        "model_checkpoint_2 = \"bigscience/T0_3B\"\n",
        "tokenizer = AutoTokenizer.from_pretrained(model_checkpoint)\n",
        "model = T5ForConditionalGeneration.from_pretrained(model_checkpoint)\n",
        "train_file = \"downloads/data/retriever-outputs/dpr/nq-train.json\"\n",
        "evidence_file = 'downloads/data/wikipedia-split/psgs_w100.tsv'\n",
        "train_dataset = create_training_dataset(train_file, evidence_file, 400, \n",
        "                                        isQG=False, isRanking=True, batch_sz=10,\n",
        "                                        tokenizer=tokenizer)\n",
        "train_dataset"
      ],
      "metadata": {
        "id": "bIXUD06o9bM7",
        "outputId": "eb0387ba-d864-4989-bd69-5dddd85f0ea0",
        "colab": {
          "base_uri": "https://localhost:8080/",
          "height": 329
        }
      },
      "execution_count": 57,
      "outputs": [
        {
          "output_type": "error",
          "ename": "TypeError",
          "evalue": "ignored",
          "traceback": [
            "\u001b[0;31m---------------------------------------------------------------------------\u001b[0m",
            "\u001b[0;31mTypeError\u001b[0m                                 Traceback (most recent call last)",
            "\u001b[0;32m<ipython-input-57-41117b8b6dda>\u001b[0m in \u001b[0;36m<module>\u001b[0;34m\u001b[0m\n\u001b[1;32m      9\u001b[0m train_dataset = create_training_dataset(train_file, evidence_file, 400, \n\u001b[1;32m     10\u001b[0m                                         \u001b[0misQG\u001b[0m\u001b[0;34m=\u001b[0m\u001b[0;32mFalse\u001b[0m\u001b[0;34m,\u001b[0m \u001b[0misRanking\u001b[0m\u001b[0;34m=\u001b[0m\u001b[0;32mTrue\u001b[0m\u001b[0;34m,\u001b[0m \u001b[0mbatch_sz\u001b[0m\u001b[0;34m=\u001b[0m\u001b[0;36m10\u001b[0m\u001b[0;34m,\u001b[0m\u001b[0;34m\u001b[0m\u001b[0;34m\u001b[0m\u001b[0m\n\u001b[0;32m---> 11\u001b[0;31m                                         tokenizer=tokenizer, model_ckpt=model_checkpoint)\n\u001b[0m\u001b[1;32m     12\u001b[0m \u001b[0mtrain_dataset\u001b[0m\u001b[0;34m\u001b[0m\u001b[0;34m\u001b[0m\u001b[0m\n",
            "\u001b[0;31mTypeError\u001b[0m: create_training_dataset() got an unexpected keyword argument 'model_ckpt'"
          ]
        }
      ]
    },
    {
      "cell_type": "code",
      "source": [
        "from transformers import AdamW\n",
        "from transformers import get_scheduler\n",
        "\n",
        "\n",
        "\n",
        "batch_size = 10\n",
        "train_dataloader = DataLoader(train_dataset, batch_size=10, collate_fn=data_collator, shuffle=False)\n",
        "\n",
        "truth_ix = 1176\n",
        "optimizer = AdamW(model.parameters(), lr=1e-3)\n",
        "num_epochs = 2\n",
        "num_training_steps = num_epochs * len(train_dataloader)\n",
        "lr_scheduler = get_scheduler(\n",
        "    \"linear\",\n",
        "    optimizer=optimizer,\n",
        "    num_warmup_steps=0,\n",
        "    num_training_steps=num_training_steps,\n",
        ")\n",
        "model.train()\n",
        "progress_bar = tqdm(range(num_training_steps))\n",
        "device = \"cuda:0\"\n",
        "model.to(device)\n",
        "for epoch in range(num_epochs):\n",
        "  losses = []\n",
        "  for step, batch in enumerate(train_dataloader):\n",
        "          batch = {k: v.to(device) for k, v in batch.items()}\n",
        "          outputs = model(**batch)\n",
        "          loss = outputs.loss\n",
        "          losses.append(loss)\n",
        "          loss.backward()\n",
        "\n",
        "          optimizer.step()\n",
        "          lr_scheduler.step()\n",
        "          optimizer.zero_grad()\n",
        "          progress_bar.update(1)\n",
        "\n",
        "  print(f'Train Loss in Epoch {epoch}: {sum(losses)/len(losses)}')\n",
        "  val_dataset = nq_open[\"validation\"].select(range(30,50))\n",
        "  original_recall, current_recall, loss = evaluate_recall(val_dataset, k=30, model=model,\n",
        "                                                     tokenizer=tokenizer, \n",
        "                                                     batch_size=10, \n",
        "                                                     evidence_txts = wikipedia_txt[\"train\"], \n",
        "                                                     preprocess_function=preprocess_function, \n",
        "                                                     truth_ix=truth_ix, isQG=False, isRanking=True)\n",
        "  print(f'DPR Recall @ 5: {original_recall[5]}')\n",
        "  print(f'Our Recall @ 5: {current_recall[5]}')\n",
        "  print(f'Validation Loss: {loss.item()}')\n",
        "  \n",
        "  "
      ],
      "metadata": {
        "id": "7w2kIMll8bVk"
      },
      "execution_count": null,
      "outputs": []
    },
    {
      "cell_type": "code",
      "source": [
        "wikipedia_txt"
      ],
      "metadata": {
        "id": "1A_V9cUj88fV",
        "pycharm": {
          "name": "#%%\n"
        }
      },
      "execution_count": null,
      "outputs": []
    },
    {
      "cell_type": "code",
      "source": [
        "nq_open = datasets.load_dataset(\"json\", data_files=\"downloads/data/retriever-outputs/dpr/nq-train.json\")\n"
      ],
      "metadata": {
        "id": "egdNZaJC1Bth",
        "pycharm": {
          "name": "#%%\n"
        }
      },
      "execution_count": null,
      "outputs": []
    },
    {
      "cell_type": "code",
      "source": [
        "nq_open[\"validation\"] = datasets.load_dataset(\"json\",data_files=\"downloads/data/retriever-outputs/dpr/nq-dev.json\", split=\"train\")"
      ],
      "metadata": {
        "id": "j28EJ8XgczFW",
        "pycharm": {
          "name": "#%%\n"
        }
      },
      "execution_count": null,
      "outputs": []
    },
    {
      "cell_type": "code",
      "source": [
        "def get_top_k_pos(row, k, txt_database):\n",
        "  ctxs = row[\"ctxs\"]\n",
        "  top_k = []\n",
        "  for ctx in ctxs:\n",
        "    if ctx[\"has_answer\"]:\n",
        "      text = txt_database[ctx[\"id\"] - 1][\"text\"]\n",
        "      top_k.append((text, \"true\"))\n",
        "    if len(top_k) == k:\n",
        "      break\n",
        "  if len(top_k) == 0: \n",
        "    return []\n",
        "  while len(top_k) < k:\n",
        "    top_k.extend(top_k[:(k - len(top_k))])\n",
        "\n",
        "  return top_k[:k]\n",
        "  \n",
        "def get_top_k_pos_neg(row, k, txt_database):\n",
        "  ctxs = row[\"ctxs\"]\n",
        "  top_k_pos = []\n",
        "  top_k_neg = []\n",
        "  for ctx in ctxs:\n",
        "    if ctx[\"has_answer\"] and len(top_k_pos) < k:\n",
        "      text = txt_database[ctx[\"id\"] - 1][\"text\"]\n",
        "      top_k_pos.append((text, \"true\"))\n",
        "    if not ctx[\"has_answer\"] and len(top_k_neg) < k: \n",
        "      text = txt_database[ctx[\"id\"] - 1][\"text\"]\n",
        "      top_k_neg.append((text, \"false\"))\n",
        "    if len(top_k_pos) == k and len(top_k_neg):\n",
        "      break \n",
        "  if len(top_k_pos) == 0: \n",
        "    return []\n",
        "  while len(top_k_pos) < k:\n",
        "    top_k_pos.extend(top_k_pos[:(k - len(top_k_pos))])\n",
        "  while len(top_k_neg) < k:\n",
        "    top_k_neg.extend(top_k_neg[:(k - len(top_k_neg))])\n",
        "  top_k = []\n",
        "  top_k.extend(top_k_pos[:k])\n",
        "  top_k.extend(top_k_neg[:k])\n",
        "  return top_k\n"
      ],
      "metadata": {
        "id": "l_o-aBSYY-9G",
        "pycharm": {
          "name": "#%%\n"
        }
      },
      "execution_count": 29,
      "outputs": []
    },
    {
      "cell_type": "code",
      "source": [
        "def create_pos_txt_col(example, k, txt_database):\n",
        "  return {\"pos_text\": get_top_k_pos(example, k, txt_database)}\n",
        "\n",
        "def create_pos_neg_txt_col(example, k, txt_database):\n",
        "  return {\"pos_neg_text\": get_top_k_pos_neg(example, k, txt_database)}\n"
      ],
      "metadata": {
        "id": "uG5eRvLLm0Ku",
        "pycharm": {
          "name": "#%%\n"
        }
      },
      "execution_count": 22,
      "outputs": []
    },
    {
      "cell_type": "code",
      "source": [
        "from functools import partial\n",
        "nq_open[\"train\"] = nq_open[\"train\"].map(partial(create_pos_txt_col, k=10, txt_database=wikipedia_txt[\"train\"]), num_proc=4)"
      ],
      "metadata": {
        "id": "dvVUFQ71ppEv",
        "pycharm": {
          "name": "#%%\n"
        }
      },
      "execution_count": null,
      "outputs": []
    },
    {
      "cell_type": "code",
      "source": [
        "nq_open[\"train\"] = nq_open[\"train\"].map(partial(create_pos_neg_txt_col, k=5, txt_database=wikipedia_txt[\"train\"]), num_proc=4)"
      ],
      "metadata": {
        "id": "_QHcEW_H3450",
        "pycharm": {
          "name": "#%%\n"
        }
      },
      "execution_count": null,
      "outputs": []
    },
    {
      "cell_type": "code",
      "source": [
        "nq_open[\"validation\"] = nq_open[\"validation\"].map(partial(create_pos_txt_col, k=10, txt_database=wikipedia_txt[\"train\"]), num_proc=4)\n",
        "nq_open[\"validation\"] = nq_open[\"validation\"].map(partial(create_pos_neg_txt_col, k=5, txt_database=wikipedia_txt[\"train\"]), num_proc=4)"
      ],
      "metadata": {
        "id": "43ZS8EjgBI9x",
        "pycharm": {
          "name": "#%%\n"
        }
      },
      "execution_count": null,
      "outputs": []
    },
    {
      "cell_type": "code",
      "source": [
        "from tqdm import tqdm\n",
        "def create_ranking_loss_baseline_examples(dataset, n=None):\n",
        "  if not n:\n",
        "    n = len(dataset)\n",
        "  with_answer = 0 \n",
        "  inputs = []\n",
        "  targets = []\n",
        "  for i in tqdm(range(n)):\n",
        "    texts = dataset[i][\"pos_neg_text\"]\n",
        "    if not texts: continue \n",
        "    question = dataset[i][\"question\"]\n",
        "    current_inputs = [f\"Question: {question} Passage: {text[0]} Relevant: \" for text in texts]\n",
        "    current_targets = [text[1] for text in texts]\n",
        "    inputs.extend(current_inputs)\n",
        "    targets.extend(current_targets)\n",
        "    with_answer += 1 \n",
        "  k = [len(targets)/(with_answer * 2)] * len(targets)\n",
        "  return {\"inputs\": inputs, \"targets\": targets, \"k_pos_neg\": k}\n",
        "\n",
        "def create_q_gen_baseline_examples(dataset, n=None):\n",
        "  if not n:\n",
        "    n = len(dataset)\n",
        "  inputs = []\n",
        "  targets = []\n",
        "  with_answer = 0 \n",
        "  for i in tqdm(range(n)):\n",
        "    texts = dataset[i][\"pos_text\"]\n",
        "    if not texts: continue \n",
        "    question = dataset[i][\"question\"]\n",
        "    current_inputs = [f\"Passage: {text[0]} Please write a question based on this passage\" for text in texts]\n",
        "    current_targets = [question for text in texts]\n",
        "    inputs.extend(current_inputs)\n",
        "    targets.extend(current_targets)\n",
        "    with_answer += 1     \n",
        "  k = [len(targets)/(with_answer)] * len(targets)\n",
        "  return {\"inputs\": inputs, \"targets\": targets, \"k_pos\": k}\n",
        "\n",
        "def create_q_gen_ranking_baseline_examples(dataset, n=None):\n",
        "  if not n:\n",
        "    n = len(dataset)\n",
        "  inputs = []\n",
        "  targets = []\n",
        "  with_answer = 0 \n",
        "  for i in tqdm(range(n)):\n",
        "    texts = dataset[i][\"pos_neg_text\"]\n",
        "    if not texts: continue \n",
        "    question = dataset[i][\"question\"]\n",
        "    current_inputs = [f\"Passage: {text[0]} Please write a question based on this passage\" for text in texts]\n",
        "    current_targets = [question for text in texts]\n",
        "    inputs.extend(current_inputs)\n",
        "    targets.extend(current_targets)\n",
        "    with_answer += 1   \n",
        "  k = [len(targets)/(with_answer * 2)] * len(targets)\n",
        "  return {\"inputs\": inputs, \"targets\": targets, \"k_pos_neg\": k}\n",
        "\n"
      ],
      "metadata": {
        "id": "5OOLl17P5Mxj",
        "pycharm": {
          "name": "#%%\n"
        }
      },
      "execution_count": 19,
      "outputs": []
    },
    {
      "cell_type": "code",
      "source": [
        "from transformers import AutoTokenizer, AutoModelForSeq2SeqLM, T5ForConditionalGeneration\n",
        "from utils.data_utils import create_evidence_texts, create_pos_neg_txt_col\n",
        "from functools import partial\n",
        "import datasets\n",
        "import utils.data_utils as data_utils\n",
        "import utils.train_utils as train_utils\n",
        "wikipedia_txt = create_evidence_texts('downloads/data/wikipedia-split/psgs_w100.tsv')\n",
        "tokenizer = AutoTokenizer.from_pretrained(model_checkpoint)\n",
        "nq_open = datasets.load_dataset(\"json\", data_files=\"downloads/data/retriever-outputs/dpr/nq-train.json\", split=\"train\")\n",
        "nq_open = nq_open.select(range(0,400))\n",
        "nq_open = nq_open.map(partial(data_utils.create_pos_neg_txt_col, k=10, txt_database=wikipedia_txt), num_proc=4)\n",
        "trn_function = train_utils.create_ranking_loss_baseline_examples\n",
        "train_dict = trn_function(nq_open, n=3)\n",
        "train_dataset = datasets.Dataset.from_dict(train_dict)\n",
        "train_dataset = train_dataset.map(partial(data_utils.preprocess_function, tokenizer=tokenizer, max_input_length=300, \n",
        "                                     max_target_length=50, input_col=\"inputs\"), batched=True)\n",
        "train_dataset"
      ],
      "metadata": {
        "id": "l5dXGuuNXNax",
        "pycharm": {
          "name": "#%%\n"
        },
        "outputId": "e1678dc4-2bd6-458e-d026-bc93916bc29d",
        "colab": {
          "base_uri": "https://localhost:8080/",
          "height": 319,
          "referenced_widgets": [
            "9970ea2eeb524de5859088c28d0a95cb",
            "db46b330943944b09ece822b01c129a9",
            "50d09df739174f02a50a007acc331c8e",
            "4c639666b9024cd09b19c34be7272c90",
            "6cef630ffeac4eb99796cf9eacd9d8a7",
            "58deab2c285b455c9f0548bac5dba816",
            "14cec7b8f7a340ba8c091ce3fc01ce36",
            "f792234f56424fb491ab7172362467b6",
            "058c229a8ebb4577ad81460efd8f1dc3",
            "d0e536340a2d4479a2cdbd524658c888",
            "22caa7de41ae412d883699e39ec5262d"
          ]
        }
      },
      "execution_count": 56,
      "outputs": [
        {
          "output_type": "stream",
          "name": "stderr",
          "text": [
            "WARNING:datasets.builder:Using custom data configuration default-cb3c6fef8f5e82e0\n",
            "WARNING:datasets.builder:Found cached dataset csv (/root/.cache/huggingface/datasets/csv/default-cb3c6fef8f5e82e0/0.0.0/6b34fb8fcf56f7c8ba51dc895bfa2bfbe43546f190a60fcf74bb5e8afdcc2317)\n",
            "WARNING:datasets.builder:Using custom data configuration default-a7ea593b34a6dc21\n",
            "WARNING:datasets.builder:Found cached dataset json (/root/.cache/huggingface/datasets/json/default-a7ea593b34a6dc21/0.0.0/e6070c77f18f01a5ad4551a8b7edfba20b8438b7cad4d94e6ad9378022ce4aab)\n"
          ]
        },
        {
          "output_type": "stream",
          "name": "stdout",
          "text": [
            "     "
          ]
        },
        {
          "output_type": "stream",
          "name": "stderr",
          "text": [
            "WARNING:datasets.arrow_dataset:Loading cached processed dataset at /root/.cache/huggingface/datasets/json/default-a7ea593b34a6dc21/0.0.0/e6070c77f18f01a5ad4551a8b7edfba20b8438b7cad4d94e6ad9378022ce4aab/cache-bf68a570eae539f4.arrow\n"
          ]
        },
        {
          "output_type": "stream",
          "name": "stdout",
          "text": [
            " "
          ]
        },
        {
          "output_type": "stream",
          "name": "stderr",
          "text": [
            "WARNING:datasets.arrow_dataset:Loading cached processed dataset at /root/.cache/huggingface/datasets/json/default-a7ea593b34a6dc21/0.0.0/e6070c77f18f01a5ad4551a8b7edfba20b8438b7cad4d94e6ad9378022ce4aab/cache-b54939406e77848b.arrow\n"
          ]
        },
        {
          "output_type": "stream",
          "name": "stdout",
          "text": [
            "  "
          ]
        },
        {
          "output_type": "stream",
          "name": "stderr",
          "text": [
            "WARNING:datasets.arrow_dataset:Loading cached processed dataset at /root/.cache/huggingface/datasets/json/default-a7ea593b34a6dc21/0.0.0/e6070c77f18f01a5ad4551a8b7edfba20b8438b7cad4d94e6ad9378022ce4aab/cache-2d7327a44a12b9f1.arrow\n",
            "WARNING:datasets.arrow_dataset:Loading cached processed dataset at /root/.cache/huggingface/datasets/json/default-a7ea593b34a6dc21/0.0.0/e6070c77f18f01a5ad4551a8b7edfba20b8438b7cad4d94e6ad9378022ce4aab/cache-81cf1e1711306e42.arrow\n",
            "100%|██████████| 3/3 [00:00<00:00, 73.83it/s]\n"
          ]
        },
        {
          "output_type": "display_data",
          "data": {
            "text/plain": [
              "  0%|          | 0/1 [00:00<?, ?ba/s]"
            ],
            "application/vnd.jupyter.widget-view+json": {
              "version_major": 2,
              "version_minor": 0,
              "model_id": "9970ea2eeb524de5859088c28d0a95cb"
            }
          },
          "metadata": {}
        },
        {
          "output_type": "execute_result",
          "data": {
            "text/plain": [
              "Dataset({\n",
              "    features: ['inputs', 'targets', 'k_pos_neg', 'input_ids', 'attention_mask', 'labels', 'decoder_attention_mask'],\n",
              "    num_rows: 60\n",
              "})"
            ]
          },
          "metadata": {},
          "execution_count": 56
        }
      ]
    },
    {
      "cell_type": "code",
      "source": [
        "def preprocess_function(examples, tokenizer, max_input_length, max_target_length, input_col) -> dict:\n",
        "    print(type(examples))\n",
        "    model_inputs = tokenizer(\n",
        "        examples[input_col],\n",
        "        max_length=max_input_length,\n",
        "        truncation=True,  padding=\"longest\"\n",
        "    )\n",
        "    labels = tokenizer(text_target=examples[\"targets\"], max_length=max_target_length, truncation=True,  padding=\"longest\", return_tensors=\"pt\"\n",
        "    )\n",
        "    model_inputs[\"labels\"] = labels[\"input_ids\"]\n",
        "    model_inputs[\"decoder_attention_mask\"] = labels[\"attention_mask\"]\n",
        "    return model_inputs"
      ],
      "metadata": {
        "id": "9RuEc3OMcpa9",
        "pycharm": {
          "name": "#%%\n"
        }
      },
      "execution_count": 42,
      "outputs": []
    },
    {
      "cell_type": "code",
      "source": [
        "from transformers import T5ForConditionalGeneration\n",
        "model = T5ForConditionalGeneration.from_pretrained(model_checkpoint)"
      ],
      "metadata": {
        "id": "X_LKBJeFnxVW",
        "pycharm": {
          "name": "#%%\n"
        }
      },
      "execution_count": null,
      "outputs": []
    },
    {
      "cell_type": "code",
      "source": [
        "def qg_batching(question, ctxs, has_ans, evidence_txts):\n",
        "  texts = [evidence_txts[ctx[\"id\"] - 1][\"text\"] for ctx in ctxs]\n",
        "  texts = [f\"Passage: {text} Please write a question based on this passage\" for text in texts]\n",
        "  targets = [question for text in texts]\n",
        "  eval_dataset = datasets.Dataset.from_dict({'inputs': texts, 'targets': targets})  \n",
        "  return eval_dataset\n",
        "\n",
        "def relevance_batching(question, ctxs, has_ans, evidence_txts):\n",
        "  texts = [evidence_txts[ctx[\"id\"] - 1][\"text\"] for ctx in ctxs]\n",
        "  texts = [f\"Question: {question} Passage: {text} Relevant: \" for text in texts]\n",
        "  targets = [\"true\" if ans else \"false\" for ans in has_ans]\n",
        "  new_dataset = datasets.Dataset.from_dict({'inputs': texts, 'targets': targets})\n",
        "  return new_dataset\n",
        "  \n",
        "def qg_ranking(logits, labels):\n",
        "  log_softmax = torch.nn.LogSoftmax(dim=-1)\n",
        "  log_soft = log_softmax(logits)\n",
        "  labels = labels.unsqueeze(2)\n",
        "  log_soft = log_soft.gather(2, labels).squeeze(2)\n",
        "  log_soft = log_soft.mean(dim=1)\n",
        "  return log_soft\n",
        "  \n",
        "def relevance_ranking(logits, labels, truth_ix):\n",
        "  softmax = torch.nn.Softmax(dim=-1)\n",
        "  probs = softmax(logits)\n",
        "  probs = probs[:, 0, truth_ix]\n",
        "  return probs\n",
        "\n",
        "\n"
      ],
      "metadata": {
        "id": "kNpbxTGxtJur",
        "pycharm": {
          "name": "#%%\n"
        }
      },
      "execution_count": null,
      "outputs": []
    },
    {
      "cell_type": "code",
      "source": [
        "from transformers.utils.logging import disable_progress_bar\n",
        "from transformers import DataCollatorForSeq2Seq\n",
        "from torch.utils.data import SequentialSampler, DataLoader\n",
        "import numpy as np\n",
        "def evaluate_recall(validation, k, model, tokenizer, batch_size, evidence_txts, \n",
        "                       preprocess_function, truth_ix, isRanking=False, isQG=True):\n",
        "  \n",
        "  assert k // batch_size != 0, \"k must be multiple of batch_size\"\n",
        "  assert batch_size // 2 != 0, \"Batch Size Must Be Even\"\n",
        "\n",
        "  if k < batch_size: \n",
        "    batch_size = k\n",
        "\n",
        "  original_recall = []\n",
        "  current_recall = []\n",
        "  device = \"cuda:0\" if torch.cuda.is_available() else \"cpu\"\n",
        "  model.to(device)\n",
        "  losses = []\n",
        "  for i in tqdm(range(len(validation))):\n",
        "\n",
        "    # Extract Question, Passages, and Info on Whether Passages have Answer\n",
        "    question = validation[i][\"question\"]\n",
        "    ctxs = validation[i][\"ctxs\"][:k]\n",
        "    has_ans = [ctx[\"has_answer\"] for ctx in ctxs]\n",
        "    has_ans = torch.BoolTensor(has_ans)\n",
        "\n",
        "    # Build Data as Model Expects\n",
        "    if isQG: \n",
        "      eval_dataset = qg_batching(question, ctxs, has_ans, evidence_txts)\n",
        "    else: \n",
        "      eval_dataset = relevance_batching(question, ctxs, has_ans, evidence_txts)\n",
        "\n",
        "    datasets.utils.disable_progress_bar()\n",
        "    data_collator = DataCollatorForSeq2Seq(tokenizer, model=model)\n",
        "    eval_dataset = eval_dataset.map(partial(preprocess_function, max_input_length=300,\n",
        "                                                            max_target_length=50, input_col='inputs'), \n",
        "                                    batched=True)\n",
        "\n",
        "    eval_dataset = eval_dataset.remove_columns([\"inputs\", \"targets\"])\n",
        "    eval_dataset.set_format(type=\"torch\")\n",
        "    eval_dataloader = DataLoader(eval_dataset, batch_size=batch_size, collate_fn=data_collator, shuffle=False)\n",
        "    \n",
        "    # Calculate Log Scores and Get Ranking\n",
        "    scores = []\n",
        "    model.eval()\n",
        "    for step, batch in enumerate(eval_dataloader):\n",
        "        with torch.no_grad():\n",
        "          batch = {k: v.to(device) for k, v in batch.items()}\n",
        "          outputs = model(**batch)\n",
        "          logits = outputs.logits\n",
        "          labels = batch[\"labels\"]\n",
        "          if isRanking:\n",
        "            loss = ranking_loss(logits, batch[\"labels\"], 1, \n",
        "                                batch[\"labels\"].size(dim=0))\n",
        "            losses.append(loss)\n",
        "          else: \n",
        "            losses.append(outputs.loss)\n",
        "          if isQG: \n",
        "            score = qg_ranking(logits, labels)\n",
        "          else: \n",
        "            score = relevance_ranking(logits, labels, truth_ix)\n",
        "          scores.append(score)\n",
        "    \n",
        "    scores = torch.cat(scores)\n",
        "    topk_scores, indexes = torch.topk(scores, k=len(scores))\n",
        "\n",
        "    # Collect Stats for Recall\n",
        "    ranked_answers = has_ans[indexes]\n",
        "    current_has_ans = torch.cumsum(ranked_answers, dim=0) > 0\n",
        "    original_has_ans = torch.cumsum(has_ans, dim=0) > 0\n",
        "\n",
        "    original_recall.append(original_has_ans.tolist())\n",
        "    current_recall.append(current_has_ans.tolist())\n",
        "\n",
        "  original_recall = np.mean(np.array(original_recall), axis=0)\n",
        "  current_recall = np.mean(np.array(current_recall), axis=0)\n",
        "  loss = sum(losses) / len(losses)\n",
        "  return original_recall, current_recall, loss\n",
        "\n",
        "\n",
        "\n",
        "    \n",
        "\n"
      ],
      "metadata": {
        "id": "-jitIWA7VM8K",
        "pycharm": {
          "name": "#%%\n"
        }
      },
      "execution_count": null,
      "outputs": []
    },
    {
      "cell_type": "code",
      "source": [
        "val_dataset = nq_open[\"train\"].select(range(30,50))\n",
        "original_recall, current_recall, loss = evaluate_recall(val_dataset, k=30, model=model,\n",
        "                                                     tokenizer=tokenizer, \n",
        "                                                     batch_size=10, \n",
        "                                                     evidence_txts = wikipedia_txt[\"train\"], \n",
        "                                                     preprocess_function=preprocess_function, truth_ix=1176)\n"
      ],
      "metadata": {
        "id": "ebIq1r4Ade15",
        "pycharm": {
          "name": "#%%\n"
        }
      },
      "execution_count": null,
      "outputs": []
    },
    {
      "cell_type": "code",
      "source": [
        "!nvidia-smi"
      ],
      "metadata": {
        "id": "3aU_ooTg5798",
        "pycharm": {
          "name": "#%%\n"
        }
      },
      "execution_count": null,
      "outputs": []
    },
    {
      "cell_type": "code",
      "source": [
        "def ranking_loss(outputs, labels, margin, batch_size):\n",
        "  assert batch_size // 2 != 0, \"Batch Size must be even\" \n",
        "\n",
        "  log_softmax = torch.nn.LogSoftmax(dim=-1)\n",
        "  outputs = log_softmax(outputs)\n",
        "  pos_end = batch_size // 2\n",
        "  ce_loss = torch.nn.CrossEntropyLoss()\n",
        "  pos_outputs = outputs[:pos_end, :, :]\n",
        "  neg_outputs = outputs[pos_end:, :, :]\n",
        "  flat_size = pos_outputs.size(-1)\n",
        "  pos_loss = ce_loss(pos_outputs.view(-1, flat_size), labels[:pos_end, :].view(-1))\n",
        "  neg_loss = ce_loss(neg_outputs.view(-1, flat_size), labels[pos_end:, :].view(-1))\n",
        "\n",
        "  margin_loss = torch.nn.MarginRankingLoss(margin)\n",
        "  loss = margin_loss(pos_loss, neg_loss, torch.tensor(-1))\n",
        "\n",
        "  return loss"
      ],
      "metadata": {
        "id": "miOZvT8Vvhx7",
        "pycharm": {
          "name": "#%%\n"
        }
      },
      "execution_count": null,
      "outputs": []
    },
    {
      "cell_type": "code",
      "source": [
        "from transformers import AdamW\n",
        "from transformers import get_scheduler\n",
        "train_dataset = datasets.Dataset.from_dict(create_q_gen_ranking_baseline_examples(nq_open[\"train\"].select(range(100, 500))))\n",
        "data_collator = DataCollatorForSeq2Seq(tokenizer, model=model)\n",
        "train_dataset = train_dataset.map(partial(preprocess_function, max_input_length=300,\n",
        "                                                            max_target_length=50, input_col='inputs'), \n",
        "                                    batched=True)\n",
        "\n",
        "train_dataset = train_dataset.remove_columns([\"inputs\", \"targets\", \"k_pos_neg\"])\n",
        "train_dataset.set_format(type=\"torch\")\n",
        "batch_size = 10\n",
        "train_dataloader = DataLoader(train_dataset, batch_size=batch_size, collate_fn=data_collator, shuffle=False)\n",
        "\n",
        "truth_ix = 1176\n",
        "optimizer = AdamW(model.parameters(), lr=5e-4)\n",
        "num_epochs = 3\n",
        "num_training_steps = num_epochs * len(train_dataloader)\n",
        "lr_scheduler = get_scheduler(\n",
        "    \"linear\",\n",
        "    optimizer=optimizer,\n",
        "    num_warmup_steps=0,\n",
        "    num_training_steps=num_training_steps,\n",
        ")\n",
        "model.train()\n",
        "progress_bar = tqdm(range(num_training_steps))\n",
        "device = \"cuda:0\"\n",
        "model.to(device)\n",
        "for epoch in range(num_epochs):\n",
        "  losses = []\n",
        "  for step, batch in enumerate(train_dataloader):\n",
        "          batch = {k: v.to(device) for k, v in batch.items()}\n",
        "          outputs = model(**batch)\n",
        "          logits = outputs.logits\n",
        "          loss = ranking_loss(logits, batch[\"labels\"], 1, \n",
        "                                batch[\"labels\"].size(dim=0))\n",
        "          losses.append(loss)\n",
        "          loss.backward()\n",
        "\n",
        "          optimizer.step()\n",
        "          lr_scheduler.step()\n",
        "          optimizer.zero_grad()\n",
        "          progress_bar.update(1)\n",
        "  print(f'Train Loss in Epoch {epoch}: {sum(losses)/len(losses)}')\n",
        "  val_dataset = nq_open[\"validation\"].select(range(30,50))\n",
        "  original_recall, current_recall, loss = evaluate_recall(val_dataset, k=30, model=model,\n",
        "                                                     tokenizer=tokenizer, \n",
        "                                                     batch_size=10, \n",
        "                                                     evidence_txts = wikipedia_txt[\"train\"], \n",
        "                                                     preprocess_function=preprocess_function, isRanking=True, \n",
        "                                                     truth_ix=truth_ix)\n",
        "  print(f'DPR Recall @ 5: {original_recall[5]}')\n",
        "  print(f'Our Recall @ 5: {current_recall[5]}')\n",
        "  print(f'Validation Loss: {loss.item()}')\n",
        "  \n",
        "  \n"
      ],
      "metadata": {
        "id": "wUF3LN11EUjp",
        "pycharm": {
          "name": "#%%\n"
        }
      },
      "execution_count": null,
      "outputs": []
    },
    {
      "cell_type": "code",
      "source": [],
      "metadata": {
        "id": "WspdWc1kAPT0",
        "pycharm": {
          "name": "#%%\n"
        }
      },
      "execution_count": null,
      "outputs": []
    },
    {
      "cell_type": "code",
      "source": [
        "original_recall, current_recall, loss = evaluate_recall(nq_open[\"train\"].select(range(100, 500)), k=30, model=model,\n",
        "                                                     tokenizer=tokenizer, \n",
        "                                                     batch_size=10, \n",
        "                                                     evidence_txts = wikipedia_txt[\"train\"], \n",
        "                                                     preprocess_function=preprocess_function, isQG=False, \n",
        "                                                     truth_ix=1176)\n",
        "print(original_recall, current_recall, loss)"
      ],
      "metadata": {
        "id": "WY9xKRajEU9e",
        "pycharm": {
          "name": "#%%\n"
        }
      },
      "execution_count": null,
      "outputs": []
    },
    {
      "cell_type": "code",
      "source": [
        "print(current_recall[19], original_recall[19])"
      ],
      "metadata": {
        "id": "k6SO8vFMPH9C",
        "pycharm": {
          "name": "#%%\n"
        }
      },
      "execution_count": null,
      "outputs": []
    },
    {
      "cell_type": "code",
      "source": [
        "model = T5ForConditionalGeneration.from_pretrained(model_checkpoint)\n",
        "original_recall, current_recall, loss = evaluate_recall(nq_open[\"train\"].select(range(100, 110)), k=30, model=model,\n",
        "                                                     tokenizer=tokenizer, \n",
        "                                                     batch_size=10, \n",
        "                                                     evidence_txts = wikipedia_txt[\"train\"], \n",
        "                                                     preprocess_function=preprocess_function, isQG=False,\n",
        "                                                     truth_ix=truth_ix)\n",
        "\n",
        "print(current_recall[19], original_recall[19])"
      ],
      "metadata": {
        "id": "wpakzMZjDNTy",
        "pycharm": {
          "name": "#%%\n"
        }
      },
      "execution_count": null,
      "outputs": []
    },
    {
      "cell_type": "code",
      "source": [
        "print(current_recall[19], original_recall[19], loss)"
      ],
      "metadata": {
        "id": "rQNKKtPrEVsm",
        "pycharm": {
          "name": "#%%\n"
        }
      },
      "execution_count": null,
      "outputs": []
    },
    {
      "cell_type": "code",
      "source": [
        "validation = nq_open[\"train\"].select(range(100, 110))\n",
        "truth_ix = 1176\n",
        "isQG = False\n",
        "i = 0\n",
        "k = 30\n",
        "batch_size = 10\n",
        "question = validation[i][\"question\"]\n",
        "ctxs = validation[i][\"ctxs\"][:k]\n",
        "has_ans = [ctx[\"has_answer\"] for ctx in ctxs]\n",
        "has_ans = torch.BoolTensor(has_ans)\n",
        "losses = []\n",
        "# Build Data as Model Expects\n",
        "evidence_txts = wikipedia_txt[\"train\"]\n",
        "eval_dataset = relevance_batching(question, ctxs, has_ans, evidence_txts)\n",
        "\n",
        "datasets.utils.disable_progress_bar()\n",
        "data_collator = DataCollatorForSeq2Seq(tokenizer, model=model)\n",
        "eval_dataset = eval_dataset.map(partial(preprocess_function, max_input_length=300,\n",
        "                                                        max_target_length=50, input_col='inputs'), \n",
        "                                batched=True)\n",
        "\n",
        "eval_dataset = eval_dataset.remove_columns([\"inputs\", \"targets\"])\n",
        "eval_dataset.set_format(type=\"torch\")\n",
        "eval_dataloader = DataLoader(eval_dataset, batch_size=batch_size, collate_fn=data_collator, shuffle=False)\n",
        "isRanking=False\n",
        "# Calculate Log Scores and Get Ranking\n",
        "scores = []\n",
        "model.to(device)\n",
        "model.eval()\n",
        "for step, batch in enumerate(eval_dataloader):\n",
        "    with torch.no_grad():\n",
        "      batch = {k: v.to(device) for k, v in batch.items()}\n",
        "      outputs = model(**batch)\n",
        "      logits = outputs.logits\n",
        "      labels = batch[\"labels\"]\n",
        "      print(labels)\n",
        "      if isRanking:\n",
        "        loss = ranking_loss(logits, batch[\"labels\"], 1, \n",
        "                            batch[\"labels\"].size(dim=0))\n",
        "        losses.append(loss)\n",
        "      else: \n",
        "        losses.append(outputs.loss)\n",
        "      if isQG: \n",
        "        score = qg_ranking(logits, labels)\n",
        "      else: \n",
        "        score = relevance_ranking(logits, labels, truth_ix)\n",
        "      scores.append(score)\n",
        "\n",
        "scores = torch.cat(scores)\n",
        "topk_scores, indexes = torch.topk(scores, k=len(scores))\n"
      ],
      "metadata": {
        "id": "M65Upax1a0yM",
        "pycharm": {
          "name": "#%%\n"
        }
      },
      "execution_count": null,
      "outputs": []
    },
    {
      "cell_type": "code",
      "source": [
        "scores\n",
        "print(validation[0][\"ctxs\"][:k], scores)\n",
        "print(losses)"
      ],
      "metadata": {
        "id": "llLrU82fJD2H",
        "pycharm": {
          "name": "#%%\n"
        }
      },
      "execution_count": null,
      "outputs": []
    }
  ]
}