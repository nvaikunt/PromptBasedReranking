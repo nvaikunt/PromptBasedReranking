{
  "nbformat": 4,
  "nbformat_minor": 0,
  "metadata": {
    "colab": {
      "provenance": [],
      "machine_shape": "hm",
      "authorship_tag": "ABX9TyOmQgKNeGteXsf54uz9cWvQ",
      "include_colab_link": true
    },
    "kernelspec": {
      "name": "python3",
      "display_name": "Python 3"
    },
    "language_info": {
      "name": "python"
    },
    "accelerator": "GPU",
    "widgets": {
      "application/vnd.jupyter.widget-state+json": {
        "c3b2c976537440d39654acfcb7074e56": {
          "model_module": "@jupyter-widgets/controls",
          "model_name": "HBoxModel",
          "model_module_version": "1.5.0",
          "state": {
            "_dom_classes": [],
            "_model_module": "@jupyter-widgets/controls",
            "_model_module_version": "1.5.0",
            "_model_name": "HBoxModel",
            "_view_count": null,
            "_view_module": "@jupyter-widgets/controls",
            "_view_module_version": "1.5.0",
            "_view_name": "HBoxView",
            "box_style": "",
            "children": [
              "IPY_MODEL_69ce03439b4d4d63ae9cda8dbfc7276f",
              "IPY_MODEL_e89a43a014a34a5c814d8593f21a98f2",
              "IPY_MODEL_f5e143d0d2ef4d5b94048649dc40e6a9"
            ],
            "layout": "IPY_MODEL_6338cfd6bd2d4bbe9fcda67318061800"
          }
        },
        "69ce03439b4d4d63ae9cda8dbfc7276f": {
          "model_module": "@jupyter-widgets/controls",
          "model_name": "HTMLModel",
          "model_module_version": "1.5.0",
          "state": {
            "_dom_classes": [],
            "_model_module": "@jupyter-widgets/controls",
            "_model_module_version": "1.5.0",
            "_model_name": "HTMLModel",
            "_view_count": null,
            "_view_module": "@jupyter-widgets/controls",
            "_view_module_version": "1.5.0",
            "_view_name": "HTMLView",
            "description": "",
            "description_tooltip": null,
            "layout": "IPY_MODEL_aaa46e3b4fc14c3bb14d24beb0e4ab85",
            "placeholder": "​",
            "style": "IPY_MODEL_613a516a4e7e4333a58bebdd916db901",
            "value": "Downloading data files: 100%"
          }
        },
        "e89a43a014a34a5c814d8593f21a98f2": {
          "model_module": "@jupyter-widgets/controls",
          "model_name": "FloatProgressModel",
          "model_module_version": "1.5.0",
          "state": {
            "_dom_classes": [],
            "_model_module": "@jupyter-widgets/controls",
            "_model_module_version": "1.5.0",
            "_model_name": "FloatProgressModel",
            "_view_count": null,
            "_view_module": "@jupyter-widgets/controls",
            "_view_module_version": "1.5.0",
            "_view_name": "ProgressView",
            "bar_style": "success",
            "description": "",
            "description_tooltip": null,
            "layout": "IPY_MODEL_d8902891ceda41699b187a4c0e1b695c",
            "max": 1,
            "min": 0,
            "orientation": "horizontal",
            "style": "IPY_MODEL_e6d34c2dd4ae4176af3305b1dff01438",
            "value": 1
          }
        },
        "f5e143d0d2ef4d5b94048649dc40e6a9": {
          "model_module": "@jupyter-widgets/controls",
          "model_name": "HTMLModel",
          "model_module_version": "1.5.0",
          "state": {
            "_dom_classes": [],
            "_model_module": "@jupyter-widgets/controls",
            "_model_module_version": "1.5.0",
            "_model_name": "HTMLModel",
            "_view_count": null,
            "_view_module": "@jupyter-widgets/controls",
            "_view_module_version": "1.5.0",
            "_view_name": "HTMLView",
            "description": "",
            "description_tooltip": null,
            "layout": "IPY_MODEL_9973a3c9ca1d46e5b88ea777ee379910",
            "placeholder": "​",
            "style": "IPY_MODEL_4a0228fca7b44127926997a5e3a473f9",
            "value": " 1/1 [00:00&lt;00:00, 42.51it/s]"
          }
        },
        "6338cfd6bd2d4bbe9fcda67318061800": {
          "model_module": "@jupyter-widgets/base",
          "model_name": "LayoutModel",
          "model_module_version": "1.2.0",
          "state": {
            "_model_module": "@jupyter-widgets/base",
            "_model_module_version": "1.2.0",
            "_model_name": "LayoutModel",
            "_view_count": null,
            "_view_module": "@jupyter-widgets/base",
            "_view_module_version": "1.2.0",
            "_view_name": "LayoutView",
            "align_content": null,
            "align_items": null,
            "align_self": null,
            "border": null,
            "bottom": null,
            "display": null,
            "flex": null,
            "flex_flow": null,
            "grid_area": null,
            "grid_auto_columns": null,
            "grid_auto_flow": null,
            "grid_auto_rows": null,
            "grid_column": null,
            "grid_gap": null,
            "grid_row": null,
            "grid_template_areas": null,
            "grid_template_columns": null,
            "grid_template_rows": null,
            "height": null,
            "justify_content": null,
            "justify_items": null,
            "left": null,
            "margin": null,
            "max_height": null,
            "max_width": null,
            "min_height": null,
            "min_width": null,
            "object_fit": null,
            "object_position": null,
            "order": null,
            "overflow": null,
            "overflow_x": null,
            "overflow_y": null,
            "padding": null,
            "right": null,
            "top": null,
            "visibility": null,
            "width": null
          }
        },
        "aaa46e3b4fc14c3bb14d24beb0e4ab85": {
          "model_module": "@jupyter-widgets/base",
          "model_name": "LayoutModel",
          "model_module_version": "1.2.0",
          "state": {
            "_model_module": "@jupyter-widgets/base",
            "_model_module_version": "1.2.0",
            "_model_name": "LayoutModel",
            "_view_count": null,
            "_view_module": "@jupyter-widgets/base",
            "_view_module_version": "1.2.0",
            "_view_name": "LayoutView",
            "align_content": null,
            "align_items": null,
            "align_self": null,
            "border": null,
            "bottom": null,
            "display": null,
            "flex": null,
            "flex_flow": null,
            "grid_area": null,
            "grid_auto_columns": null,
            "grid_auto_flow": null,
            "grid_auto_rows": null,
            "grid_column": null,
            "grid_gap": null,
            "grid_row": null,
            "grid_template_areas": null,
            "grid_template_columns": null,
            "grid_template_rows": null,
            "height": null,
            "justify_content": null,
            "justify_items": null,
            "left": null,
            "margin": null,
            "max_height": null,
            "max_width": null,
            "min_height": null,
            "min_width": null,
            "object_fit": null,
            "object_position": null,
            "order": null,
            "overflow": null,
            "overflow_x": null,
            "overflow_y": null,
            "padding": null,
            "right": null,
            "top": null,
            "visibility": null,
            "width": null
          }
        },
        "613a516a4e7e4333a58bebdd916db901": {
          "model_module": "@jupyter-widgets/controls",
          "model_name": "DescriptionStyleModel",
          "model_module_version": "1.5.0",
          "state": {
            "_model_module": "@jupyter-widgets/controls",
            "_model_module_version": "1.5.0",
            "_model_name": "DescriptionStyleModel",
            "_view_count": null,
            "_view_module": "@jupyter-widgets/base",
            "_view_module_version": "1.2.0",
            "_view_name": "StyleView",
            "description_width": ""
          }
        },
        "d8902891ceda41699b187a4c0e1b695c": {
          "model_module": "@jupyter-widgets/base",
          "model_name": "LayoutModel",
          "model_module_version": "1.2.0",
          "state": {
            "_model_module": "@jupyter-widgets/base",
            "_model_module_version": "1.2.0",
            "_model_name": "LayoutModel",
            "_view_count": null,
            "_view_module": "@jupyter-widgets/base",
            "_view_module_version": "1.2.0",
            "_view_name": "LayoutView",
            "align_content": null,
            "align_items": null,
            "align_self": null,
            "border": null,
            "bottom": null,
            "display": null,
            "flex": null,
            "flex_flow": null,
            "grid_area": null,
            "grid_auto_columns": null,
            "grid_auto_flow": null,
            "grid_auto_rows": null,
            "grid_column": null,
            "grid_gap": null,
            "grid_row": null,
            "grid_template_areas": null,
            "grid_template_columns": null,
            "grid_template_rows": null,
            "height": null,
            "justify_content": null,
            "justify_items": null,
            "left": null,
            "margin": null,
            "max_height": null,
            "max_width": null,
            "min_height": null,
            "min_width": null,
            "object_fit": null,
            "object_position": null,
            "order": null,
            "overflow": null,
            "overflow_x": null,
            "overflow_y": null,
            "padding": null,
            "right": null,
            "top": null,
            "visibility": null,
            "width": null
          }
        },
        "e6d34c2dd4ae4176af3305b1dff01438": {
          "model_module": "@jupyter-widgets/controls",
          "model_name": "ProgressStyleModel",
          "model_module_version": "1.5.0",
          "state": {
            "_model_module": "@jupyter-widgets/controls",
            "_model_module_version": "1.5.0",
            "_model_name": "ProgressStyleModel",
            "_view_count": null,
            "_view_module": "@jupyter-widgets/base",
            "_view_module_version": "1.2.0",
            "_view_name": "StyleView",
            "bar_color": null,
            "description_width": ""
          }
        },
        "9973a3c9ca1d46e5b88ea777ee379910": {
          "model_module": "@jupyter-widgets/base",
          "model_name": "LayoutModel",
          "model_module_version": "1.2.0",
          "state": {
            "_model_module": "@jupyter-widgets/base",
            "_model_module_version": "1.2.0",
            "_model_name": "LayoutModel",
            "_view_count": null,
            "_view_module": "@jupyter-widgets/base",
            "_view_module_version": "1.2.0",
            "_view_name": "LayoutView",
            "align_content": null,
            "align_items": null,
            "align_self": null,
            "border": null,
            "bottom": null,
            "display": null,
            "flex": null,
            "flex_flow": null,
            "grid_area": null,
            "grid_auto_columns": null,
            "grid_auto_flow": null,
            "grid_auto_rows": null,
            "grid_column": null,
            "grid_gap": null,
            "grid_row": null,
            "grid_template_areas": null,
            "grid_template_columns": null,
            "grid_template_rows": null,
            "height": null,
            "justify_content": null,
            "justify_items": null,
            "left": null,
            "margin": null,
            "max_height": null,
            "max_width": null,
            "min_height": null,
            "min_width": null,
            "object_fit": null,
            "object_position": null,
            "order": null,
            "overflow": null,
            "overflow_x": null,
            "overflow_y": null,
            "padding": null,
            "right": null,
            "top": null,
            "visibility": null,
            "width": null
          }
        },
        "4a0228fca7b44127926997a5e3a473f9": {
          "model_module": "@jupyter-widgets/controls",
          "model_name": "DescriptionStyleModel",
          "model_module_version": "1.5.0",
          "state": {
            "_model_module": "@jupyter-widgets/controls",
            "_model_module_version": "1.5.0",
            "_model_name": "DescriptionStyleModel",
            "_view_count": null,
            "_view_module": "@jupyter-widgets/base",
            "_view_module_version": "1.2.0",
            "_view_name": "StyleView",
            "description_width": ""
          }
        },
        "d4ab84a0221e404db3e700eae1f54c2f": {
          "model_module": "@jupyter-widgets/controls",
          "model_name": "HBoxModel",
          "model_module_version": "1.5.0",
          "state": {
            "_dom_classes": [],
            "_model_module": "@jupyter-widgets/controls",
            "_model_module_version": "1.5.0",
            "_model_name": "HBoxModel",
            "_view_count": null,
            "_view_module": "@jupyter-widgets/controls",
            "_view_module_version": "1.5.0",
            "_view_name": "HBoxView",
            "box_style": "",
            "children": [
              "IPY_MODEL_f3e36426a8de40dda96c281464199e49",
              "IPY_MODEL_901e942edafb468f985cf04ef5ccff23",
              "IPY_MODEL_31cdebd6a15d4ae8a36ba44ff86b3e94"
            ],
            "layout": "IPY_MODEL_54ec9271051143279a73c774fc6e89c7"
          }
        },
        "f3e36426a8de40dda96c281464199e49": {
          "model_module": "@jupyter-widgets/controls",
          "model_name": "HTMLModel",
          "model_module_version": "1.5.0",
          "state": {
            "_dom_classes": [],
            "_model_module": "@jupyter-widgets/controls",
            "_model_module_version": "1.5.0",
            "_model_name": "HTMLModel",
            "_view_count": null,
            "_view_module": "@jupyter-widgets/controls",
            "_view_module_version": "1.5.0",
            "_view_name": "HTMLView",
            "description": "",
            "description_tooltip": null,
            "layout": "IPY_MODEL_1769d7f196f04a2ebd1807b0e30afc6f",
            "placeholder": "​",
            "style": "IPY_MODEL_3b59a4ccdc8d4598b577cd0e88b13120",
            "value": "Extracting data files: 100%"
          }
        },
        "901e942edafb468f985cf04ef5ccff23": {
          "model_module": "@jupyter-widgets/controls",
          "model_name": "FloatProgressModel",
          "model_module_version": "1.5.0",
          "state": {
            "_dom_classes": [],
            "_model_module": "@jupyter-widgets/controls",
            "_model_module_version": "1.5.0",
            "_model_name": "FloatProgressModel",
            "_view_count": null,
            "_view_module": "@jupyter-widgets/controls",
            "_view_module_version": "1.5.0",
            "_view_name": "ProgressView",
            "bar_style": "success",
            "description": "",
            "description_tooltip": null,
            "layout": "IPY_MODEL_7df1ae8706774037ac851fa2756011eb",
            "max": 1,
            "min": 0,
            "orientation": "horizontal",
            "style": "IPY_MODEL_e4fe7fc4e66e4c35b3ebac0621f27e47",
            "value": 1
          }
        },
        "31cdebd6a15d4ae8a36ba44ff86b3e94": {
          "model_module": "@jupyter-widgets/controls",
          "model_name": "HTMLModel",
          "model_module_version": "1.5.0",
          "state": {
            "_dom_classes": [],
            "_model_module": "@jupyter-widgets/controls",
            "_model_module_version": "1.5.0",
            "_model_name": "HTMLModel",
            "_view_count": null,
            "_view_module": "@jupyter-widgets/controls",
            "_view_module_version": "1.5.0",
            "_view_name": "HTMLView",
            "description": "",
            "description_tooltip": null,
            "layout": "IPY_MODEL_ebae572690e340c98fb9378bc15c6180",
            "placeholder": "​",
            "style": "IPY_MODEL_787bbbb9e51b439a9e356b350a40542c",
            "value": " 1/1 [00:00&lt;00:00, 42.29it/s]"
          }
        },
        "54ec9271051143279a73c774fc6e89c7": {
          "model_module": "@jupyter-widgets/base",
          "model_name": "LayoutModel",
          "model_module_version": "1.2.0",
          "state": {
            "_model_module": "@jupyter-widgets/base",
            "_model_module_version": "1.2.0",
            "_model_name": "LayoutModel",
            "_view_count": null,
            "_view_module": "@jupyter-widgets/base",
            "_view_module_version": "1.2.0",
            "_view_name": "LayoutView",
            "align_content": null,
            "align_items": null,
            "align_self": null,
            "border": null,
            "bottom": null,
            "display": null,
            "flex": null,
            "flex_flow": null,
            "grid_area": null,
            "grid_auto_columns": null,
            "grid_auto_flow": null,
            "grid_auto_rows": null,
            "grid_column": null,
            "grid_gap": null,
            "grid_row": null,
            "grid_template_areas": null,
            "grid_template_columns": null,
            "grid_template_rows": null,
            "height": null,
            "justify_content": null,
            "justify_items": null,
            "left": null,
            "margin": null,
            "max_height": null,
            "max_width": null,
            "min_height": null,
            "min_width": null,
            "object_fit": null,
            "object_position": null,
            "order": null,
            "overflow": null,
            "overflow_x": null,
            "overflow_y": null,
            "padding": null,
            "right": null,
            "top": null,
            "visibility": null,
            "width": null
          }
        },
        "1769d7f196f04a2ebd1807b0e30afc6f": {
          "model_module": "@jupyter-widgets/base",
          "model_name": "LayoutModel",
          "model_module_version": "1.2.0",
          "state": {
            "_model_module": "@jupyter-widgets/base",
            "_model_module_version": "1.2.0",
            "_model_name": "LayoutModel",
            "_view_count": null,
            "_view_module": "@jupyter-widgets/base",
            "_view_module_version": "1.2.0",
            "_view_name": "LayoutView",
            "align_content": null,
            "align_items": null,
            "align_self": null,
            "border": null,
            "bottom": null,
            "display": null,
            "flex": null,
            "flex_flow": null,
            "grid_area": null,
            "grid_auto_columns": null,
            "grid_auto_flow": null,
            "grid_auto_rows": null,
            "grid_column": null,
            "grid_gap": null,
            "grid_row": null,
            "grid_template_areas": null,
            "grid_template_columns": null,
            "grid_template_rows": null,
            "height": null,
            "justify_content": null,
            "justify_items": null,
            "left": null,
            "margin": null,
            "max_height": null,
            "max_width": null,
            "min_height": null,
            "min_width": null,
            "object_fit": null,
            "object_position": null,
            "order": null,
            "overflow": null,
            "overflow_x": null,
            "overflow_y": null,
            "padding": null,
            "right": null,
            "top": null,
            "visibility": null,
            "width": null
          }
        },
        "3b59a4ccdc8d4598b577cd0e88b13120": {
          "model_module": "@jupyter-widgets/controls",
          "model_name": "DescriptionStyleModel",
          "model_module_version": "1.5.0",
          "state": {
            "_model_module": "@jupyter-widgets/controls",
            "_model_module_version": "1.5.0",
            "_model_name": "DescriptionStyleModel",
            "_view_count": null,
            "_view_module": "@jupyter-widgets/base",
            "_view_module_version": "1.2.0",
            "_view_name": "StyleView",
            "description_width": ""
          }
        },
        "7df1ae8706774037ac851fa2756011eb": {
          "model_module": "@jupyter-widgets/base",
          "model_name": "LayoutModel",
          "model_module_version": "1.2.0",
          "state": {
            "_model_module": "@jupyter-widgets/base",
            "_model_module_version": "1.2.0",
            "_model_name": "LayoutModel",
            "_view_count": null,
            "_view_module": "@jupyter-widgets/base",
            "_view_module_version": "1.2.0",
            "_view_name": "LayoutView",
            "align_content": null,
            "align_items": null,
            "align_self": null,
            "border": null,
            "bottom": null,
            "display": null,
            "flex": null,
            "flex_flow": null,
            "grid_area": null,
            "grid_auto_columns": null,
            "grid_auto_flow": null,
            "grid_auto_rows": null,
            "grid_column": null,
            "grid_gap": null,
            "grid_row": null,
            "grid_template_areas": null,
            "grid_template_columns": null,
            "grid_template_rows": null,
            "height": null,
            "justify_content": null,
            "justify_items": null,
            "left": null,
            "margin": null,
            "max_height": null,
            "max_width": null,
            "min_height": null,
            "min_width": null,
            "object_fit": null,
            "object_position": null,
            "order": null,
            "overflow": null,
            "overflow_x": null,
            "overflow_y": null,
            "padding": null,
            "right": null,
            "top": null,
            "visibility": null,
            "width": null
          }
        },
        "e4fe7fc4e66e4c35b3ebac0621f27e47": {
          "model_module": "@jupyter-widgets/controls",
          "model_name": "ProgressStyleModel",
          "model_module_version": "1.5.0",
          "state": {
            "_model_module": "@jupyter-widgets/controls",
            "_model_module_version": "1.5.0",
            "_model_name": "ProgressStyleModel",
            "_view_count": null,
            "_view_module": "@jupyter-widgets/base",
            "_view_module_version": "1.2.0",
            "_view_name": "StyleView",
            "bar_color": null,
            "description_width": ""
          }
        },
        "ebae572690e340c98fb9378bc15c6180": {
          "model_module": "@jupyter-widgets/base",
          "model_name": "LayoutModel",
          "model_module_version": "1.2.0",
          "state": {
            "_model_module": "@jupyter-widgets/base",
            "_model_module_version": "1.2.0",
            "_model_name": "LayoutModel",
            "_view_count": null,
            "_view_module": "@jupyter-widgets/base",
            "_view_module_version": "1.2.0",
            "_view_name": "LayoutView",
            "align_content": null,
            "align_items": null,
            "align_self": null,
            "border": null,
            "bottom": null,
            "display": null,
            "flex": null,
            "flex_flow": null,
            "grid_area": null,
            "grid_auto_columns": null,
            "grid_auto_flow": null,
            "grid_auto_rows": null,
            "grid_column": null,
            "grid_gap": null,
            "grid_row": null,
            "grid_template_areas": null,
            "grid_template_columns": null,
            "grid_template_rows": null,
            "height": null,
            "justify_content": null,
            "justify_items": null,
            "left": null,
            "margin": null,
            "max_height": null,
            "max_width": null,
            "min_height": null,
            "min_width": null,
            "object_fit": null,
            "object_position": null,
            "order": null,
            "overflow": null,
            "overflow_x": null,
            "overflow_y": null,
            "padding": null,
            "right": null,
            "top": null,
            "visibility": null,
            "width": null
          }
        },
        "787bbbb9e51b439a9e356b350a40542c": {
          "model_module": "@jupyter-widgets/controls",
          "model_name": "DescriptionStyleModel",
          "model_module_version": "1.5.0",
          "state": {
            "_model_module": "@jupyter-widgets/controls",
            "_model_module_version": "1.5.0",
            "_model_name": "DescriptionStyleModel",
            "_view_count": null,
            "_view_module": "@jupyter-widgets/base",
            "_view_module_version": "1.2.0",
            "_view_name": "StyleView",
            "description_width": ""
          }
        },
        "9822b2e4043a463da4b9fddf80fbb890": {
          "model_module": "@jupyter-widgets/controls",
          "model_name": "HBoxModel",
          "model_module_version": "1.5.0",
          "state": {
            "_dom_classes": [],
            "_model_module": "@jupyter-widgets/controls",
            "_model_module_version": "1.5.0",
            "_model_name": "HBoxModel",
            "_view_count": null,
            "_view_module": "@jupyter-widgets/controls",
            "_view_module_version": "1.5.0",
            "_view_name": "HBoxView",
            "box_style": "",
            "children": [
              "IPY_MODEL_842a1b6885cc4fadb3e7dea629d4dbce",
              "IPY_MODEL_7d75dc1897554813bc8ef8b3e525c6e9",
              "IPY_MODEL_47595c08753d4d45beb9c12f31792e05"
            ],
            "layout": "IPY_MODEL_8076a9f2e22d4b509dc55d7f7144482d"
          }
        },
        "842a1b6885cc4fadb3e7dea629d4dbce": {
          "model_module": "@jupyter-widgets/controls",
          "model_name": "HTMLModel",
          "model_module_version": "1.5.0",
          "state": {
            "_dom_classes": [],
            "_model_module": "@jupyter-widgets/controls",
            "_model_module_version": "1.5.0",
            "_model_name": "HTMLModel",
            "_view_count": null,
            "_view_module": "@jupyter-widgets/controls",
            "_view_module_version": "1.5.0",
            "_view_name": "HTMLView",
            "description": "",
            "description_tooltip": null,
            "layout": "IPY_MODEL_d4c2473f4d6e4a0bbb04bc508e5554b6",
            "placeholder": "​",
            "style": "IPY_MODEL_400742679b9c404c85c00388cbcbfcdb",
            "value": "Generating train split: "
          }
        },
        "7d75dc1897554813bc8ef8b3e525c6e9": {
          "model_module": "@jupyter-widgets/controls",
          "model_name": "FloatProgressModel",
          "model_module_version": "1.5.0",
          "state": {
            "_dom_classes": [],
            "_model_module": "@jupyter-widgets/controls",
            "_model_module_version": "1.5.0",
            "_model_name": "FloatProgressModel",
            "_view_count": null,
            "_view_module": "@jupyter-widgets/controls",
            "_view_module_version": "1.5.0",
            "_view_name": "ProgressView",
            "bar_style": "info",
            "description": "",
            "description_tooltip": null,
            "layout": "IPY_MODEL_ad4c35cda5e74c21bf343177c6ba3e4f",
            "max": 1,
            "min": 0,
            "orientation": "horizontal",
            "style": "IPY_MODEL_3ae183a5d62d405fadb3ce7c381dcaf2",
            "value": 1
          }
        },
        "47595c08753d4d45beb9c12f31792e05": {
          "model_module": "@jupyter-widgets/controls",
          "model_name": "HTMLModel",
          "model_module_version": "1.5.0",
          "state": {
            "_dom_classes": [],
            "_model_module": "@jupyter-widgets/controls",
            "_model_module_version": "1.5.0",
            "_model_name": "HTMLModel",
            "_view_count": null,
            "_view_module": "@jupyter-widgets/controls",
            "_view_module_version": "1.5.0",
            "_view_name": "HTMLView",
            "description": "",
            "description_tooltip": null,
            "layout": "IPY_MODEL_5634a57f700443138178fd9fe5aae395",
            "placeholder": "​",
            "style": "IPY_MODEL_bd31255c0a624a44b457a892604b5e7a",
            "value": " 21010000/0 [03:28&lt;00:00, 93971.64 examples/s]"
          }
        },
        "8076a9f2e22d4b509dc55d7f7144482d": {
          "model_module": "@jupyter-widgets/base",
          "model_name": "LayoutModel",
          "model_module_version": "1.2.0",
          "state": {
            "_model_module": "@jupyter-widgets/base",
            "_model_module_version": "1.2.0",
            "_model_name": "LayoutModel",
            "_view_count": null,
            "_view_module": "@jupyter-widgets/base",
            "_view_module_version": "1.2.0",
            "_view_name": "LayoutView",
            "align_content": null,
            "align_items": null,
            "align_self": null,
            "border": null,
            "bottom": null,
            "display": null,
            "flex": null,
            "flex_flow": null,
            "grid_area": null,
            "grid_auto_columns": null,
            "grid_auto_flow": null,
            "grid_auto_rows": null,
            "grid_column": null,
            "grid_gap": null,
            "grid_row": null,
            "grid_template_areas": null,
            "grid_template_columns": null,
            "grid_template_rows": null,
            "height": null,
            "justify_content": null,
            "justify_items": null,
            "left": null,
            "margin": null,
            "max_height": null,
            "max_width": null,
            "min_height": null,
            "min_width": null,
            "object_fit": null,
            "object_position": null,
            "order": null,
            "overflow": null,
            "overflow_x": null,
            "overflow_y": null,
            "padding": null,
            "right": null,
            "top": null,
            "visibility": null,
            "width": null
          }
        },
        "d4c2473f4d6e4a0bbb04bc508e5554b6": {
          "model_module": "@jupyter-widgets/base",
          "model_name": "LayoutModel",
          "model_module_version": "1.2.0",
          "state": {
            "_model_module": "@jupyter-widgets/base",
            "_model_module_version": "1.2.0",
            "_model_name": "LayoutModel",
            "_view_count": null,
            "_view_module": "@jupyter-widgets/base",
            "_view_module_version": "1.2.0",
            "_view_name": "LayoutView",
            "align_content": null,
            "align_items": null,
            "align_self": null,
            "border": null,
            "bottom": null,
            "display": null,
            "flex": null,
            "flex_flow": null,
            "grid_area": null,
            "grid_auto_columns": null,
            "grid_auto_flow": null,
            "grid_auto_rows": null,
            "grid_column": null,
            "grid_gap": null,
            "grid_row": null,
            "grid_template_areas": null,
            "grid_template_columns": null,
            "grid_template_rows": null,
            "height": null,
            "justify_content": null,
            "justify_items": null,
            "left": null,
            "margin": null,
            "max_height": null,
            "max_width": null,
            "min_height": null,
            "min_width": null,
            "object_fit": null,
            "object_position": null,
            "order": null,
            "overflow": null,
            "overflow_x": null,
            "overflow_y": null,
            "padding": null,
            "right": null,
            "top": null,
            "visibility": null,
            "width": null
          }
        },
        "400742679b9c404c85c00388cbcbfcdb": {
          "model_module": "@jupyter-widgets/controls",
          "model_name": "DescriptionStyleModel",
          "model_module_version": "1.5.0",
          "state": {
            "_model_module": "@jupyter-widgets/controls",
            "_model_module_version": "1.5.0",
            "_model_name": "DescriptionStyleModel",
            "_view_count": null,
            "_view_module": "@jupyter-widgets/base",
            "_view_module_version": "1.2.0",
            "_view_name": "StyleView",
            "description_width": ""
          }
        },
        "ad4c35cda5e74c21bf343177c6ba3e4f": {
          "model_module": "@jupyter-widgets/base",
          "model_name": "LayoutModel",
          "model_module_version": "1.2.0",
          "state": {
            "_model_module": "@jupyter-widgets/base",
            "_model_module_version": "1.2.0",
            "_model_name": "LayoutModel",
            "_view_count": null,
            "_view_module": "@jupyter-widgets/base",
            "_view_module_version": "1.2.0",
            "_view_name": "LayoutView",
            "align_content": null,
            "align_items": null,
            "align_self": null,
            "border": null,
            "bottom": null,
            "display": null,
            "flex": null,
            "flex_flow": null,
            "grid_area": null,
            "grid_auto_columns": null,
            "grid_auto_flow": null,
            "grid_auto_rows": null,
            "grid_column": null,
            "grid_gap": null,
            "grid_row": null,
            "grid_template_areas": null,
            "grid_template_columns": null,
            "grid_template_rows": null,
            "height": null,
            "justify_content": null,
            "justify_items": null,
            "left": null,
            "margin": null,
            "max_height": null,
            "max_width": null,
            "min_height": null,
            "min_width": null,
            "object_fit": null,
            "object_position": null,
            "order": null,
            "overflow": null,
            "overflow_x": null,
            "overflow_y": null,
            "padding": null,
            "right": null,
            "top": null,
            "visibility": null,
            "width": "20px"
          }
        },
        "3ae183a5d62d405fadb3ce7c381dcaf2": {
          "model_module": "@jupyter-widgets/controls",
          "model_name": "ProgressStyleModel",
          "model_module_version": "1.5.0",
          "state": {
            "_model_module": "@jupyter-widgets/controls",
            "_model_module_version": "1.5.0",
            "_model_name": "ProgressStyleModel",
            "_view_count": null,
            "_view_module": "@jupyter-widgets/base",
            "_view_module_version": "1.2.0",
            "_view_name": "StyleView",
            "bar_color": null,
            "description_width": ""
          }
        },
        "5634a57f700443138178fd9fe5aae395": {
          "model_module": "@jupyter-widgets/base",
          "model_name": "LayoutModel",
          "model_module_version": "1.2.0",
          "state": {
            "_model_module": "@jupyter-widgets/base",
            "_model_module_version": "1.2.0",
            "_model_name": "LayoutModel",
            "_view_count": null,
            "_view_module": "@jupyter-widgets/base",
            "_view_module_version": "1.2.0",
            "_view_name": "LayoutView",
            "align_content": null,
            "align_items": null,
            "align_self": null,
            "border": null,
            "bottom": null,
            "display": null,
            "flex": null,
            "flex_flow": null,
            "grid_area": null,
            "grid_auto_columns": null,
            "grid_auto_flow": null,
            "grid_auto_rows": null,
            "grid_column": null,
            "grid_gap": null,
            "grid_row": null,
            "grid_template_areas": null,
            "grid_template_columns": null,
            "grid_template_rows": null,
            "height": null,
            "justify_content": null,
            "justify_items": null,
            "left": null,
            "margin": null,
            "max_height": null,
            "max_width": null,
            "min_height": null,
            "min_width": null,
            "object_fit": null,
            "object_position": null,
            "order": null,
            "overflow": null,
            "overflow_x": null,
            "overflow_y": null,
            "padding": null,
            "right": null,
            "top": null,
            "visibility": null,
            "width": null
          }
        },
        "bd31255c0a624a44b457a892604b5e7a": {
          "model_module": "@jupyter-widgets/controls",
          "model_name": "DescriptionStyleModel",
          "model_module_version": "1.5.0",
          "state": {
            "_model_module": "@jupyter-widgets/controls",
            "_model_module_version": "1.5.0",
            "_model_name": "DescriptionStyleModel",
            "_view_count": null,
            "_view_module": "@jupyter-widgets/base",
            "_view_module_version": "1.2.0",
            "_view_name": "StyleView",
            "description_width": ""
          }
        },
        "c49e12291d464e74b1981442b1245f6e": {
          "model_module": "@jupyter-widgets/controls",
          "model_name": "HBoxModel",
          "model_module_version": "1.5.0",
          "state": {
            "_dom_classes": [],
            "_model_module": "@jupyter-widgets/controls",
            "_model_module_version": "1.5.0",
            "_model_name": "HBoxModel",
            "_view_count": null,
            "_view_module": "@jupyter-widgets/controls",
            "_view_module_version": "1.5.0",
            "_view_name": "HBoxView",
            "box_style": "",
            "children": [
              "IPY_MODEL_0c997822e00b4c629908d4777953b82d",
              "IPY_MODEL_52cc5bc3e0ad4979919f8ceadd259a3e",
              "IPY_MODEL_ac3321c555c146f4955aeabb5d285b98"
            ],
            "layout": "IPY_MODEL_82e3faccc251488fa3c5128f41b592d5"
          }
        },
        "0c997822e00b4c629908d4777953b82d": {
          "model_module": "@jupyter-widgets/controls",
          "model_name": "HTMLModel",
          "model_module_version": "1.5.0",
          "state": {
            "_dom_classes": [],
            "_model_module": "@jupyter-widgets/controls",
            "_model_module_version": "1.5.0",
            "_model_name": "HTMLModel",
            "_view_count": null,
            "_view_module": "@jupyter-widgets/controls",
            "_view_module_version": "1.5.0",
            "_view_name": "HTMLView",
            "description": "",
            "description_tooltip": null,
            "layout": "IPY_MODEL_d15a184450d947488acd5f99fc3ad960",
            "placeholder": "​",
            "style": "IPY_MODEL_6cb3c81ec1c84f89b08de60a1d988e37",
            "value": "Downloading data files: 100%"
          }
        },
        "52cc5bc3e0ad4979919f8ceadd259a3e": {
          "model_module": "@jupyter-widgets/controls",
          "model_name": "FloatProgressModel",
          "model_module_version": "1.5.0",
          "state": {
            "_dom_classes": [],
            "_model_module": "@jupyter-widgets/controls",
            "_model_module_version": "1.5.0",
            "_model_name": "FloatProgressModel",
            "_view_count": null,
            "_view_module": "@jupyter-widgets/controls",
            "_view_module_version": "1.5.0",
            "_view_name": "ProgressView",
            "bar_style": "success",
            "description": "",
            "description_tooltip": null,
            "layout": "IPY_MODEL_bd1fb3e47cf44dd6af61734e4a686662",
            "max": 1,
            "min": 0,
            "orientation": "horizontal",
            "style": "IPY_MODEL_4e7fdadde752474c9045e4aefb4f9c64",
            "value": 1
          }
        },
        "ac3321c555c146f4955aeabb5d285b98": {
          "model_module": "@jupyter-widgets/controls",
          "model_name": "HTMLModel",
          "model_module_version": "1.5.0",
          "state": {
            "_dom_classes": [],
            "_model_module": "@jupyter-widgets/controls",
            "_model_module_version": "1.5.0",
            "_model_name": "HTMLModel",
            "_view_count": null,
            "_view_module": "@jupyter-widgets/controls",
            "_view_module_version": "1.5.0",
            "_view_name": "HTMLView",
            "description": "",
            "description_tooltip": null,
            "layout": "IPY_MODEL_c5cc9d249e2e4d568df890e68952e735",
            "placeholder": "​",
            "style": "IPY_MODEL_652a7b1590ba4575b2af71e565e5967a",
            "value": " 1/1 [00:00&lt;00:00, 44.33it/s]"
          }
        },
        "82e3faccc251488fa3c5128f41b592d5": {
          "model_module": "@jupyter-widgets/base",
          "model_name": "LayoutModel",
          "model_module_version": "1.2.0",
          "state": {
            "_model_module": "@jupyter-widgets/base",
            "_model_module_version": "1.2.0",
            "_model_name": "LayoutModel",
            "_view_count": null,
            "_view_module": "@jupyter-widgets/base",
            "_view_module_version": "1.2.0",
            "_view_name": "LayoutView",
            "align_content": null,
            "align_items": null,
            "align_self": null,
            "border": null,
            "bottom": null,
            "display": null,
            "flex": null,
            "flex_flow": null,
            "grid_area": null,
            "grid_auto_columns": null,
            "grid_auto_flow": null,
            "grid_auto_rows": null,
            "grid_column": null,
            "grid_gap": null,
            "grid_row": null,
            "grid_template_areas": null,
            "grid_template_columns": null,
            "grid_template_rows": null,
            "height": null,
            "justify_content": null,
            "justify_items": null,
            "left": null,
            "margin": null,
            "max_height": null,
            "max_width": null,
            "min_height": null,
            "min_width": null,
            "object_fit": null,
            "object_position": null,
            "order": null,
            "overflow": null,
            "overflow_x": null,
            "overflow_y": null,
            "padding": null,
            "right": null,
            "top": null,
            "visibility": null,
            "width": null
          }
        },
        "d15a184450d947488acd5f99fc3ad960": {
          "model_module": "@jupyter-widgets/base",
          "model_name": "LayoutModel",
          "model_module_version": "1.2.0",
          "state": {
            "_model_module": "@jupyter-widgets/base",
            "_model_module_version": "1.2.0",
            "_model_name": "LayoutModel",
            "_view_count": null,
            "_view_module": "@jupyter-widgets/base",
            "_view_module_version": "1.2.0",
            "_view_name": "LayoutView",
            "align_content": null,
            "align_items": null,
            "align_self": null,
            "border": null,
            "bottom": null,
            "display": null,
            "flex": null,
            "flex_flow": null,
            "grid_area": null,
            "grid_auto_columns": null,
            "grid_auto_flow": null,
            "grid_auto_rows": null,
            "grid_column": null,
            "grid_gap": null,
            "grid_row": null,
            "grid_template_areas": null,
            "grid_template_columns": null,
            "grid_template_rows": null,
            "height": null,
            "justify_content": null,
            "justify_items": null,
            "left": null,
            "margin": null,
            "max_height": null,
            "max_width": null,
            "min_height": null,
            "min_width": null,
            "object_fit": null,
            "object_position": null,
            "order": null,
            "overflow": null,
            "overflow_x": null,
            "overflow_y": null,
            "padding": null,
            "right": null,
            "top": null,
            "visibility": null,
            "width": null
          }
        },
        "6cb3c81ec1c84f89b08de60a1d988e37": {
          "model_module": "@jupyter-widgets/controls",
          "model_name": "DescriptionStyleModel",
          "model_module_version": "1.5.0",
          "state": {
            "_model_module": "@jupyter-widgets/controls",
            "_model_module_version": "1.5.0",
            "_model_name": "DescriptionStyleModel",
            "_view_count": null,
            "_view_module": "@jupyter-widgets/base",
            "_view_module_version": "1.2.0",
            "_view_name": "StyleView",
            "description_width": ""
          }
        },
        "bd1fb3e47cf44dd6af61734e4a686662": {
          "model_module": "@jupyter-widgets/base",
          "model_name": "LayoutModel",
          "model_module_version": "1.2.0",
          "state": {
            "_model_module": "@jupyter-widgets/base",
            "_model_module_version": "1.2.0",
            "_model_name": "LayoutModel",
            "_view_count": null,
            "_view_module": "@jupyter-widgets/base",
            "_view_module_version": "1.2.0",
            "_view_name": "LayoutView",
            "align_content": null,
            "align_items": null,
            "align_self": null,
            "border": null,
            "bottom": null,
            "display": null,
            "flex": null,
            "flex_flow": null,
            "grid_area": null,
            "grid_auto_columns": null,
            "grid_auto_flow": null,
            "grid_auto_rows": null,
            "grid_column": null,
            "grid_gap": null,
            "grid_row": null,
            "grid_template_areas": null,
            "grid_template_columns": null,
            "grid_template_rows": null,
            "height": null,
            "justify_content": null,
            "justify_items": null,
            "left": null,
            "margin": null,
            "max_height": null,
            "max_width": null,
            "min_height": null,
            "min_width": null,
            "object_fit": null,
            "object_position": null,
            "order": null,
            "overflow": null,
            "overflow_x": null,
            "overflow_y": null,
            "padding": null,
            "right": null,
            "top": null,
            "visibility": null,
            "width": null
          }
        },
        "4e7fdadde752474c9045e4aefb4f9c64": {
          "model_module": "@jupyter-widgets/controls",
          "model_name": "ProgressStyleModel",
          "model_module_version": "1.5.0",
          "state": {
            "_model_module": "@jupyter-widgets/controls",
            "_model_module_version": "1.5.0",
            "_model_name": "ProgressStyleModel",
            "_view_count": null,
            "_view_module": "@jupyter-widgets/base",
            "_view_module_version": "1.2.0",
            "_view_name": "StyleView",
            "bar_color": null,
            "description_width": ""
          }
        },
        "c5cc9d249e2e4d568df890e68952e735": {
          "model_module": "@jupyter-widgets/base",
          "model_name": "LayoutModel",
          "model_module_version": "1.2.0",
          "state": {
            "_model_module": "@jupyter-widgets/base",
            "_model_module_version": "1.2.0",
            "_model_name": "LayoutModel",
            "_view_count": null,
            "_view_module": "@jupyter-widgets/base",
            "_view_module_version": "1.2.0",
            "_view_name": "LayoutView",
            "align_content": null,
            "align_items": null,
            "align_self": null,
            "border": null,
            "bottom": null,
            "display": null,
            "flex": null,
            "flex_flow": null,
            "grid_area": null,
            "grid_auto_columns": null,
            "grid_auto_flow": null,
            "grid_auto_rows": null,
            "grid_column": null,
            "grid_gap": null,
            "grid_row": null,
            "grid_template_areas": null,
            "grid_template_columns": null,
            "grid_template_rows": null,
            "height": null,
            "justify_content": null,
            "justify_items": null,
            "left": null,
            "margin": null,
            "max_height": null,
            "max_width": null,
            "min_height": null,
            "min_width": null,
            "object_fit": null,
            "object_position": null,
            "order": null,
            "overflow": null,
            "overflow_x": null,
            "overflow_y": null,
            "padding": null,
            "right": null,
            "top": null,
            "visibility": null,
            "width": null
          }
        },
        "652a7b1590ba4575b2af71e565e5967a": {
          "model_module": "@jupyter-widgets/controls",
          "model_name": "DescriptionStyleModel",
          "model_module_version": "1.5.0",
          "state": {
            "_model_module": "@jupyter-widgets/controls",
            "_model_module_version": "1.5.0",
            "_model_name": "DescriptionStyleModel",
            "_view_count": null,
            "_view_module": "@jupyter-widgets/base",
            "_view_module_version": "1.2.0",
            "_view_name": "StyleView",
            "description_width": ""
          }
        },
        "8b054f72316a4e3bbc658fa238142cee": {
          "model_module": "@jupyter-widgets/controls",
          "model_name": "HBoxModel",
          "model_module_version": "1.5.0",
          "state": {
            "_dom_classes": [],
            "_model_module": "@jupyter-widgets/controls",
            "_model_module_version": "1.5.0",
            "_model_name": "HBoxModel",
            "_view_count": null,
            "_view_module": "@jupyter-widgets/controls",
            "_view_module_version": "1.5.0",
            "_view_name": "HBoxView",
            "box_style": "",
            "children": [
              "IPY_MODEL_32e1913322004fc5bf47d088a061d3a8",
              "IPY_MODEL_e2fc63778cab48edbd4ad12c2dd24171",
              "IPY_MODEL_9799ae38834e4bb6b3c8b88970a34d21"
            ],
            "layout": "IPY_MODEL_5614d27907f944858957f60736945d57"
          }
        },
        "32e1913322004fc5bf47d088a061d3a8": {
          "model_module": "@jupyter-widgets/controls",
          "model_name": "HTMLModel",
          "model_module_version": "1.5.0",
          "state": {
            "_dom_classes": [],
            "_model_module": "@jupyter-widgets/controls",
            "_model_module_version": "1.5.0",
            "_model_name": "HTMLModel",
            "_view_count": null,
            "_view_module": "@jupyter-widgets/controls",
            "_view_module_version": "1.5.0",
            "_view_name": "HTMLView",
            "description": "",
            "description_tooltip": null,
            "layout": "IPY_MODEL_d3e8e88d871c49f88fb62709403d9643",
            "placeholder": "​",
            "style": "IPY_MODEL_26ad2498507443a981faa07a755f6e7e",
            "value": "Extracting data files: 100%"
          }
        },
        "e2fc63778cab48edbd4ad12c2dd24171": {
          "model_module": "@jupyter-widgets/controls",
          "model_name": "FloatProgressModel",
          "model_module_version": "1.5.0",
          "state": {
            "_dom_classes": [],
            "_model_module": "@jupyter-widgets/controls",
            "_model_module_version": "1.5.0",
            "_model_name": "FloatProgressModel",
            "_view_count": null,
            "_view_module": "@jupyter-widgets/controls",
            "_view_module_version": "1.5.0",
            "_view_name": "ProgressView",
            "bar_style": "success",
            "description": "",
            "description_tooltip": null,
            "layout": "IPY_MODEL_da0bf594708b44fa87946696c4cd2546",
            "max": 1,
            "min": 0,
            "orientation": "horizontal",
            "style": "IPY_MODEL_010f01db48624a40a0e5324532958142",
            "value": 1
          }
        },
        "9799ae38834e4bb6b3c8b88970a34d21": {
          "model_module": "@jupyter-widgets/controls",
          "model_name": "HTMLModel",
          "model_module_version": "1.5.0",
          "state": {
            "_dom_classes": [],
            "_model_module": "@jupyter-widgets/controls",
            "_model_module_version": "1.5.0",
            "_model_name": "HTMLModel",
            "_view_count": null,
            "_view_module": "@jupyter-widgets/controls",
            "_view_module_version": "1.5.0",
            "_view_name": "HTMLView",
            "description": "",
            "description_tooltip": null,
            "layout": "IPY_MODEL_872a30b83abd47ca94d2092787237a61",
            "placeholder": "​",
            "style": "IPY_MODEL_57324c5a9ca74bb6ba2d134e46714041",
            "value": " 1/1 [00:00&lt;00:00, 38.15it/s]"
          }
        },
        "5614d27907f944858957f60736945d57": {
          "model_module": "@jupyter-widgets/base",
          "model_name": "LayoutModel",
          "model_module_version": "1.2.0",
          "state": {
            "_model_module": "@jupyter-widgets/base",
            "_model_module_version": "1.2.0",
            "_model_name": "LayoutModel",
            "_view_count": null,
            "_view_module": "@jupyter-widgets/base",
            "_view_module_version": "1.2.0",
            "_view_name": "LayoutView",
            "align_content": null,
            "align_items": null,
            "align_self": null,
            "border": null,
            "bottom": null,
            "display": null,
            "flex": null,
            "flex_flow": null,
            "grid_area": null,
            "grid_auto_columns": null,
            "grid_auto_flow": null,
            "grid_auto_rows": null,
            "grid_column": null,
            "grid_gap": null,
            "grid_row": null,
            "grid_template_areas": null,
            "grid_template_columns": null,
            "grid_template_rows": null,
            "height": null,
            "justify_content": null,
            "justify_items": null,
            "left": null,
            "margin": null,
            "max_height": null,
            "max_width": null,
            "min_height": null,
            "min_width": null,
            "object_fit": null,
            "object_position": null,
            "order": null,
            "overflow": null,
            "overflow_x": null,
            "overflow_y": null,
            "padding": null,
            "right": null,
            "top": null,
            "visibility": null,
            "width": null
          }
        },
        "d3e8e88d871c49f88fb62709403d9643": {
          "model_module": "@jupyter-widgets/base",
          "model_name": "LayoutModel",
          "model_module_version": "1.2.0",
          "state": {
            "_model_module": "@jupyter-widgets/base",
            "_model_module_version": "1.2.0",
            "_model_name": "LayoutModel",
            "_view_count": null,
            "_view_module": "@jupyter-widgets/base",
            "_view_module_version": "1.2.0",
            "_view_name": "LayoutView",
            "align_content": null,
            "align_items": null,
            "align_self": null,
            "border": null,
            "bottom": null,
            "display": null,
            "flex": null,
            "flex_flow": null,
            "grid_area": null,
            "grid_auto_columns": null,
            "grid_auto_flow": null,
            "grid_auto_rows": null,
            "grid_column": null,
            "grid_gap": null,
            "grid_row": null,
            "grid_template_areas": null,
            "grid_template_columns": null,
            "grid_template_rows": null,
            "height": null,
            "justify_content": null,
            "justify_items": null,
            "left": null,
            "margin": null,
            "max_height": null,
            "max_width": null,
            "min_height": null,
            "min_width": null,
            "object_fit": null,
            "object_position": null,
            "order": null,
            "overflow": null,
            "overflow_x": null,
            "overflow_y": null,
            "padding": null,
            "right": null,
            "top": null,
            "visibility": null,
            "width": null
          }
        },
        "26ad2498507443a981faa07a755f6e7e": {
          "model_module": "@jupyter-widgets/controls",
          "model_name": "DescriptionStyleModel",
          "model_module_version": "1.5.0",
          "state": {
            "_model_module": "@jupyter-widgets/controls",
            "_model_module_version": "1.5.0",
            "_model_name": "DescriptionStyleModel",
            "_view_count": null,
            "_view_module": "@jupyter-widgets/base",
            "_view_module_version": "1.2.0",
            "_view_name": "StyleView",
            "description_width": ""
          }
        },
        "da0bf594708b44fa87946696c4cd2546": {
          "model_module": "@jupyter-widgets/base",
          "model_name": "LayoutModel",
          "model_module_version": "1.2.0",
          "state": {
            "_model_module": "@jupyter-widgets/base",
            "_model_module_version": "1.2.0",
            "_model_name": "LayoutModel",
            "_view_count": null,
            "_view_module": "@jupyter-widgets/base",
            "_view_module_version": "1.2.0",
            "_view_name": "LayoutView",
            "align_content": null,
            "align_items": null,
            "align_self": null,
            "border": null,
            "bottom": null,
            "display": null,
            "flex": null,
            "flex_flow": null,
            "grid_area": null,
            "grid_auto_columns": null,
            "grid_auto_flow": null,
            "grid_auto_rows": null,
            "grid_column": null,
            "grid_gap": null,
            "grid_row": null,
            "grid_template_areas": null,
            "grid_template_columns": null,
            "grid_template_rows": null,
            "height": null,
            "justify_content": null,
            "justify_items": null,
            "left": null,
            "margin": null,
            "max_height": null,
            "max_width": null,
            "min_height": null,
            "min_width": null,
            "object_fit": null,
            "object_position": null,
            "order": null,
            "overflow": null,
            "overflow_x": null,
            "overflow_y": null,
            "padding": null,
            "right": null,
            "top": null,
            "visibility": null,
            "width": null
          }
        },
        "010f01db48624a40a0e5324532958142": {
          "model_module": "@jupyter-widgets/controls",
          "model_name": "ProgressStyleModel",
          "model_module_version": "1.5.0",
          "state": {
            "_model_module": "@jupyter-widgets/controls",
            "_model_module_version": "1.5.0",
            "_model_name": "ProgressStyleModel",
            "_view_count": null,
            "_view_module": "@jupyter-widgets/base",
            "_view_module_version": "1.2.0",
            "_view_name": "StyleView",
            "bar_color": null,
            "description_width": ""
          }
        },
        "872a30b83abd47ca94d2092787237a61": {
          "model_module": "@jupyter-widgets/base",
          "model_name": "LayoutModel",
          "model_module_version": "1.2.0",
          "state": {
            "_model_module": "@jupyter-widgets/base",
            "_model_module_version": "1.2.0",
            "_model_name": "LayoutModel",
            "_view_count": null,
            "_view_module": "@jupyter-widgets/base",
            "_view_module_version": "1.2.0",
            "_view_name": "LayoutView",
            "align_content": null,
            "align_items": null,
            "align_self": null,
            "border": null,
            "bottom": null,
            "display": null,
            "flex": null,
            "flex_flow": null,
            "grid_area": null,
            "grid_auto_columns": null,
            "grid_auto_flow": null,
            "grid_auto_rows": null,
            "grid_column": null,
            "grid_gap": null,
            "grid_row": null,
            "grid_template_areas": null,
            "grid_template_columns": null,
            "grid_template_rows": null,
            "height": null,
            "justify_content": null,
            "justify_items": null,
            "left": null,
            "margin": null,
            "max_height": null,
            "max_width": null,
            "min_height": null,
            "min_width": null,
            "object_fit": null,
            "object_position": null,
            "order": null,
            "overflow": null,
            "overflow_x": null,
            "overflow_y": null,
            "padding": null,
            "right": null,
            "top": null,
            "visibility": null,
            "width": null
          }
        },
        "57324c5a9ca74bb6ba2d134e46714041": {
          "model_module": "@jupyter-widgets/controls",
          "model_name": "DescriptionStyleModel",
          "model_module_version": "1.5.0",
          "state": {
            "_model_module": "@jupyter-widgets/controls",
            "_model_module_version": "1.5.0",
            "_model_name": "DescriptionStyleModel",
            "_view_count": null,
            "_view_module": "@jupyter-widgets/base",
            "_view_module_version": "1.2.0",
            "_view_name": "StyleView",
            "description_width": ""
          }
        },
        "350747704ee742978401793ef15973d9": {
          "model_module": "@jupyter-widgets/controls",
          "model_name": "HBoxModel",
          "model_module_version": "1.5.0",
          "state": {
            "_dom_classes": [],
            "_model_module": "@jupyter-widgets/controls",
            "_model_module_version": "1.5.0",
            "_model_name": "HBoxModel",
            "_view_count": null,
            "_view_module": "@jupyter-widgets/controls",
            "_view_module_version": "1.5.0",
            "_view_name": "HBoxView",
            "box_style": "",
            "children": [
              "IPY_MODEL_225c1ae676964dfc82446f928581c94c",
              "IPY_MODEL_80b7583df1fd45a3b91335e406af4d46",
              "IPY_MODEL_918634009ad94768959f31850845f617"
            ],
            "layout": "IPY_MODEL_39ad96789e5943abaeadc91a5c8895ad"
          }
        },
        "225c1ae676964dfc82446f928581c94c": {
          "model_module": "@jupyter-widgets/controls",
          "model_name": "HTMLModel",
          "model_module_version": "1.5.0",
          "state": {
            "_dom_classes": [],
            "_model_module": "@jupyter-widgets/controls",
            "_model_module_version": "1.5.0",
            "_model_name": "HTMLModel",
            "_view_count": null,
            "_view_module": "@jupyter-widgets/controls",
            "_view_module_version": "1.5.0",
            "_view_name": "HTMLView",
            "description": "",
            "description_tooltip": null,
            "layout": "IPY_MODEL_4e9feeb08d0a414098804911fc33e8e9",
            "placeholder": "​",
            "style": "IPY_MODEL_526252c5da7c479a91f8b6f4dee72ba3",
            "value": "Generating train split: "
          }
        },
        "80b7583df1fd45a3b91335e406af4d46": {
          "model_module": "@jupyter-widgets/controls",
          "model_name": "FloatProgressModel",
          "model_module_version": "1.5.0",
          "state": {
            "_dom_classes": [],
            "_model_module": "@jupyter-widgets/controls",
            "_model_module_version": "1.5.0",
            "_model_name": "FloatProgressModel",
            "_view_count": null,
            "_view_module": "@jupyter-widgets/controls",
            "_view_module_version": "1.5.0",
            "_view_name": "ProgressView",
            "bar_style": "info",
            "description": "",
            "description_tooltip": null,
            "layout": "IPY_MODEL_e22ac8df58494bb1a6c0f4e8b3dafd92",
            "max": 1,
            "min": 0,
            "orientation": "horizontal",
            "style": "IPY_MODEL_7ad47742a5124ca99287141dc4b0e2a2",
            "value": 1
          }
        },
        "918634009ad94768959f31850845f617": {
          "model_module": "@jupyter-widgets/controls",
          "model_name": "HTMLModel",
          "model_module_version": "1.5.0",
          "state": {
            "_dom_classes": [],
            "_model_module": "@jupyter-widgets/controls",
            "_model_module_version": "1.5.0",
            "_model_name": "HTMLModel",
            "_view_count": null,
            "_view_module": "@jupyter-widgets/controls",
            "_view_module_version": "1.5.0",
            "_view_name": "HTMLView",
            "description": "",
            "description_tooltip": null,
            "layout": "IPY_MODEL_a2a424826509433b92041872db7c5020",
            "placeholder": "​",
            "style": "IPY_MODEL_410fedc6d8334ab4895a0638f78f64e3",
            "value": " 79168/0 [02:42&lt;00:00, 551.03 examples/s]"
          }
        },
        "39ad96789e5943abaeadc91a5c8895ad": {
          "model_module": "@jupyter-widgets/base",
          "model_name": "LayoutModel",
          "model_module_version": "1.2.0",
          "state": {
            "_model_module": "@jupyter-widgets/base",
            "_model_module_version": "1.2.0",
            "_model_name": "LayoutModel",
            "_view_count": null,
            "_view_module": "@jupyter-widgets/base",
            "_view_module_version": "1.2.0",
            "_view_name": "LayoutView",
            "align_content": null,
            "align_items": null,
            "align_self": null,
            "border": null,
            "bottom": null,
            "display": null,
            "flex": null,
            "flex_flow": null,
            "grid_area": null,
            "grid_auto_columns": null,
            "grid_auto_flow": null,
            "grid_auto_rows": null,
            "grid_column": null,
            "grid_gap": null,
            "grid_row": null,
            "grid_template_areas": null,
            "grid_template_columns": null,
            "grid_template_rows": null,
            "height": null,
            "justify_content": null,
            "justify_items": null,
            "left": null,
            "margin": null,
            "max_height": null,
            "max_width": null,
            "min_height": null,
            "min_width": null,
            "object_fit": null,
            "object_position": null,
            "order": null,
            "overflow": null,
            "overflow_x": null,
            "overflow_y": null,
            "padding": null,
            "right": null,
            "top": null,
            "visibility": null,
            "width": null
          }
        },
        "4e9feeb08d0a414098804911fc33e8e9": {
          "model_module": "@jupyter-widgets/base",
          "model_name": "LayoutModel",
          "model_module_version": "1.2.0",
          "state": {
            "_model_module": "@jupyter-widgets/base",
            "_model_module_version": "1.2.0",
            "_model_name": "LayoutModel",
            "_view_count": null,
            "_view_module": "@jupyter-widgets/base",
            "_view_module_version": "1.2.0",
            "_view_name": "LayoutView",
            "align_content": null,
            "align_items": null,
            "align_self": null,
            "border": null,
            "bottom": null,
            "display": null,
            "flex": null,
            "flex_flow": null,
            "grid_area": null,
            "grid_auto_columns": null,
            "grid_auto_flow": null,
            "grid_auto_rows": null,
            "grid_column": null,
            "grid_gap": null,
            "grid_row": null,
            "grid_template_areas": null,
            "grid_template_columns": null,
            "grid_template_rows": null,
            "height": null,
            "justify_content": null,
            "justify_items": null,
            "left": null,
            "margin": null,
            "max_height": null,
            "max_width": null,
            "min_height": null,
            "min_width": null,
            "object_fit": null,
            "object_position": null,
            "order": null,
            "overflow": null,
            "overflow_x": null,
            "overflow_y": null,
            "padding": null,
            "right": null,
            "top": null,
            "visibility": null,
            "width": null
          }
        },
        "526252c5da7c479a91f8b6f4dee72ba3": {
          "model_module": "@jupyter-widgets/controls",
          "model_name": "DescriptionStyleModel",
          "model_module_version": "1.5.0",
          "state": {
            "_model_module": "@jupyter-widgets/controls",
            "_model_module_version": "1.5.0",
            "_model_name": "DescriptionStyleModel",
            "_view_count": null,
            "_view_module": "@jupyter-widgets/base",
            "_view_module_version": "1.2.0",
            "_view_name": "StyleView",
            "description_width": ""
          }
        },
        "e22ac8df58494bb1a6c0f4e8b3dafd92": {
          "model_module": "@jupyter-widgets/base",
          "model_name": "LayoutModel",
          "model_module_version": "1.2.0",
          "state": {
            "_model_module": "@jupyter-widgets/base",
            "_model_module_version": "1.2.0",
            "_model_name": "LayoutModel",
            "_view_count": null,
            "_view_module": "@jupyter-widgets/base",
            "_view_module_version": "1.2.0",
            "_view_name": "LayoutView",
            "align_content": null,
            "align_items": null,
            "align_self": null,
            "border": null,
            "bottom": null,
            "display": null,
            "flex": null,
            "flex_flow": null,
            "grid_area": null,
            "grid_auto_columns": null,
            "grid_auto_flow": null,
            "grid_auto_rows": null,
            "grid_column": null,
            "grid_gap": null,
            "grid_row": null,
            "grid_template_areas": null,
            "grid_template_columns": null,
            "grid_template_rows": null,
            "height": null,
            "justify_content": null,
            "justify_items": null,
            "left": null,
            "margin": null,
            "max_height": null,
            "max_width": null,
            "min_height": null,
            "min_width": null,
            "object_fit": null,
            "object_position": null,
            "order": null,
            "overflow": null,
            "overflow_x": null,
            "overflow_y": null,
            "padding": null,
            "right": null,
            "top": null,
            "visibility": null,
            "width": "20px"
          }
        },
        "7ad47742a5124ca99287141dc4b0e2a2": {
          "model_module": "@jupyter-widgets/controls",
          "model_name": "ProgressStyleModel",
          "model_module_version": "1.5.0",
          "state": {
            "_model_module": "@jupyter-widgets/controls",
            "_model_module_version": "1.5.0",
            "_model_name": "ProgressStyleModel",
            "_view_count": null,
            "_view_module": "@jupyter-widgets/base",
            "_view_module_version": "1.2.0",
            "_view_name": "StyleView",
            "bar_color": null,
            "description_width": ""
          }
        },
        "a2a424826509433b92041872db7c5020": {
          "model_module": "@jupyter-widgets/base",
          "model_name": "LayoutModel",
          "model_module_version": "1.2.0",
          "state": {
            "_model_module": "@jupyter-widgets/base",
            "_model_module_version": "1.2.0",
            "_model_name": "LayoutModel",
            "_view_count": null,
            "_view_module": "@jupyter-widgets/base",
            "_view_module_version": "1.2.0",
            "_view_name": "LayoutView",
            "align_content": null,
            "align_items": null,
            "align_self": null,
            "border": null,
            "bottom": null,
            "display": null,
            "flex": null,
            "flex_flow": null,
            "grid_area": null,
            "grid_auto_columns": null,
            "grid_auto_flow": null,
            "grid_auto_rows": null,
            "grid_column": null,
            "grid_gap": null,
            "grid_row": null,
            "grid_template_areas": null,
            "grid_template_columns": null,
            "grid_template_rows": null,
            "height": null,
            "justify_content": null,
            "justify_items": null,
            "left": null,
            "margin": null,
            "max_height": null,
            "max_width": null,
            "min_height": null,
            "min_width": null,
            "object_fit": null,
            "object_position": null,
            "order": null,
            "overflow": null,
            "overflow_x": null,
            "overflow_y": null,
            "padding": null,
            "right": null,
            "top": null,
            "visibility": null,
            "width": null
          }
        },
        "410fedc6d8334ab4895a0638f78f64e3": {
          "model_module": "@jupyter-widgets/controls",
          "model_name": "DescriptionStyleModel",
          "model_module_version": "1.5.0",
          "state": {
            "_model_module": "@jupyter-widgets/controls",
            "_model_module_version": "1.5.0",
            "_model_name": "DescriptionStyleModel",
            "_view_count": null,
            "_view_module": "@jupyter-widgets/base",
            "_view_module_version": "1.2.0",
            "_view_name": "StyleView",
            "description_width": ""
          }
        }
      }
    }
  },
  "cells": [
    {
      "cell_type": "markdown",
      "metadata": {
        "id": "view-in-github",
        "colab_type": "text"
      },
      "source": [
        "<a href=\"https://colab.research.google.com/github/nvaikunt/PromptBasedReranking/blob/main/BaselineTest.ipynb\" target=\"_parent\"><img src=\"https://colab.research.google.com/assets/colab-badge.svg\" alt=\"Open In Colab\"/></a>"
      ]
    },
    {
      "cell_type": "code",
      "execution_count": null,
      "metadata": {
        "id": "Ty9kvEWUUnWA",
        "pycharm": {
          "name": "#%%\n"
        }
      },
      "outputs": [],
      "source": [
        "!git clone https://github.com/nvaikunt/PromptBasedReranking.git"
      ]
    },
    {
      "cell_type": "code",
      "source": [
        "!pip install -q condacolab\n",
        "import condacolab\n",
        "condacolab.install()"
      ],
      "metadata": {
        "id": "fyZJj4_rbt13",
        "pycharm": {
          "name": "#%%\n"
        },
        "outputId": "de41eecd-69bb-4070-9458-58272d63de92",
        "colab": {
          "base_uri": "https://localhost:8080/"
        }
      },
      "execution_count": 2,
      "outputs": [
        {
          "output_type": "stream",
          "name": "stdout",
          "text": [
            "⏬ Downloading https://github.com/jaimergp/miniforge/releases/latest/download/Mambaforge-colab-Linux-x86_64.sh...\n",
            "📦 Installing...\n",
            "📌 Adjusting configuration...\n",
            "🩹 Patching environment...\n",
            "⏲ Done in 0:00:18\n",
            "🔁 Restarting kernel...\n"
          ]
        }
      ]
    },
    {
      "cell_type": "code",
      "source": [
        "!conda --version"
      ],
      "metadata": {
        "id": "pPVDbhP4d-xX",
        "pycharm": {
          "name": "#%%\n"
        },
        "outputId": "b3a121fa-d781-40e7-9cd6-0fbd4b9609c6",
        "colab": {
          "base_uri": "https://localhost:8080/"
        }
      },
      "execution_count": 1,
      "outputs": [
        {
          "output_type": "stream",
          "name": "stdout",
          "text": [
            "conda 4.14.0\n"
          ]
        }
      ]
    },
    {
      "cell_type": "code",
      "source": [
        "%cd PromptBasedReranking/"
      ],
      "metadata": {
        "id": "aCJaFzY3cDqo",
        "pycharm": {
          "name": "#%%\n"
        },
        "outputId": "ac18ee44-6c24-42cd-c86c-36fe9eba4935",
        "colab": {
          "base_uri": "https://localhost:8080/"
        }
      },
      "execution_count": 3,
      "outputs": [
        {
          "output_type": "stream",
          "name": "stdout",
          "text": [
            "/content/PromptBasedReranking\n"
          ]
        }
      ]
    },
    {
      "cell_type": "code",
      "source": [
        "!bash setup.sh"
      ],
      "metadata": {
        "id": "a3x6GMeGey6w",
        "pycharm": {
          "name": "#%%\n"
        }
      },
      "execution_count": null,
      "outputs": []
    },
    {
      "cell_type": "code",
      "source": [
        "!conda list"
      ],
      "metadata": {
        "id": "HlXx3SNHjshq"
      },
      "execution_count": null,
      "outputs": []
    },
    {
      "cell_type": "code",
      "source": [
        "import torch\n",
        "torch.cuda.is_available()"
      ],
      "metadata": {
        "id": "IFklJTLN399-",
        "pycharm": {
          "name": "#%%\n"
        }
      },
      "execution_count": null,
      "outputs": []
    },
    {
      "cell_type": "code",
      "source": [
        "!python utils/download_dpr_data.py --resource data.wikipedia-split.psgs_w100"
      ],
      "metadata": {
        "id": "7ZhQbsuOpH7W",
        "pycharm": {
          "name": "#%%\n"
        },
        "outputId": "9d0124f6-b558-4972-be1f-1a566522fc86",
        "colab": {
          "base_uri": "https://localhost:8080/"
        }
      },
      "execution_count": 4,
      "outputs": [
        {
          "output_type": "stream",
          "name": "stdout",
          "text": [
            "Requested resource from %s https://www.dropbox.com/s/bezryc9win2bha1/psgs_w100.tar.gz\n",
            "Download root_dir %s ./\n",
            "File to be downloaded as %s /content/PromptBasedReranking/downloads/data/wikipedia-split/psgs_w100.tsv\n",
            "\n",
            "Downloaded to %s /content/PromptBasedReranking/downloads/data/wikipedia-split/psgs_w100.tar.gz\n",
            "Uncompressing %s /content/PromptBasedReranking/downloads/data/wikipedia-split/psgs_w100.tar.gz\n",
            " Saved to %s ./downloads/data/wikipedia-split\n"
          ]
        }
      ]
    },
    {
      "cell_type": "code",
      "source": [
        "!python utils/download_dpr_data.py --resource data.retriever-outputs.dpr.nq-train"
      ],
      "metadata": {
        "id": "VxlROfN2rCem",
        "pycharm": {
          "name": "#%%\n"
        },
        "outputId": "9050647a-db93-4d4f-c1da-953b2cb7ab02",
        "colab": {
          "base_uri": "https://localhost:8080/"
        }
      },
      "execution_count": 5,
      "outputs": [
        {
          "output_type": "stream",
          "name": "stdout",
          "text": [
            "Requested resource from %s https://www.dropbox.com/s/6g4erof4ifg8xea/nq-train.tar.gz\n",
            "Download root_dir %s ./\n",
            "File to be downloaded as %s /content/PromptBasedReranking/downloads/data/retriever-outputs/dpr/nq-train.json\n",
            "\n",
            "Downloaded to %s /content/PromptBasedReranking/downloads/data/retriever-outputs/dpr/nq-train.tar.gz\n",
            "Uncompressing %s /content/PromptBasedReranking/downloads/data/retriever-outputs/dpr/nq-train.tar.gz\n",
            " Saved to %s ./downloads/data/retriever-outputs/dpr\n"
          ]
        }
      ]
    },
    {
      "cell_type": "code",
      "source": [
        "!python utils/download_dpr_data.py --resource data.retriever-outputs.dpr.nq-dev"
      ],
      "metadata": {
        "id": "NdRFSl84uXvM",
        "pycharm": {
          "name": "#%%\n"
        },
        "outputId": "00dfbb88-1751-4e08-fb29-0817d2572ecb",
        "colab": {
          "base_uri": "https://localhost:8080/"
        }
      },
      "execution_count": 6,
      "outputs": [
        {
          "output_type": "stream",
          "name": "stdout",
          "text": [
            "Requested resource from %s https://www.dropbox.com/s/257quanu64w9sh0/nq-dev.tar.gz\n",
            "Download root_dir %s ./\n",
            "File to be downloaded as %s /content/PromptBasedReranking/downloads/data/retriever-outputs/dpr/nq-dev.json\n",
            "\n",
            "Downloaded to %s /content/PromptBasedReranking/downloads/data/retriever-outputs/dpr/nq-dev.tar.gz\n",
            "Uncompressing %s /content/PromptBasedReranking/downloads/data/retriever-outputs/dpr/nq-dev.tar.gz\n",
            " Saved to %s ./downloads/data/retriever-outputs/dpr\n"
          ]
        }
      ]
    },
    {
      "cell_type": "code",
      "source": [
        "!mkdir output_test"
      ],
      "metadata": {
        "id": "RB7JNA6-HKEf"
      },
      "execution_count": null,
      "outputs": []
    },
    {
      "cell_type": "code",
      "source": [
        "from huggingface_hub import notebook_login\n",
        "notebook_login()"
      ],
      "metadata": {
        "id": "lGmM6iuAN8rb"
      },
      "execution_count": null,
      "outputs": []
    },
    {
      "cell_type": "code",
      "source": [
        "!python baseline_train.py -ep 1 -lr 5e-4  -bs 10 -odir output_test \\\n",
        " -edir 'downloads/data/wikipedia-split/psgs_w100.tsv' \\\n",
        " -tdir \"downloads/data/retriever-outputs/dpr/nq-train.json\" \\\n",
        " -vdir \"downloads/data/retriever-outputs/dpr/nq-dev.json\" \\\n",
        " -trsz 200 -vlsz 20 -ngpu 1 -m \"google/t5-base-lm-adapt\""
      ],
      "metadata": {
        "id": "GY9LNb__GvV6"
      },
      "execution_count": null,
      "outputs": []
    },
    {
      "cell_type": "code",
      "source": [
        "from transformers import AutoTokenizer, T5ForConditionalGeneration\n",
        "from preprocess_data import create_training_dataset\n",
        "model_checkpoint = \"google/t5-base-lm-adapt\"\n",
        "model_checkpoint_2 = \"bigscience/T0_3B\"\n",
        "tokenizer = AutoTokenizer.from_pretrained(model_checkpoint)\n",
        "model = T5ForConditionalGeneration.from_pretrained(model_checkpoint)\n",
        "train_file = \"downloads/data/retriever-outputs/dpr/nq-train.json\"\n",
        "evidence_file = 'downloads/data/wikipedia-split/psgs_w100.tsv'\n",
        "train_dataset = create_training_dataset(train_file, evidence_file, 400, \n",
        "                                        isQG=True, isRanking=False, batch_sz=10,\n",
        "                                        tokenizer=tokenizer, map_verbose=False)\n",
        "train_dataset"
      ],
      "metadata": {
        "id": "bIXUD06o9bM7"
      },
      "execution_count": null,
      "outputs": []
    },
    {
      "cell_type": "code",
      "source": [
        "len(train_dataset[10]['decoder_attention_mask'])"
      ],
      "metadata": {
        "id": "JyPuvmgS4ZLq"
      },
      "execution_count": null,
      "outputs": []
    },
    {
      "cell_type": "code",
      "source": [
        "from transformers import DataCollatorForLanguageModeling\n",
        "data_collator = DataCollatorForSeq2Seq(tokenizer, model=model, padding=True)\n",
        "train_dataset2 = train_dataset.remove_columns([\"decoder_attention_mask\"])\n",
        "test = [train_dataset2[i] for i in range(9, 11)]\n",
        "data_collator(test)\n"
      ],
      "metadata": {
        "id": "YUez4KWP0nxO"
      },
      "execution_count": null,
      "outputs": []
    },
    {
      "cell_type": "code",
      "source": [
        "from transformers import Seq2SeqTrainingArguments, Seq2SeqTrainer\n",
        "from transformers import DataCollatorForSeq2Seq\n",
        "data_collator = DataCollatorForSeq2Seq(tokenizer, model=model, padding=\"max_length\")\n",
        "training_args = Seq2SeqTrainingArguments(\n",
        "        output_dir = 'output_test',\n",
        "        evaluation_strategy=\"epoch\",\n",
        "        learning_rate=5e-4,\n",
        "        per_device_train_batch_size=10,\n",
        "        weight_decay=.05,\n",
        "        num_train_epochs=3)\n",
        "trainer = Seq2SeqTrainer(\n",
        "            model,\n",
        "            training_args,\n",
        "            train_dataset=train_dataset,\n",
        "            data_collator=data_collator,\n",
        "            tokenizer=tokenizer\n",
        "        )\n",
        "\n",
        "trainer.train()\n"
      ],
      "metadata": {
        "id": "2xUq6XpT_QGx"
      },
      "execution_count": null,
      "outputs": []
    },
    {
      "cell_type": "code",
      "source": [
        "train_dataset[3000]['decoder_attention_mask'].size()"
      ],
      "metadata": {
        "id": "_HWKFsEIEkLM"
      },
      "execution_count": null,
      "outputs": []
    },
    {
      "cell_type": "code",
      "source": [
        "from transformers import DataCollatorWithPadding"
      ],
      "metadata": {
        "id": "IvZDf2F0Mvcb"
      },
      "execution_count": null,
      "outputs": []
    },
    {
      "cell_type": "code",
      "source": [
        "from transformers import AdamW\n",
        "from transformers import get_scheduler\n",
        "from transformers import DataCollatorWithPadding\n",
        "from torch.utils.data import DataLoader\n",
        "from tqdm import tqdm\n",
        "\n",
        "\n",
        "batch_size = 10\n",
        "data_collator = DataCollatorWithPadding(tokenizer, padding=True)\n",
        "train_dataloader = DataLoader(train_dataset, batch_size=10, collate_fn=data_collator, shuffle=True)\n",
        "truth_ix = 1176\n",
        "false_ix = 6136\n",
        "optimizer = AdamW(model.parameters(), lr=5e-4)\n",
        "num_epochs = 3\n",
        "num_training_steps = num_epochs * len(train_dataloader)\n",
        "lr_scheduler = get_scheduler(\n",
        "    \"linear\",\n",
        "    optimizer=optimizer,\n",
        "    num_warmup_steps=0,\n",
        "    num_training_steps=num_training_steps,\n",
        ")\n",
        "model.train()\n",
        "progress_bar = tqdm(range(num_training_steps))\n",
        "device = \"cuda:0\"\n",
        "model.to(device)\n",
        "model.eval\n",
        "log_softmax = torch.nn.LogSoftmax(dim=-1)\n",
        "for epoch in range(num_epochs):\n",
        "  losses = []\n",
        "  with torch.no_grad():\n",
        "    for step, batch in enumerate(train_dataloader):\n",
        "            batch = {k: v.to(device) for k, v in batch.items()}\n",
        "            outputs = model(**batch)\n",
        "            logits = outputs.logits\n",
        "            log_soft = log_softmax(logits)\n",
        "            print(log_soft[:,0,truth_ix])\n",
        "            print(log_soft[:,0,false_ix])\n",
        "            print(batch[\"labels\"])\n",
        "            loss = ranking_loss(logits, batch[\"labels\"], 1, \n",
        "                                  batch[\"labels\"].size(dim=0))\n",
        "            if step > 2: \n",
        "              break\n",
        "            losses.append(loss)\n",
        "            #loss.backward()\n",
        "\n",
        "            #optimizer.step()\n",
        "            #lr_scheduler.step()\n",
        "            #optimizer.zero_grad()\n",
        "            #progress_bar.update(1)\n",
        "  print(f'Train Loss in Epoch {epoch}: {sum(losses)/len(losses)}')\n"
      ],
      "metadata": {
        "id": "7w2kIMll8bVk"
      },
      "execution_count": null,
      "outputs": []
    },
    {
      "cell_type": "code",
      "source": [
        "import transformers\n",
        "import datasets"
      ],
      "metadata": {
        "id": "1A_V9cUj88fV",
        "pycharm": {
          "name": "#%%\n"
        }
      },
      "execution_count": 1,
      "outputs": []
    },
    {
      "cell_type": "code",
      "source": [
        "wikipedia_txt = datasets.load_dataset(\"csv\", data_files=\"downloads/data/wikipedia-split/psgs_w100.tsv\", \n",
        "                                      delimiter=\"\\t\", split=\"train\")\n",
        "nq_open = datasets.load_dataset(\"json\", data_files=\"downloads/data/retriever-outputs/dpr/nq-train.json\", split=\"train\")\n"
      ],
      "metadata": {
        "id": "egdNZaJC1Bth",
        "pycharm": {
          "name": "#%%\n"
        },
        "outputId": "1eb5e333-6272-4ff8-970c-71547194de82",
        "colab": {
          "base_uri": "https://localhost:8080/",
          "height": 340,
          "referenced_widgets": [
            "c3b2c976537440d39654acfcb7074e56",
            "69ce03439b4d4d63ae9cda8dbfc7276f",
            "e89a43a014a34a5c814d8593f21a98f2",
            "f5e143d0d2ef4d5b94048649dc40e6a9",
            "6338cfd6bd2d4bbe9fcda67318061800",
            "aaa46e3b4fc14c3bb14d24beb0e4ab85",
            "613a516a4e7e4333a58bebdd916db901",
            "d8902891ceda41699b187a4c0e1b695c",
            "e6d34c2dd4ae4176af3305b1dff01438",
            "9973a3c9ca1d46e5b88ea777ee379910",
            "4a0228fca7b44127926997a5e3a473f9",
            "d4ab84a0221e404db3e700eae1f54c2f",
            "f3e36426a8de40dda96c281464199e49",
            "901e942edafb468f985cf04ef5ccff23",
            "31cdebd6a15d4ae8a36ba44ff86b3e94",
            "54ec9271051143279a73c774fc6e89c7",
            "1769d7f196f04a2ebd1807b0e30afc6f",
            "3b59a4ccdc8d4598b577cd0e88b13120",
            "7df1ae8706774037ac851fa2756011eb",
            "e4fe7fc4e66e4c35b3ebac0621f27e47",
            "ebae572690e340c98fb9378bc15c6180",
            "787bbbb9e51b439a9e356b350a40542c",
            "9822b2e4043a463da4b9fddf80fbb890",
            "842a1b6885cc4fadb3e7dea629d4dbce",
            "7d75dc1897554813bc8ef8b3e525c6e9",
            "47595c08753d4d45beb9c12f31792e05",
            "8076a9f2e22d4b509dc55d7f7144482d",
            "d4c2473f4d6e4a0bbb04bc508e5554b6",
            "400742679b9c404c85c00388cbcbfcdb",
            "ad4c35cda5e74c21bf343177c6ba3e4f",
            "3ae183a5d62d405fadb3ce7c381dcaf2",
            "5634a57f700443138178fd9fe5aae395",
            "bd31255c0a624a44b457a892604b5e7a",
            "c49e12291d464e74b1981442b1245f6e",
            "0c997822e00b4c629908d4777953b82d",
            "52cc5bc3e0ad4979919f8ceadd259a3e",
            "ac3321c555c146f4955aeabb5d285b98",
            "82e3faccc251488fa3c5128f41b592d5",
            "d15a184450d947488acd5f99fc3ad960",
            "6cb3c81ec1c84f89b08de60a1d988e37",
            "bd1fb3e47cf44dd6af61734e4a686662",
            "4e7fdadde752474c9045e4aefb4f9c64",
            "c5cc9d249e2e4d568df890e68952e735",
            "652a7b1590ba4575b2af71e565e5967a",
            "8b054f72316a4e3bbc658fa238142cee",
            "32e1913322004fc5bf47d088a061d3a8",
            "e2fc63778cab48edbd4ad12c2dd24171",
            "9799ae38834e4bb6b3c8b88970a34d21",
            "5614d27907f944858957f60736945d57",
            "d3e8e88d871c49f88fb62709403d9643",
            "26ad2498507443a981faa07a755f6e7e",
            "da0bf594708b44fa87946696c4cd2546",
            "010f01db48624a40a0e5324532958142",
            "872a30b83abd47ca94d2092787237a61",
            "57324c5a9ca74bb6ba2d134e46714041",
            "350747704ee742978401793ef15973d9",
            "225c1ae676964dfc82446f928581c94c",
            "80b7583df1fd45a3b91335e406af4d46",
            "918634009ad94768959f31850845f617",
            "39ad96789e5943abaeadc91a5c8895ad",
            "4e9feeb08d0a414098804911fc33e8e9",
            "526252c5da7c479a91f8b6f4dee72ba3",
            "e22ac8df58494bb1a6c0f4e8b3dafd92",
            "7ad47742a5124ca99287141dc4b0e2a2",
            "a2a424826509433b92041872db7c5020",
            "410fedc6d8334ab4895a0638f78f64e3"
          ]
        }
      },
      "execution_count": 4,
      "outputs": [
        {
          "output_type": "stream",
          "name": "stderr",
          "text": [
            "WARNING:datasets.builder:Using custom data configuration default-589c639c99393fbd\n"
          ]
        },
        {
          "output_type": "stream",
          "name": "stdout",
          "text": [
            "Downloading and preparing dataset csv/default to /root/.cache/huggingface/datasets/csv/default-589c639c99393fbd/0.0.0/6b34fb8fcf56f7c8ba51dc895bfa2bfbe43546f190a60fcf74bb5e8afdcc2317...\n"
          ]
        },
        {
          "output_type": "display_data",
          "data": {
            "text/plain": [
              "Downloading data files:   0%|          | 0/1 [00:00<?, ?it/s]"
            ],
            "application/vnd.jupyter.widget-view+json": {
              "version_major": 2,
              "version_minor": 0,
              "model_id": "c3b2c976537440d39654acfcb7074e56"
            }
          },
          "metadata": {}
        },
        {
          "output_type": "display_data",
          "data": {
            "text/plain": [
              "Extracting data files:   0%|          | 0/1 [00:00<?, ?it/s]"
            ],
            "application/vnd.jupyter.widget-view+json": {
              "version_major": 2,
              "version_minor": 0,
              "model_id": "d4ab84a0221e404db3e700eae1f54c2f"
            }
          },
          "metadata": {}
        },
        {
          "output_type": "display_data",
          "data": {
            "text/plain": [
              "Generating train split: 0 examples [00:00, ? examples/s]"
            ],
            "application/vnd.jupyter.widget-view+json": {
              "version_major": 2,
              "version_minor": 0,
              "model_id": "9822b2e4043a463da4b9fddf80fbb890"
            }
          },
          "metadata": {}
        },
        {
          "output_type": "stream",
          "name": "stderr",
          "text": [
            "/usr/local/lib/python3.8/site-packages/datasets/download/streaming_download_manager.py:714: FutureWarning: the 'mangle_dupe_cols' keyword is deprecated and will be removed in a future version. Please take steps to stop the use of 'mangle_dupe_cols'\n",
            "  return pd.read_csv(xopen(filepath_or_buffer, \"rb\", use_auth_token=use_auth_token), **kwargs)\n"
          ]
        },
        {
          "output_type": "stream",
          "name": "stdout",
          "text": [
            "Dataset csv downloaded and prepared to /root/.cache/huggingface/datasets/csv/default-589c639c99393fbd/0.0.0/6b34fb8fcf56f7c8ba51dc895bfa2bfbe43546f190a60fcf74bb5e8afdcc2317. Subsequent calls will reuse this data.\n"
          ]
        },
        {
          "output_type": "stream",
          "name": "stderr",
          "text": [
            "WARNING:datasets.builder:Using custom data configuration default-9e5c05b87a372c02\n"
          ]
        },
        {
          "output_type": "stream",
          "name": "stdout",
          "text": [
            "Downloading and preparing dataset json/default to /root/.cache/huggingface/datasets/json/default-9e5c05b87a372c02/0.0.0/e6070c77f18f01a5ad4551a8b7edfba20b8438b7cad4d94e6ad9378022ce4aab...\n"
          ]
        },
        {
          "output_type": "display_data",
          "data": {
            "text/plain": [
              "Downloading data files:   0%|          | 0/1 [00:00<?, ?it/s]"
            ],
            "application/vnd.jupyter.widget-view+json": {
              "version_major": 2,
              "version_minor": 0,
              "model_id": "c49e12291d464e74b1981442b1245f6e"
            }
          },
          "metadata": {}
        },
        {
          "output_type": "display_data",
          "data": {
            "text/plain": [
              "Extracting data files:   0%|          | 0/1 [00:00<?, ?it/s]"
            ],
            "application/vnd.jupyter.widget-view+json": {
              "version_major": 2,
              "version_minor": 0,
              "model_id": "8b054f72316a4e3bbc658fa238142cee"
            }
          },
          "metadata": {}
        },
        {
          "output_type": "display_data",
          "data": {
            "text/plain": [
              "Generating train split: 0 examples [00:00, ? examples/s]"
            ],
            "application/vnd.jupyter.widget-view+json": {
              "version_major": 2,
              "version_minor": 0,
              "model_id": "350747704ee742978401793ef15973d9"
            }
          },
          "metadata": {}
        },
        {
          "output_type": "stream",
          "name": "stdout",
          "text": [
            "Dataset json downloaded and prepared to /root/.cache/huggingface/datasets/json/default-9e5c05b87a372c02/0.0.0/e6070c77f18f01a5ad4551a8b7edfba20b8438b7cad4d94e6ad9378022ce4aab. Subsequent calls will reuse this data.\n"
          ]
        }
      ]
    },
    {
      "cell_type": "code",
      "source": [
        "nq_open[\"validation\"] = datasets.load_dataset(\"json\",data_files=\"downloads/data/retriever-outputs/dpr/nq-dev.json\", split=\"train\")"
      ],
      "metadata": {
        "id": "j28EJ8XgczFW",
        "pycharm": {
          "name": "#%%\n"
        }
      },
      "execution_count": null,
      "outputs": []
    },
    {
      "cell_type": "code",
      "source": [
        "def get_top_k_pos(row, k, txt_database):\n",
        "  ctxs = row[\"ctxs\"]\n",
        "  top_k = []\n",
        "  for ctx in ctxs:\n",
        "    if ctx[\"has_answer\"]:\n",
        "      text = txt_database[ctx[\"id\"] - 1][\"text\"]\n",
        "      top_k.append((text, \"true\"))\n",
        "    if len(top_k) == k:\n",
        "      break\n",
        "  if len(top_k) == 0: \n",
        "    return []\n",
        "  while len(top_k) < k:\n",
        "    top_k.extend(top_k[:(k - len(top_k))])\n",
        "\n",
        "  return top_k[:k]\n",
        "  \n",
        "def get_top_k_pos_neg(row, k, txt_database):\n",
        "  ctxs = row[\"ctxs\"]\n",
        "  top_k_pos = []\n",
        "  top_k_neg = []\n",
        "  for ctx in ctxs:\n",
        "    if ctx[\"has_answer\"] and len(top_k_pos) < k:\n",
        "      text = txt_database[ctx[\"id\"] - 1][\"text\"]\n",
        "      top_k_pos.append((text, \"true\"))\n",
        "    if not ctx[\"has_answer\"] and len(top_k_neg) < k: \n",
        "      text = txt_database[ctx[\"id\"] - 1][\"text\"]\n",
        "      top_k_neg.append((text, \"false\"))\n",
        "    if len(top_k_pos) == k and len(top_k_neg):\n",
        "      break \n",
        "  if len(top_k_pos) == 0: \n",
        "    return []\n",
        "  while len(top_k_pos) < k:\n",
        "    top_k_pos.extend(top_k_pos[:(k - len(top_k_pos))])\n",
        "  while len(top_k_neg) < k:\n",
        "    top_k_neg.extend(top_k_neg[:(k - len(top_k_neg))])\n",
        "  top_k = []\n",
        "  top_k.extend(top_k_pos[:k])\n",
        "  top_k.extend(top_k_neg[:k])\n",
        "  return top_k\n"
      ],
      "metadata": {
        "id": "l_o-aBSYY-9G",
        "pycharm": {
          "name": "#%%\n"
        }
      },
      "execution_count": 7,
      "outputs": []
    },
    {
      "cell_type": "code",
      "source": [
        "def create_pos_txt_col(example, k, txt_database):\n",
        "  return {\"pos_text\": get_top_k_pos(example, k, txt_database)}\n",
        "\n",
        "def create_pos_neg_txt_col(example, k, txt_database):\n",
        "  return {\"pos_neg_text\": get_top_k_pos_neg(example, k, txt_database)}\n"
      ],
      "metadata": {
        "id": "uG5eRvLLm0Ku",
        "pycharm": {
          "name": "#%%\n"
        }
      },
      "execution_count": 6,
      "outputs": []
    },
    {
      "cell_type": "code",
      "source": [
        "from functools import partial\n",
        "nq_open[\"train\"] = nq_open[\"train\"].map(partial(create_pos_txt_col, k=10, txt_database=wikipedia_txt[\"train\"]), num_proc=4)"
      ],
      "metadata": {
        "id": "dvVUFQ71ppEv",
        "pycharm": {
          "name": "#%%\n"
        }
      },
      "execution_count": null,
      "outputs": []
    },
    {
      "cell_type": "code",
      "source": [
        "nq_open[\"train\"] = nq_open[\"train\"].map(partial(create_pos_neg_txt_col, k=5, txt_database=wikipedia_txt[\"train\"]), num_proc=4)"
      ],
      "metadata": {
        "id": "_QHcEW_H3450",
        "pycharm": {
          "name": "#%%\n"
        }
      },
      "execution_count": null,
      "outputs": []
    },
    {
      "cell_type": "code",
      "source": [
        "nq_open[\"validation\"] = nq_open[\"validation\"].map(partial(create_pos_txt_col, k=10, txt_database=wikipedia_txt[\"train\"]), num_proc=4)\n",
        "nq_open[\"validation\"] = nq_open[\"validation\"].map(partial(create_pos_neg_txt_col, k=5, txt_database=wikipedia_txt[\"train\"]), num_proc=4)"
      ],
      "metadata": {
        "id": "43ZS8EjgBI9x",
        "pycharm": {
          "name": "#%%\n"
        }
      },
      "execution_count": null,
      "outputs": []
    },
    {
      "cell_type": "code",
      "source": [
        "from tqdm import tqdm\n",
        "def create_ranking_loss_baseline_examples(dataset, n=None):\n",
        "  if not n:\n",
        "    n = len(dataset)\n",
        "  with_answer = 0 \n",
        "  inputs = []\n",
        "  targets = []\n",
        "  for i in tqdm(range(n)):\n",
        "    texts = dataset[i][\"pos_neg_text\"]\n",
        "    if not texts: continue \n",
        "    question = dataset[i][\"question\"]\n",
        "    current_inputs = [f\"Question: {question} Passage: {text[0]} Relevant: \" for text in texts]\n",
        "    current_targets = [text[1] for text in texts]\n",
        "    inputs.extend(current_inputs)\n",
        "    targets.extend(current_targets)\n",
        "    with_answer += 1 \n",
        "  k = [len(targets)/(with_answer * 2)] * len(targets)\n",
        "  return {\"inputs\": inputs, \"targets\": targets, \"k_pos_neg\": k}\n",
        "\n",
        "def create_q_gen_baseline_examples(dataset, n=None):\n",
        "  if not n:\n",
        "    n = len(dataset)\n",
        "  inputs = []\n",
        "  targets = []\n",
        "  with_answer = 0 \n",
        "  for i in tqdm(range(n)):\n",
        "    texts = dataset[i][\"pos_text\"]\n",
        "    if not texts: continue \n",
        "    question = dataset[i][\"question\"]\n",
        "    current_inputs = [f\"Passage: {text[0]} Please write a question based on this passage\" for text in texts]\n",
        "    current_targets = [question for text in texts]\n",
        "    inputs.extend(current_inputs)\n",
        "    targets.extend(current_targets)\n",
        "    with_answer += 1     \n",
        "  k = [len(targets)/(with_answer)] * len(targets)\n",
        "  return {\"inputs\": inputs, \"targets\": targets, \"k_pos\": k}\n",
        "\n",
        "def create_q_gen_ranking_baseline_examples(dataset, n=None):\n",
        "  if not n:\n",
        "    n = len(dataset)\n",
        "  inputs = []\n",
        "  targets = []\n",
        "  with_answer = 0 \n",
        "  for i in tqdm(range(n)):\n",
        "    texts = dataset[i][\"pos_neg_text\"]\n",
        "    if not texts: continue \n",
        "    question = dataset[i][\"question\"]\n",
        "    current_inputs = [f\"Passage: {text[0]} Please write a question based on this passage\" for text in texts]\n",
        "    current_targets = [question for text in texts]\n",
        "    inputs.extend(current_inputs)\n",
        "    targets.extend(current_targets)\n",
        "    with_answer += 1   \n",
        "  k = [len(targets)/(with_answer * 2)] * len(targets)\n",
        "  return {\"inputs\": inputs, \"targets\": targets, \"k_pos_neg\": k}\n",
        "\n"
      ],
      "metadata": {
        "id": "5OOLl17P5Mxj",
        "pycharm": {
          "name": "#%%\n"
        }
      },
      "execution_count": 8,
      "outputs": []
    },
    {
      "cell_type": "code",
      "source": [
        "from transformers import AutoTokenizer, AutoModelForSeq2SeqLM, T5ForConditionalGeneration\n",
        "from utils.data_utils import create_evidence_texts, create_pos_neg_txt_col\n",
        "from functools import partial\n",
        "import datasets\n",
        "import utils.data_utils as data_utils\n",
        "import utils.train_utils as train_utils\n",
        "wikipedia_txt = create_evidence_texts('downloads/data/wikipedia-split/psgs_w100.tsv')\n",
        "tokenizer = AutoTokenizer.from_pretrained(model_checkpoint)\n",
        "nq_open = datasets.load_dataset(\"json\", data_files=\"downloads/data/retriever-outputs/dpr/nq-train.json\", split=\"train\")\n",
        "nq_open = nq_open.select(range(0,400))\n",
        "nq_open = nq_open.map(partial(data_utils.create_pos_neg_txt_col, k=10, txt_database=wikipedia_txt), num_proc=4)\n",
        "trn_function = train_utils.create_ranking_loss_baseline_examples\n",
        "train_dict = trn_function(nq_open, n=3)\n",
        "train_dataset = datasets.Dataset.from_dict(train_dict)\n",
        "train_dataset = train_dataset.map(partial(data_utils.preprocess_function, tokenizer=tokenizer, max_input_length=300, \n",
        "                                     max_target_length=50, input_col=\"inputs\"), batched=True)\n",
        "train_dataset"
      ],
      "metadata": {
        "id": "l5dXGuuNXNax",
        "pycharm": {
          "name": "#%%\n"
        }
      },
      "execution_count": null,
      "outputs": []
    },
    {
      "cell_type": "code",
      "source": [
        "def preprocess_function(examples, tokenizer, max_input_length, max_target_length, input_col) -> dict:\n",
        "    model_inputs = tokenizer(\n",
        "        examples[input_col],\n",
        "        max_length=max_input_length,\n",
        "        truncation=True,  padding=\"longest\"\n",
        "    )\n",
        "    labels = tokenizer(text_target=examples[\"targets\"], max_length=max_target_length, truncation=True,  padding=\"longest\", return_tensors=\"pt\"\n",
        "    )\n",
        "    model_inputs[\"labels\"] = labels[\"input_ids\"]\n",
        "    model_inputs[\"decoder_attention_mask\"] = labels[\"attention_mask\"]\n",
        "    return model_inputs"
      ],
      "metadata": {
        "id": "9RuEc3OMcpa9",
        "pycharm": {
          "name": "#%%\n"
        }
      },
      "execution_count": null,
      "outputs": []
    },
    {
      "cell_type": "code",
      "source": [
        "from transformers import T5ForConditionalGeneration\n",
        "model = T5ForConditionalGeneration.from_pretrained(model_checkpoint)"
      ],
      "metadata": {
        "id": "X_LKBJeFnxVW",
        "pycharm": {
          "name": "#%%\n"
        }
      },
      "execution_count": null,
      "outputs": []
    },
    {
      "cell_type": "code",
      "source": [
        "def qg_batching(question, ctxs, has_ans, evidence_txts):\n",
        "  texts = [evidence_txts[ctx[\"id\"] - 1][\"text\"] for ctx in ctxs]\n",
        "  texts = [f\"Passage: {text} Please write a question based on this passage\" for text in texts]\n",
        "  targets = [question for text in texts]\n",
        "  eval_dataset = datasets.Dataset.from_dict({'inputs': texts, 'targets': targets})  \n",
        "  return eval_dataset\n",
        "\n",
        "def relevance_batching(question, ctxs, has_ans, evidence_txts):\n",
        "  texts = [evidence_txts[ctx[\"id\"] - 1][\"text\"] for ctx in ctxs]\n",
        "  texts = [f\"Question: {question} Passage: {text} Relevant: \" for text in texts]\n",
        "  targets = [\"true\" if ans else \"false\" for ans in has_ans]\n",
        "  new_dataset = datasets.Dataset.from_dict({'inputs': texts, 'targets': targets})\n",
        "  return new_dataset\n",
        "  \n",
        "def qg_ranking(logits, labels):\n",
        "  log_softmax = torch.nn.LogSoftmax(dim=-1)\n",
        "  log_soft = log_softmax(logits)\n",
        "  labels = labels.unsqueeze(2)\n",
        "  log_soft = log_soft.gather(2, labels).squeeze(2)\n",
        "  log_soft = log_soft.mean(dim=1)\n",
        "  return log_soft\n",
        "  \n",
        "def relevance_ranking(logits, labels, truth_ix):\n",
        "  softmax = torch.nn.Softmax(dim=-1)\n",
        "  probs = softmax(logits)\n",
        "  probs = probs[:, 0, truth_ix]\n",
        "  return probs\n",
        "\n",
        "\n"
      ],
      "metadata": {
        "id": "kNpbxTGxtJur",
        "pycharm": {
          "name": "#%%\n"
        }
      },
      "execution_count": null,
      "outputs": []
    },
    {
      "cell_type": "code",
      "source": [
        "from transformers.utils.logging import disable_progress_bar\n",
        "from transformers import DataCollatorForSeq2Seq\n",
        "from torch.utils.data import SequentialSampler, DataLoader\n",
        "import numpy as np\n",
        "def evaluate_recall(validation, k, model, tokenizer, batch_size, evidence_txts, \n",
        "                       preprocess_function, truth_ix, isRanking=False, isQG=True):\n",
        "  \n",
        "  assert k // batch_size != 0, \"k must be multiple of batch_size\"\n",
        "  assert batch_size // 2 != 0, \"Batch Size Must Be Even\"\n",
        "\n",
        "  if k < batch_size: \n",
        "    batch_size = k\n",
        "\n",
        "  original_recall = []\n",
        "  current_recall = []\n",
        "  device = \"cuda:0\" if torch.cuda.is_available() else \"cpu\"\n",
        "  model.to(device)\n",
        "  losses = []\n",
        "  for i in tqdm(range(len(validation))):\n",
        "\n",
        "    # Extract Question, Passages, and Info on Whether Passages have Answer\n",
        "    question = validation[i][\"question\"]\n",
        "    ctxs = validation[i][\"ctxs\"][:k]\n",
        "    has_ans = [ctx[\"has_answer\"] for ctx in ctxs]\n",
        "    has_ans = torch.BoolTensor(has_ans)\n",
        "\n",
        "    # Build Data as Model Expects\n",
        "    if isQG: \n",
        "      eval_dataset = qg_batching(question, ctxs, has_ans, evidence_txts)\n",
        "    else: \n",
        "      eval_dataset = relevance_batching(question, ctxs, has_ans, evidence_txts)\n",
        "\n",
        "    datasets.utils.disable_progress_bar()\n",
        "    data_collator = DataCollatorForSeq2Seq(tokenizer, model=model)\n",
        "    eval_dataset = eval_dataset.map(partial(preprocess_function, max_input_length=300,\n",
        "                                                            max_target_length=50, input_col='inputs'), \n",
        "                                    batched=True)\n",
        "\n",
        "    eval_dataset = eval_dataset.remove_columns([\"inputs\", \"targets\"])\n",
        "    eval_dataset.set_format(type=\"torch\")\n",
        "    eval_dataloader = DataLoader(eval_dataset, batch_size=batch_size, collate_fn=data_collator, shuffle=False)\n",
        "    \n",
        "    # Calculate Log Scores and Get Ranking\n",
        "    scores = []\n",
        "    model.eval()\n",
        "    for step, batch in enumerate(eval_dataloader):\n",
        "        with torch.no_grad():\n",
        "          batch = {k: v.to(device) for k, v in batch.items()}\n",
        "          outputs = model(**batch)\n",
        "          logits = outputs.logits\n",
        "          labels = batch[\"labels\"]\n",
        "          if isRanking:\n",
        "            loss = ranking_loss(logits, batch[\"labels\"], 1, \n",
        "                                batch[\"labels\"].size(dim=0))\n",
        "            losses.append(loss)\n",
        "          else: \n",
        "            losses.append(outputs.loss)\n",
        "          if isQG: \n",
        "            score = qg_ranking(logits, labels)\n",
        "          else: \n",
        "            score = relevance_ranking(logits, labels, truth_ix)\n",
        "          scores.append(score)\n",
        "    \n",
        "    scores = torch.cat(scores)\n",
        "    topk_scores, indexes = torch.topk(scores, k=len(scores))\n",
        "\n",
        "    # Collect Stats for Recall\n",
        "    ranked_answers = has_ans[indexes]\n",
        "    current_has_ans = torch.cumsum(ranked_answers, dim=0) > 0\n",
        "    original_has_ans = torch.cumsum(has_ans, dim=0) > 0\n",
        "\n",
        "    original_recall.append(original_has_ans.tolist())\n",
        "    current_recall.append(current_has_ans.tolist())\n",
        "\n",
        "  original_recall = np.mean(np.array(original_recall), axis=0)\n",
        "  current_recall = np.mean(np.array(current_recall), axis=0)\n",
        "  loss = sum(losses) / len(losses)\n",
        "  return original_recall, current_recall, loss\n",
        "\n",
        "\n",
        "\n",
        "    \n",
        "\n"
      ],
      "metadata": {
        "id": "-jitIWA7VM8K",
        "pycharm": {
          "name": "#%%\n"
        }
      },
      "execution_count": null,
      "outputs": []
    },
    {
      "cell_type": "code",
      "source": [
        "val_dataset = nq_open[\"train\"].select(range(30,50))\n",
        "original_recall, current_recall, loss = evaluate_recall(val_dataset, k=30, model=model,\n",
        "                                                     tokenizer=tokenizer, \n",
        "                                                     batch_size=10, \n",
        "                                                     evidence_txts = wikipedia_txt[\"train\"], \n",
        "                                                     preprocess_function=preprocess_function, truth_ix=1176)\n"
      ],
      "metadata": {
        "id": "ebIq1r4Ade15",
        "pycharm": {
          "name": "#%%\n"
        }
      },
      "execution_count": null,
      "outputs": []
    },
    {
      "cell_type": "code",
      "source": [
        "!nvidia-smi"
      ],
      "metadata": {
        "id": "3aU_ooTg5798",
        "pycharm": {
          "name": "#%%\n"
        }
      },
      "execution_count": null,
      "outputs": []
    },
    {
      "cell_type": "code",
      "source": [
        "def ranking_loss(outputs, labels, margin, batch_size):\n",
        "  assert batch_size // 2 != 0, \"Batch Size must be even\" \n",
        "\n",
        "  log_softmax = torch.nn.LogSoftmax(dim=-1)\n",
        "  outputs = log_softmax(outputs)\n",
        "  pos_end = batch_size // 2\n",
        "  ce_loss = torch.nn.CrossEntropyLoss()\n",
        "  pos_outputs = outputs[:pos_end, :, :]\n",
        "  neg_outputs = outputs[pos_end:, :, :]\n",
        "  print(pos_outputs.size(), neg_outputs.size())\n",
        "  flat_size = pos_outputs.size(-1)\n",
        "  pos_loss = ce_loss(pos_outputs.view(-1, flat_size), labels[:pos_end, :].view(-1))\n",
        "  neg_loss = ce_loss(neg_outputs.view(-1, flat_size), labels[pos_end:, :].view(-1))\n",
        "  print(pos_loss)\n",
        "  print(neg_loss)\n",
        "  margin_loss = torch.nn.MarginRankingLoss(margin)\n",
        "  loss = margin_loss(pos_loss, neg_loss, torch.tensor(-1))\n",
        "\n",
        "  return loss"
      ],
      "metadata": {
        "id": "miOZvT8Vvhx7",
        "pycharm": {
          "name": "#%%\n"
        }
      },
      "execution_count": null,
      "outputs": []
    },
    {
      "cell_type": "code",
      "source": [
        "from transformers import AdamW\n",
        "from transformers import get_scheduler\n",
        "train_dataset = datasets.Dataset.from_dict(create_q_gen_ranking_baseline_examples(nq_open[\"train\"].select(range(100, 500))))\n",
        "data_collator = DataCollatorForSeq2Seq(tokenizer, model=model)\n",
        "train_dataset = train_dataset.map(partial(preprocess_function, max_input_length=300,\n",
        "                                                            max_target_length=50, input_col='inputs'), \n",
        "                                    batched=True)\n",
        "\n",
        "train_dataset = train_dataset.remove_columns([\"inputs\", \"targets\", \"k_pos_neg\"])\n",
        "train_dataset.set_format(type=\"torch\")\n",
        "batch_size = 10\n",
        "train_dataloader = DataLoader(train_dataset, batch_size=batch_size, collate_fn=data_collator, shuffle=False)\n",
        "\n",
        "truth_ix = 1176\n",
        "optimizer = AdamW(model.parameters(), lr=5e-4)\n",
        "num_epochs = 3\n",
        "num_training_steps = num_epochs * len(train_dataloader)\n",
        "lr_scheduler = get_scheduler(\n",
        "    \"linear\",\n",
        "    optimizer=optimizer,\n",
        "    num_warmup_steps=0,\n",
        "    num_training_steps=num_training_steps,\n",
        ")\n",
        "model.train()\n",
        "progress_bar = tqdm(range(num_training_steps))\n",
        "device = \"cuda:0\"\n",
        "model.to(device)\n",
        "for epoch in range(num_epochs):\n",
        "  losses = []\n",
        "  for step, batch in enumerate(train_dataloader):\n",
        "          batch = {k: v.to(device) for k, v in batch.items()}\n",
        "          outputs = model(**batch)\n",
        "          logits = outputs.logits\n",
        "          loss = ranking_loss(logits, batch[\"labels\"], 1, \n",
        "                                batch[\"labels\"].size(dim=0))\n",
        "          losses.append(loss)\n",
        "          loss.backward()\n",
        "\n",
        "          optimizer.step()\n",
        "          lr_scheduler.step()\n",
        "          optimizer.zero_grad()\n",
        "          progress_bar.update(1)\n",
        "  print(f'Train Loss in Epoch {epoch}: {sum(losses)/len(losses)}')\n",
        "  val_dataset = nq_open[\"validation\"].select(range(30,50))\n",
        "  original_recall, current_recall, loss = evaluate_recall(val_dataset, k=30, model=model,\n",
        "                                                     tokenizer=tokenizer, \n",
        "                                                     batch_size=10, \n",
        "                                                     evidence_txts = wikipedia_txt[\"train\"], \n",
        "                                                     preprocess_function=preprocess_function, isRanking=True, \n",
        "                                                     truth_ix=truth_ix)\n",
        "  print(f'DPR Recall @ 5: {original_recall[5]}')\n",
        "  print(f'Our Recall @ 5: {current_recall[5]}')\n",
        "  print(f'Validation Loss: {loss.item()}')\n",
        "  \n",
        "  \n"
      ],
      "metadata": {
        "id": "wUF3LN11EUjp",
        "pycharm": {
          "name": "#%%\n"
        }
      },
      "execution_count": null,
      "outputs": []
    },
    {
      "cell_type": "code",
      "source": [],
      "metadata": {
        "id": "WspdWc1kAPT0",
        "pycharm": {
          "name": "#%%\n"
        }
      },
      "execution_count": null,
      "outputs": []
    },
    {
      "cell_type": "code",
      "source": [
        "original_recall, current_recall, loss = evaluate_recall(nq_open[\"train\"].select(range(100, 500)), k=30, model=model,\n",
        "                                                     tokenizer=tokenizer, \n",
        "                                                     batch_size=10, \n",
        "                                                     evidence_txts = wikipedia_txt[\"train\"], \n",
        "                                                     preprocess_function=preprocess_function, isQG=False, \n",
        "                                                     truth_ix=1176)\n",
        "print(original_recall, current_recall, loss)"
      ],
      "metadata": {
        "id": "WY9xKRajEU9e",
        "pycharm": {
          "name": "#%%\n"
        }
      },
      "execution_count": null,
      "outputs": []
    },
    {
      "cell_type": "code",
      "source": [
        "print(current_recall[19], original_recall[19])"
      ],
      "metadata": {
        "id": "k6SO8vFMPH9C",
        "pycharm": {
          "name": "#%%\n"
        }
      },
      "execution_count": null,
      "outputs": []
    },
    {
      "cell_type": "code",
      "source": [
        "model = T5ForConditionalGeneration.from_pretrained(model_checkpoint)\n",
        "original_recall, current_recall, loss = evaluate_recall(nq_open[\"train\"].select(range(100, 110)), k=30, model=model,\n",
        "                                                     tokenizer=tokenizer, \n",
        "                                                     batch_size=10, \n",
        "                                                     evidence_txts = wikipedia_txt[\"train\"], \n",
        "                                                     preprocess_function=preprocess_function, isQG=False,\n",
        "                                                     truth_ix=truth_ix)\n",
        "\n",
        "print(current_recall[19], original_recall[19])"
      ],
      "metadata": {
        "id": "wpakzMZjDNTy",
        "pycharm": {
          "name": "#%%\n"
        }
      },
      "execution_count": null,
      "outputs": []
    },
    {
      "cell_type": "code",
      "source": [
        "print(current_recall[19], original_recall[19], loss)"
      ],
      "metadata": {
        "id": "rQNKKtPrEVsm",
        "pycharm": {
          "name": "#%%\n"
        }
      },
      "execution_count": null,
      "outputs": []
    },
    {
      "cell_type": "code",
      "source": [
        "validation = nq_open[\"train\"].select(range(100, 110))\n",
        "truth_ix = 1176\n",
        "isQG = False\n",
        "i = 0\n",
        "k = 30\n",
        "batch_size = 10\n",
        "question = validation[i][\"question\"]\n",
        "ctxs = validation[i][\"ctxs\"][:k]\n",
        "has_ans = [ctx[\"has_answer\"] for ctx in ctxs]\n",
        "has_ans = torch.BoolTensor(has_ans)\n",
        "losses = []\n",
        "# Build Data as Model Expects\n",
        "evidence_txts = wikipedia_txt[\"train\"]\n",
        "eval_dataset = relevance_batching(question, ctxs, has_ans, evidence_txts)\n",
        "\n",
        "datasets.utils.disable_progress_bar()\n",
        "data_collator = DataCollatorForSeq2Seq(tokenizer, model=model)\n",
        "eval_dataset = eval_dataset.map(partial(preprocess_function, max_input_length=300,\n",
        "                                                        max_target_length=50, input_col='inputs'), \n",
        "                                batched=True)\n",
        "\n",
        "eval_dataset = eval_dataset.remove_columns([\"inputs\", \"targets\"])\n",
        "eval_dataset.set_format(type=\"torch\")\n",
        "eval_dataloader = DataLoader(eval_dataset, batch_size=batch_size, collate_fn=data_collator, shuffle=False)\n",
        "isRanking=False\n",
        "# Calculate Log Scores and Get Ranking\n",
        "scores = []\n",
        "model.to(device)\n",
        "model.eval()\n",
        "for step, batch in enumerate(eval_dataloader):\n",
        "    with torch.no_grad():\n",
        "      batch = {k: v.to(device) for k, v in batch.items()}\n",
        "      outputs = model(**batch)\n",
        "      logits = outputs.logits\n",
        "      labels = batch[\"labels\"]\n",
        "      print(labels)\n",
        "      if isRanking:\n",
        "        loss = ranking_loss(logits, batch[\"labels\"], 1, \n",
        "                            batch[\"labels\"].size(dim=0))\n",
        "        losses.append(loss)\n",
        "      else: \n",
        "        losses.append(outputs.loss)\n",
        "      if isQG: \n",
        "        score = qg_ranking(logits, labels)\n",
        "      else: \n",
        "        score = relevance_ranking(logits, labels, truth_ix)\n",
        "      scores.append(score)\n",
        "\n",
        "scores = torch.cat(scores)\n",
        "topk_scores, indexes = torch.topk(scores, k=len(scores))\n"
      ],
      "metadata": {
        "id": "M65Upax1a0yM",
        "pycharm": {
          "name": "#%%\n"
        }
      },
      "execution_count": null,
      "outputs": []
    },
    {
      "cell_type": "code",
      "source": [
        "scores\n",
        "print(validation[0][\"ctxs\"][:k], scores)\n",
        "print(losses)"
      ],
      "metadata": {
        "id": "llLrU82fJD2H",
        "pycharm": {
          "name": "#%%\n"
        }
      },
      "execution_count": null,
      "outputs": []
    },
    {
      "cell_type": "code",
      "source": [
        "from transformers import AutoTokenizer, T5ForConditionalGeneration\n",
        "import torch\n",
        "import torch.nn as nn\n",
        "class SoftEmbedding(nn.Module):\n",
        "    def __init__(self, \n",
        "                wte: nn.Embedding,\n",
        "                n_tokens: int = 10, \n",
        "                random_range: float = 0.5,\n",
        "                initialize_from_vocab: bool = True):\n",
        "        \"\"\"appends learned embedding to \n",
        "        Args:\n",
        "            wte (nn.Embedding): original transformer word embedding\n",
        "            n_tokens (int, optional): number of tokens for task. Defaults to 10.\n",
        "            random_range (float, optional): range to init embedding (if not initialize from vocab). Defaults to 0.5.\n",
        "            initialize_from_vocab (bool, optional): initalizes from default vocab. Defaults to True.\n",
        "        \"\"\"\n",
        "        super(SoftEmbedding, self).__init__()\n",
        "        self.wte = wte\n",
        "        self.n_tokens = n_tokens\n",
        "        self.learned_embedding = nn.parameter.Parameter(self.initialize_embedding(wte,\n",
        "                                                                               n_tokens, \n",
        "                                                                               random_range, \n",
        "                                                                               initialize_from_vocab))\n",
        "            \n",
        "    def initialize_embedding(self, \n",
        "                             wte: nn.Embedding,\n",
        "                             n_tokens: int = 10, \n",
        "                             random_range: float = 0.5, \n",
        "                             initialize_from_vocab: bool = True):\n",
        "        \"\"\"initializes learned embedding\n",
        "        Args:\n",
        "            same as __init__\n",
        "        Returns:\n",
        "            torch.float: initialized using original schemes\n",
        "        \"\"\"\n",
        "        if initialize_from_vocab:\n",
        "            return self.wte.weight[:n_tokens].clone().detach()\n",
        "        return torch.FloatTensor(n_tokens, wte.weight.size(1)).uniform_(-random_range, random_range)\n",
        "            \n",
        "    def forward(self, tokens):\n",
        "        \"\"\"run forward pass\n",
        "        Args:\n",
        "            tokens (torch.long): input tokens before encoding\n",
        "        Returns:\n",
        "            torch.float: encoding of text concatenated with learned task specifc embedding\n",
        "        \"\"\"\n",
        "        input_embedding = self.wte(tokens[:,:-self.n_tokens])\n",
        "        learned_embedding = self.learned_embedding.repeat(input_embedding.size(0), 1, 1)\n",
        "        return torch.cat([input_embedding, learned_embedding], 1)\n",
        "\n",
        "model = T5ForConditionalGeneration.from_pretrained(\"google/t5-base-lm-adapt\")\n",
        "tokenizer = AutoTokenizer.from_pretrained(\"google/t5-base-lm-adapt\")\n",
        "n_tokens = 20\n",
        "soft_embed = SoftEmbedding(model.get_input_embeddings(), n_tokens, \n",
        "                           initialize_from_vocab = True)\n",
        "model.set_input_embeddings(soft_embed)\n",
        "examples = {\"inputs\": [\"Passage: Hello There! Obi Wan: Hello THERE!\", \n",
        "                       \"Passage: You Have Lost! Obi Wan: I Have the High Ground!\"], \n",
        "            \"targets\":[\"Kind of Relevant\", \"Not Relevant\"]}\n",
        "model_inputs = tokenizer(\n",
        "        examples[\"inputs\"],\n",
        "        max_length=50,\n",
        "        truncation=True,  padding=\"longest\", return_tensors=\"pt\"\n",
        "    )\n",
        "labels = tokenizer(text_target=examples[\"targets\"], max_length=30, truncation=True,  padding=\"longest\", return_tensors=\"pt\"\n",
        "    )\n",
        "model_inputs[\"labels\"] = labels[\"input_ids\"]\n",
        "model_inputs[\"decoder_attention_mask\"] = labels[\"attention_mask\"]\n",
        "\n",
        "model_inputs[\"input_ids\"] = torch.cat([model_inputs[\"input_ids\"], torch.full((model_inputs[\"input_ids\"].size(0), n_tokens), 5)], 1)\n",
        "model_inputs[\"attention_mask\"] = torch.cat([model_inputs[\"attention_mask\"], torch.full((model_inputs[\"attention_mask\"].size(0), n_tokens), 1)], 1)\n",
        "model_inputs[\"labels\"] = torch.cat([model_inputs[\"labels\"], torch.full((model_inputs[\"labels\"].size(0), n_tokens), -100)], 1)\n",
        "model_inputs[\"decoder_attention_mask\"] = torch.cat([model_inputs[\"decoder_attention_mask\"], torch.full((model_inputs[\"decoder_attention_mask\"].size(0), n_tokens), 0)], 1)\n",
        "#for key in model_inputs: \n",
        "  #print(model_inputs[key])\n",
        "  #print(model_inputs[key].size())\n",
        "#model.eval()\n",
        "\n",
        "for name, param in model.named_parameters():\n",
        "  if name != \"shared.learned_embedding\":\n",
        "    print(\"FALSE!\")\n",
        "  else: \n",
        "    print(param.requires_grad)\n"
      ],
      "metadata": {
        "id": "GKtk0xAPzCom"
      },
      "execution_count": null,
      "outputs": []
    },
    {
      "cell_type": "code",
      "source": [
        "def preprocess_func_soft_prompt(examples, tokenizer, n_tokens, max_input_length, max_target_length) -> dict:\n",
        "    model_inputs = tokenizer(\n",
        "        examples[\"inputs\"],\n",
        "        max_length=max_input_length,\n",
        "        truncation=True,  padding=\"max_length\",\n",
        "        return_tensors=\"pt\"\n",
        "    )\n",
        "    labels = tokenizer(text_target=examples[\"targets\"], max_length=max_target_length, truncation=True,  padding=\"max_length\", return_tensors=\"pt\"\n",
        "    )\n",
        "    model_inputs[\"labels\"] = labels[\"input_ids\"]\n",
        "    model_inputs[\"decoder_attention_mask\"] = labels[\"attention_mask\"]\n",
        "    model_inputs[\"input_ids\"] = torch.cat([model_inputs[\"input_ids\"], \n",
        "                                           torch.full((model_inputs[\"input_ids\"].size(0), n_tokens), 5)], 1)\n",
        "    model_inputs[\"attention_mask\"] = torch.cat([model_inputs[\"attention_mask\"], \n",
        "                                                torch.full((model_inputs[\"attention_mask\"].size(0), n_tokens), 1)], 1)\n",
        "    model_inputs[\"labels\"] = torch.cat([model_inputs[\"labels\"], \n",
        "                                        torch.full((model_inputs[\"labels\"].size(0), n_tokens), -100)], 1)\n",
        "    model_inputs[\"decoder_attention_mask\"] = torch.cat([model_inputs[\"decoder_attention_mask\"], \n",
        "                                                        torch.full((model_inputs[\"decoder_attention_mask\"].size(0),\n",
        "                                                                    n_tokens), 0)], 1)\n",
        "    return model_inputs"
      ],
      "metadata": {
        "id": "RyawsjH4SEaN"
      },
      "execution_count": 15,
      "outputs": []
    },
    {
      "cell_type": "code",
      "source": [
        "from functools import partial\n",
        "test_1 = nq_open.select(range(100, 120))\n",
        "test_1 = test_1.map(partial(create_pos_txt_col, k=10, txt_database=wikipedia_txt))\n",
        "train_dataset = datasets.Dataset.from_dict(create_q_gen_baseline_examples(test_1))\n",
        "train_dataset = train_dataset.map(partial(preprocess_func_soft_prompt, tokenizer=tokenizer, n_tokens=10, max_input_length=300, max_target_length=50), \n",
        "                                  batched=True, num_proc=4)\n",
        "train_dataset = train_dataset.remove_columns([\"inputs\", \"targets\", \"k_pos\"])\n",
        "train_dataset.set_format(type=\"torch\")\n"
      ],
      "metadata": {
        "id": "oXhNMfjMe87G"
      },
      "execution_count": null,
      "outputs": []
    },
    {
      "cell_type": "code",
      "source": [
        "for name, param in model.named_parameters():\n",
        "  # print(name)\n",
        "  param.requires_grad=True\n",
        "  if name == \"encoder.block.0.layer.1.DenseReluDense.wi_0.weight\":\n",
        "    print(param)"
      ],
      "metadata": {
        "id": "BvfIKYO-r5Zt",
        "outputId": "3c65c1a9-b6f5-4df6-abef-972f09776694",
        "colab": {
          "base_uri": "https://localhost:8080/"
        }
      },
      "execution_count": 37,
      "outputs": [
        {
          "output_type": "stream",
          "name": "stdout",
          "text": [
            "Parameter containing:\n",
            "tensor([[-0.1992, -0.2441, -0.0713,  ..., -0.3359,  0.0791,  0.1846],\n",
            "        [-0.1611,  0.4531, -0.6484,  ..., -0.1011, -0.8789,  0.2139],\n",
            "        [ 0.0167, -0.0342,  0.1924,  ...,  0.1494, -0.0991, -0.3184],\n",
            "        ...,\n",
            "        [ 0.3711,  0.6680,  0.1094,  ...,  0.0835,  0.4570,  0.3887],\n",
            "        [ 0.0913,  0.0119, -0.0277,  ..., -0.3594,  0.5039, -0.0732],\n",
            "        [-0.6133, -0.4238, -0.2930,  ..., -0.2422, -0.0991,  0.3789]],\n",
            "       device='cuda:0', requires_grad=True)\n"
          ]
        }
      ]
    },
    {
      "cell_type": "code",
      "source": [
        "from transformers import AdamW\n",
        "from transformers import get_scheduler\n",
        "from transformers import DataCollatorForSeq2Seq\n",
        "from torch.utils.data import DataLoader\n",
        "from tqdm import tqdm\n",
        "\n",
        "\n",
        "batch_size = 10\n",
        "data_collator = DataCollatorForSeq2Seq(tokenizer, model=model)\n",
        "train_dataloader = DataLoader(train_dataset, batch_size=10, collate_fn=data_collator, shuffle=True)\n",
        "\n",
        "optimizer = AdamW(model.parameters(), lr=5e-4)\n",
        "num_epochs = 3\n",
        "num_training_steps = num_epochs * len(train_dataloader)\n",
        "lr_scheduler = get_scheduler(\n",
        "    \"linear\",\n",
        "    optimizer=optimizer,\n",
        "    num_warmup_steps=0,\n",
        "    num_training_steps=num_training_steps,\n",
        ")\n",
        "\n",
        "for name, param in model.named_parameters():\n",
        "  if name != \"shared.learned_embedding\":\n",
        "    param.requires_grad=False\n",
        "\n",
        "for name, param in model.named_parameters():\n",
        "  if param.requires_grad:\n",
        "    print(name)\n",
        "    print(\"BEFORE_TRAIN:\", param)\n",
        "  if name == \"encoder.block.0.layer.1.DenseReluDense.wi_0.weight\":\n",
        "    print(name)\n",
        "    print(\"BEFORE_TRAIN:\", param)\n",
        "\n",
        "model.train()\n",
        "progress_bar = tqdm(range(num_training_steps))\n",
        "device = \"cuda:0\"\n",
        "model.to(device)\n",
        "for epoch in range(num_epochs):\n",
        "  losses = []\n",
        "  \n",
        "  for step, batch in enumerate(train_dataloader):\n",
        "          batch = {k: v.to(device) for k, v in batch.items()}\n",
        "          outputs = model(**batch)\n",
        "          loss = outputs.loss\n",
        "          losses.append(loss)\n",
        "          loss.backward()\n",
        "\n",
        "          optimizer.step()\n",
        "          lr_scheduler.step()\n",
        "          optimizer.zero_grad()\n",
        "          progress_bar.update(1)\n",
        "  print(f'Train Loss in Epoch {epoch}: {sum(losses)/len(losses)}')\n",
        "\n",
        "for name, param in model.named_parameters():\n",
        "  if param.requires_grad:\n",
        "    print(name)\n",
        "    print(\"After Train:\", param)\n",
        "  if name == \"encoder.block.0.layer.1.DenseReluDense.wi_0.weight\":\n",
        "    print(name)\n",
        "    print(\"After Train:\", param)\n"
      ],
      "metadata": {
        "id": "OpAH6LmpV2Hg"
      },
      "execution_count": null,
      "outputs": []
    },
    {
      "cell_type": "code",
      "source": [
        "from transformers import Seq2SeqTrainer, Seq2SeqTrainingArguments\n",
        "for name, param in model.named_parameters():\n",
        "  if name != \"shared.learned_embedding\":\n",
        "    param.requires_grad=False\n",
        "\n",
        "for name, param in model.named_parameters():\n",
        "  if param.requires_grad:\n",
        "    print(name)\n",
        "    print(\"BEFORE_TRAIN:\", param)\n",
        "  if name == \"encoder.block.0.layer.1.DenseReluDense.wi_0.weight\":\n",
        "    print(name)\n",
        "    print(\"BEFORE_TRAIN:\", param)\n",
        "batch_size = 10\n",
        "data_collator = DataCollatorForSeq2Seq(tokenizer, model=model, padding=\"max_length\")\n",
        "training_args = Seq2SeqTrainingArguments(\n",
        "        output_dir = 'output_test',\n",
        "        evaluation_strategy=\"epoch\",\n",
        "        learning_rate=5e-4,\n",
        "        warmup_steps = 20,\n",
        "        per_device_train_batch_size=10,\n",
        "        weight_decay=5e-4,\n",
        "        num_train_epochs=15,\n",
        "        seed=1 \n",
        "        )\n",
        "trainer = Seq2SeqTrainer(\n",
        "            model,\n",
        "            training_args,\n",
        "            train_dataset=train_dataset,\n",
        "            eval_dataset=train_dataset,\n",
        "            data_collator=data_collator,\n",
        "            tokenizer=tokenizer\n",
        "        )\n",
        "\n",
        "trainer.train()\n",
        "for name, param in model.named_parameters():\n",
        "  if param.requires_grad:\n",
        "    print(name)\n",
        "    print(\"After Train:\", param)\n",
        "  if name == \"encoder.block.0.layer.1.DenseReluDense.wi_0.weight\":\n",
        "    print(name)\n",
        "    print(\"After Train:\", param)\n"
      ],
      "metadata": {
        "id": "m6KgtAAtq5fe",
        "outputId": "7f243e9a-e7d3-4be3-a86c-c0eb88c140c1",
        "colab": {
          "base_uri": "https://localhost:8080/",
          "height": 1000
        }
      },
      "execution_count": 38,
      "outputs": [
        {
          "output_type": "stream",
          "name": "stderr",
          "text": [
            "PyTorch: setting up devices\n",
            "The default value for the training argument `--report_to` will change in v5 (from all installed integrations to none). In v5, you will need to use `--report_to all` to get the same behavior as now. You should start updating your code and make this info disappear :-).\n",
            "/usr/local/lib/python3.8/site-packages/transformers/optimization.py:306: FutureWarning: This implementation of AdamW is deprecated and will be removed in a future version. Use the PyTorch implementation torch.optim.AdamW instead, or set `no_deprecation_warning=True` to disable this warning\n",
            "  warnings.warn(\n",
            "***** Running training *****\n",
            "  Num examples = 180\n",
            "  Num Epochs = 15\n",
            "  Instantaneous batch size per device = 10\n",
            "  Total train batch size (w. parallel, distributed & accumulation) = 10\n",
            "  Gradient Accumulation steps = 1\n",
            "  Total optimization steps = 270\n",
            "  Number of trainable parameters = 15360\n"
          ]
        },
        {
          "output_type": "stream",
          "name": "stdout",
          "text": [
            "shared.learned_embedding\n",
            "BEFORE_TRAIN: Parameter containing:\n",
            "tensor([[ -0.7736,   0.9964,  -0.7015,  ...,  -0.4167,   4.2529,  -0.1962],\n",
            "        [ 15.7986,   9.4677,  14.6371,  ...,   6.6425, -27.0884,   9.5354],\n",
            "        [ -1.0846,  -1.5461, -12.6615,  ...,   4.0456,   5.8306,  -2.2372],\n",
            "        ...,\n",
            "        [ -0.2050,  -2.6142,  -3.4294,  ...,   4.3119,   3.6202,   0.8926],\n",
            "        [  1.4940,   0.6987,  -2.9023,  ...,  -3.8433,  -2.0483,   3.3727],\n",
            "        [ -1.4142,   2.8373,  -0.8072,  ...,   3.0006,  -0.3527,  -3.0834]],\n",
            "       device='cuda:0', requires_grad=True)\n",
            "encoder.block.0.layer.1.DenseReluDense.wi_0.weight\n",
            "BEFORE_TRAIN: Parameter containing:\n",
            "tensor([[-0.1992, -0.2441, -0.0713,  ..., -0.3359,  0.0791,  0.1846],\n",
            "        [-0.1611,  0.4531, -0.6484,  ..., -0.1011, -0.8789,  0.2139],\n",
            "        [ 0.0167, -0.0342,  0.1924,  ...,  0.1494, -0.0991, -0.3184],\n",
            "        ...,\n",
            "        [ 0.3711,  0.6680,  0.1094,  ...,  0.0835,  0.4570,  0.3887],\n",
            "        [ 0.0913,  0.0119, -0.0277,  ..., -0.3594,  0.5039, -0.0732],\n",
            "        [-0.6133, -0.4238, -0.2930,  ..., -0.2422, -0.0991,  0.3789]],\n",
            "       device='cuda:0')\n"
          ]
        },
        {
          "output_type": "display_data",
          "data": {
            "text/plain": [
              "<IPython.core.display.HTML object>"
            ],
            "text/html": [
              "\n",
              "    <div>\n",
              "      \n",
              "      <progress value='270' max='270' style='width:300px; height:20px; vertical-align: middle;'></progress>\n",
              "      [270/270 06:54, Epoch 15/15]\n",
              "    </div>\n",
              "    <table border=\"1\" class=\"dataframe\">\n",
              "  <thead>\n",
              " <tr style=\"text-align: left;\">\n",
              "      <th>Epoch</th>\n",
              "      <th>Training Loss</th>\n",
              "      <th>Validation Loss</th>\n",
              "    </tr>\n",
              "  </thead>\n",
              "  <tbody>\n",
              "    <tr>\n",
              "      <td>1</td>\n",
              "      <td>No log</td>\n",
              "      <td>33.809437</td>\n",
              "    </tr>\n",
              "    <tr>\n",
              "      <td>2</td>\n",
              "      <td>No log</td>\n",
              "      <td>33.807304</td>\n",
              "    </tr>\n",
              "    <tr>\n",
              "      <td>3</td>\n",
              "      <td>No log</td>\n",
              "      <td>33.805294</td>\n",
              "    </tr>\n",
              "    <tr>\n",
              "      <td>4</td>\n",
              "      <td>No log</td>\n",
              "      <td>33.803413</td>\n",
              "    </tr>\n",
              "    <tr>\n",
              "      <td>5</td>\n",
              "      <td>No log</td>\n",
              "      <td>33.801708</td>\n",
              "    </tr>\n",
              "    <tr>\n",
              "      <td>6</td>\n",
              "      <td>No log</td>\n",
              "      <td>33.800167</td>\n",
              "    </tr>\n",
              "    <tr>\n",
              "      <td>7</td>\n",
              "      <td>No log</td>\n",
              "      <td>33.798756</td>\n",
              "    </tr>\n",
              "    <tr>\n",
              "      <td>8</td>\n",
              "      <td>No log</td>\n",
              "      <td>33.797546</td>\n",
              "    </tr>\n",
              "    <tr>\n",
              "      <td>9</td>\n",
              "      <td>No log</td>\n",
              "      <td>33.796474</td>\n",
              "    </tr>\n",
              "    <tr>\n",
              "      <td>10</td>\n",
              "      <td>No log</td>\n",
              "      <td>33.795567</td>\n",
              "    </tr>\n",
              "    <tr>\n",
              "      <td>11</td>\n",
              "      <td>No log</td>\n",
              "      <td>33.794857</td>\n",
              "    </tr>\n",
              "    <tr>\n",
              "      <td>12</td>\n",
              "      <td>No log</td>\n",
              "      <td>33.794277</td>\n",
              "    </tr>\n",
              "    <tr>\n",
              "      <td>13</td>\n",
              "      <td>No log</td>\n",
              "      <td>33.793877</td>\n",
              "    </tr>\n",
              "    <tr>\n",
              "      <td>14</td>\n",
              "      <td>No log</td>\n",
              "      <td>33.793633</td>\n",
              "    </tr>\n",
              "    <tr>\n",
              "      <td>15</td>\n",
              "      <td>No log</td>\n",
              "      <td>33.793545</td>\n",
              "    </tr>\n",
              "  </tbody>\n",
              "</table><p>"
            ]
          },
          "metadata": {}
        },
        {
          "output_type": "stream",
          "name": "stderr",
          "text": [
            "***** Running Evaluation *****\n",
            "  Num examples = 180\n",
            "  Batch size = 8\n",
            "***** Running Evaluation *****\n",
            "  Num examples = 180\n",
            "  Batch size = 8\n",
            "***** Running Evaluation *****\n",
            "  Num examples = 180\n",
            "  Batch size = 8\n",
            "***** Running Evaluation *****\n",
            "  Num examples = 180\n",
            "  Batch size = 8\n",
            "***** Running Evaluation *****\n",
            "  Num examples = 180\n",
            "  Batch size = 8\n",
            "***** Running Evaluation *****\n",
            "  Num examples = 180\n",
            "  Batch size = 8\n",
            "***** Running Evaluation *****\n",
            "  Num examples = 180\n",
            "  Batch size = 8\n",
            "***** Running Evaluation *****\n",
            "  Num examples = 180\n",
            "  Batch size = 8\n",
            "***** Running Evaluation *****\n",
            "  Num examples = 180\n",
            "  Batch size = 8\n",
            "***** Running Evaluation *****\n",
            "  Num examples = 180\n",
            "  Batch size = 8\n",
            "***** Running Evaluation *****\n",
            "  Num examples = 180\n",
            "  Batch size = 8\n",
            "***** Running Evaluation *****\n",
            "  Num examples = 180\n",
            "  Batch size = 8\n",
            "***** Running Evaluation *****\n",
            "  Num examples = 180\n",
            "  Batch size = 8\n",
            "***** Running Evaluation *****\n",
            "  Num examples = 180\n",
            "  Batch size = 8\n",
            "***** Running Evaluation *****\n",
            "  Num examples = 180\n",
            "  Batch size = 8\n",
            "\n",
            "\n",
            "Training completed. Do not forget to share your model on huggingface.co/models =)\n",
            "\n",
            "\n"
          ]
        },
        {
          "output_type": "stream",
          "name": "stdout",
          "text": [
            "shared.learned_embedding\n",
            "After Train: Parameter containing:\n",
            "tensor([[ -0.8275,   0.9960,  -0.6578,  ...,  -0.3633,   4.3059,  -0.2583],\n",
            "        [ 15.8536,   9.4277,  14.5825,  ...,   6.6333, -27.0441,   9.4995],\n",
            "        [ -1.0223,  -1.6028, -12.7123,  ...,   3.9833,   5.8930,  -2.2853],\n",
            "        ...,\n",
            "        [ -0.2050,  -2.6141,  -3.4292,  ...,   4.3118,   3.6201,   0.8926],\n",
            "        [  1.4940,   0.6986,  -2.9022,  ...,  -3.8432,  -2.0483,   3.3725],\n",
            "        [ -1.4141,   2.8372,  -0.8071,  ...,   3.0005,  -0.3527,  -3.0833]],\n",
            "       device='cuda:0', requires_grad=True)\n",
            "encoder.block.0.layer.1.DenseReluDense.wi_0.weight\n",
            "After Train: Parameter containing:\n",
            "tensor([[-0.1992, -0.2441, -0.0713,  ..., -0.3359,  0.0791,  0.1846],\n",
            "        [-0.1611,  0.4531, -0.6484,  ..., -0.1011, -0.8789,  0.2139],\n",
            "        [ 0.0167, -0.0342,  0.1924,  ...,  0.1494, -0.0991, -0.3184],\n",
            "        ...,\n",
            "        [ 0.3711,  0.6680,  0.1094,  ...,  0.0835,  0.4570,  0.3887],\n",
            "        [ 0.0913,  0.0119, -0.0277,  ..., -0.3594,  0.5039, -0.0732],\n",
            "        [-0.6133, -0.4238, -0.2930,  ..., -0.2422, -0.0991,  0.3789]],\n",
            "       device='cuda:0')\n"
          ]
        }
      ]
    }
  ]
}