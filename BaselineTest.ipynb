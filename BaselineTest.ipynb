{
  "nbformat": 4,
  "nbformat_minor": 0,
  "metadata": {
    "colab": {
      "provenance": [],
      "machine_shape": "hm",
      "authorship_tag": "ABX9TyON9T0PcfB+14TvgAmLH+Fp",
      "include_colab_link": true
    },
    "kernelspec": {
      "name": "python3",
      "display_name": "Python 3"
    },
    "language_info": {
      "name": "python"
    },
    "accelerator": "GPU",
    "widgets": {
      "application/vnd.jupyter.widget-state+json": {
        "a0273aa554da489b9445319b0c83aea4": {
          "model_module": "@jupyter-widgets/controls",
          "model_name": "HBoxModel",
          "model_module_version": "1.5.0",
          "state": {
            "_dom_classes": [],
            "_model_module": "@jupyter-widgets/controls",
            "_model_module_version": "1.5.0",
            "_model_name": "HBoxModel",
            "_view_count": null,
            "_view_module": "@jupyter-widgets/controls",
            "_view_module_version": "1.5.0",
            "_view_name": "HBoxView",
            "box_style": "",
            "children": [
              "IPY_MODEL_2ab85af96ef54a59a5a7f1fe7d0e99d7",
              "IPY_MODEL_a5853437269b43b08bc2d75e617d70ed",
              "IPY_MODEL_53eb39da338d423295ab9044624cc9cb"
            ],
            "layout": "IPY_MODEL_2deb54f47b454959aaf7bba84abd1500"
          }
        },
        "2ab85af96ef54a59a5a7f1fe7d0e99d7": {
          "model_module": "@jupyter-widgets/controls",
          "model_name": "HTMLModel",
          "model_module_version": "1.5.0",
          "state": {
            "_dom_classes": [],
            "_model_module": "@jupyter-widgets/controls",
            "_model_module_version": "1.5.0",
            "_model_name": "HTMLModel",
            "_view_count": null,
            "_view_module": "@jupyter-widgets/controls",
            "_view_module_version": "1.5.0",
            "_view_name": "HTMLView",
            "description": "",
            "description_tooltip": null,
            "layout": "IPY_MODEL_b1f2d8b7f158493981f81f82da584234",
            "placeholder": "​",
            "style": "IPY_MODEL_39a7b05bfe0e4363a3018fe5835aa913",
            "value": "100%"
          }
        },
        "a5853437269b43b08bc2d75e617d70ed": {
          "model_module": "@jupyter-widgets/controls",
          "model_name": "FloatProgressModel",
          "model_module_version": "1.5.0",
          "state": {
            "_dom_classes": [],
            "_model_module": "@jupyter-widgets/controls",
            "_model_module_version": "1.5.0",
            "_model_name": "FloatProgressModel",
            "_view_count": null,
            "_view_module": "@jupyter-widgets/controls",
            "_view_module_version": "1.5.0",
            "_view_name": "ProgressView",
            "bar_style": "success",
            "description": "",
            "description_tooltip": null,
            "layout": "IPY_MODEL_80cb5b64d52b4087b92d8ba9b09dfa7a",
            "max": 1,
            "min": 0,
            "orientation": "horizontal",
            "style": "IPY_MODEL_40bce063b9bd4087ae59be924e7dd5c1",
            "value": 1
          }
        },
        "53eb39da338d423295ab9044624cc9cb": {
          "model_module": "@jupyter-widgets/controls",
          "model_name": "HTMLModel",
          "model_module_version": "1.5.0",
          "state": {
            "_dom_classes": [],
            "_model_module": "@jupyter-widgets/controls",
            "_model_module_version": "1.5.0",
            "_model_name": "HTMLModel",
            "_view_count": null,
            "_view_module": "@jupyter-widgets/controls",
            "_view_module_version": "1.5.0",
            "_view_name": "HTMLView",
            "description": "",
            "description_tooltip": null,
            "layout": "IPY_MODEL_4a8254ef8b1d4d8a8c74058a324878bc",
            "placeholder": "​",
            "style": "IPY_MODEL_c03b78c562b74d46b88a30d8655524b0",
            "value": " 1/1 [00:06&lt;00:00,  6.22s/it]"
          }
        },
        "2deb54f47b454959aaf7bba84abd1500": {
          "model_module": "@jupyter-widgets/base",
          "model_name": "LayoutModel",
          "model_module_version": "1.2.0",
          "state": {
            "_model_module": "@jupyter-widgets/base",
            "_model_module_version": "1.2.0",
            "_model_name": "LayoutModel",
            "_view_count": null,
            "_view_module": "@jupyter-widgets/base",
            "_view_module_version": "1.2.0",
            "_view_name": "LayoutView",
            "align_content": null,
            "align_items": null,
            "align_self": null,
            "border": null,
            "bottom": null,
            "display": null,
            "flex": null,
            "flex_flow": null,
            "grid_area": null,
            "grid_auto_columns": null,
            "grid_auto_flow": null,
            "grid_auto_rows": null,
            "grid_column": null,
            "grid_gap": null,
            "grid_row": null,
            "grid_template_areas": null,
            "grid_template_columns": null,
            "grid_template_rows": null,
            "height": null,
            "justify_content": null,
            "justify_items": null,
            "left": null,
            "margin": null,
            "max_height": null,
            "max_width": null,
            "min_height": null,
            "min_width": null,
            "object_fit": null,
            "object_position": null,
            "order": null,
            "overflow": null,
            "overflow_x": null,
            "overflow_y": null,
            "padding": null,
            "right": null,
            "top": null,
            "visibility": null,
            "width": null
          }
        },
        "b1f2d8b7f158493981f81f82da584234": {
          "model_module": "@jupyter-widgets/base",
          "model_name": "LayoutModel",
          "model_module_version": "1.2.0",
          "state": {
            "_model_module": "@jupyter-widgets/base",
            "_model_module_version": "1.2.0",
            "_model_name": "LayoutModel",
            "_view_count": null,
            "_view_module": "@jupyter-widgets/base",
            "_view_module_version": "1.2.0",
            "_view_name": "LayoutView",
            "align_content": null,
            "align_items": null,
            "align_self": null,
            "border": null,
            "bottom": null,
            "display": null,
            "flex": null,
            "flex_flow": null,
            "grid_area": null,
            "grid_auto_columns": null,
            "grid_auto_flow": null,
            "grid_auto_rows": null,
            "grid_column": null,
            "grid_gap": null,
            "grid_row": null,
            "grid_template_areas": null,
            "grid_template_columns": null,
            "grid_template_rows": null,
            "height": null,
            "justify_content": null,
            "justify_items": null,
            "left": null,
            "margin": null,
            "max_height": null,
            "max_width": null,
            "min_height": null,
            "min_width": null,
            "object_fit": null,
            "object_position": null,
            "order": null,
            "overflow": null,
            "overflow_x": null,
            "overflow_y": null,
            "padding": null,
            "right": null,
            "top": null,
            "visibility": null,
            "width": null
          }
        },
        "39a7b05bfe0e4363a3018fe5835aa913": {
          "model_module": "@jupyter-widgets/controls",
          "model_name": "DescriptionStyleModel",
          "model_module_version": "1.5.0",
          "state": {
            "_model_module": "@jupyter-widgets/controls",
            "_model_module_version": "1.5.0",
            "_model_name": "DescriptionStyleModel",
            "_view_count": null,
            "_view_module": "@jupyter-widgets/base",
            "_view_module_version": "1.2.0",
            "_view_name": "StyleView",
            "description_width": ""
          }
        },
        "80cb5b64d52b4087b92d8ba9b09dfa7a": {
          "model_module": "@jupyter-widgets/base",
          "model_name": "LayoutModel",
          "model_module_version": "1.2.0",
          "state": {
            "_model_module": "@jupyter-widgets/base",
            "_model_module_version": "1.2.0",
            "_model_name": "LayoutModel",
            "_view_count": null,
            "_view_module": "@jupyter-widgets/base",
            "_view_module_version": "1.2.0",
            "_view_name": "LayoutView",
            "align_content": null,
            "align_items": null,
            "align_self": null,
            "border": null,
            "bottom": null,
            "display": null,
            "flex": null,
            "flex_flow": null,
            "grid_area": null,
            "grid_auto_columns": null,
            "grid_auto_flow": null,
            "grid_auto_rows": null,
            "grid_column": null,
            "grid_gap": null,
            "grid_row": null,
            "grid_template_areas": null,
            "grid_template_columns": null,
            "grid_template_rows": null,
            "height": null,
            "justify_content": null,
            "justify_items": null,
            "left": null,
            "margin": null,
            "max_height": null,
            "max_width": null,
            "min_height": null,
            "min_width": null,
            "object_fit": null,
            "object_position": null,
            "order": null,
            "overflow": null,
            "overflow_x": null,
            "overflow_y": null,
            "padding": null,
            "right": null,
            "top": null,
            "visibility": null,
            "width": null
          }
        },
        "40bce063b9bd4087ae59be924e7dd5c1": {
          "model_module": "@jupyter-widgets/controls",
          "model_name": "ProgressStyleModel",
          "model_module_version": "1.5.0",
          "state": {
            "_model_module": "@jupyter-widgets/controls",
            "_model_module_version": "1.5.0",
            "_model_name": "ProgressStyleModel",
            "_view_count": null,
            "_view_module": "@jupyter-widgets/base",
            "_view_module_version": "1.2.0",
            "_view_name": "StyleView",
            "bar_color": null,
            "description_width": ""
          }
        },
        "4a8254ef8b1d4d8a8c74058a324878bc": {
          "model_module": "@jupyter-widgets/base",
          "model_name": "LayoutModel",
          "model_module_version": "1.2.0",
          "state": {
            "_model_module": "@jupyter-widgets/base",
            "_model_module_version": "1.2.0",
            "_model_name": "LayoutModel",
            "_view_count": null,
            "_view_module": "@jupyter-widgets/base",
            "_view_module_version": "1.2.0",
            "_view_name": "LayoutView",
            "align_content": null,
            "align_items": null,
            "align_self": null,
            "border": null,
            "bottom": null,
            "display": null,
            "flex": null,
            "flex_flow": null,
            "grid_area": null,
            "grid_auto_columns": null,
            "grid_auto_flow": null,
            "grid_auto_rows": null,
            "grid_column": null,
            "grid_gap": null,
            "grid_row": null,
            "grid_template_areas": null,
            "grid_template_columns": null,
            "grid_template_rows": null,
            "height": null,
            "justify_content": null,
            "justify_items": null,
            "left": null,
            "margin": null,
            "max_height": null,
            "max_width": null,
            "min_height": null,
            "min_width": null,
            "object_fit": null,
            "object_position": null,
            "order": null,
            "overflow": null,
            "overflow_x": null,
            "overflow_y": null,
            "padding": null,
            "right": null,
            "top": null,
            "visibility": null,
            "width": null
          }
        },
        "c03b78c562b74d46b88a30d8655524b0": {
          "model_module": "@jupyter-widgets/controls",
          "model_name": "DescriptionStyleModel",
          "model_module_version": "1.5.0",
          "state": {
            "_model_module": "@jupyter-widgets/controls",
            "_model_module_version": "1.5.0",
            "_model_name": "DescriptionStyleModel",
            "_view_count": null,
            "_view_module": "@jupyter-widgets/base",
            "_view_module_version": "1.2.0",
            "_view_name": "StyleView",
            "description_width": ""
          }
        }
      }
    }
  },
  "cells": [
    {
      "cell_type": "markdown",
      "metadata": {
        "id": "view-in-github",
        "colab_type": "text"
      },
      "source": [
        "<a href=\"https://colab.research.google.com/github/nvaikunt/PromptBasedReranking/blob/main/BaselineTest.ipynb\" target=\"_parent\"><img src=\"https://colab.research.google.com/assets/colab-badge.svg\" alt=\"Open In Colab\"/></a>"
      ]
    },
    {
      "cell_type": "code",
      "execution_count": null,
      "metadata": {
        "id": "Ty9kvEWUUnWA"
      },
      "outputs": [],
      "source": [
        "!git clone https://github.com/nvaikunt/PromptBasedReranking.git"
      ]
    },
    {
      "cell_type": "code",
      "source": [
        "!pip install -q condacolab\n",
        "import condacolab\n",
        "condacolab.install()"
      ],
      "metadata": {
        "id": "fyZJj4_rbt13"
      },
      "execution_count": null,
      "outputs": []
    },
    {
      "cell_type": "code",
      "source": [
        "!conda --version"
      ],
      "metadata": {
        "id": "pPVDbhP4d-xX"
      },
      "execution_count": null,
      "outputs": []
    },
    {
      "cell_type": "code",
      "source": [
        "%cd PromptBasedReranking/"
      ],
      "metadata": {
        "id": "aCJaFzY3cDqo",
        "colab": {
          "base_uri": "https://localhost:8080/"
        },
        "outputId": "477af8ea-4f32-44a8-9ece-fc80464352f1"
      },
      "execution_count": 2,
      "outputs": [
        {
          "output_type": "stream",
          "name": "stdout",
          "text": [
            "/content/PromptBasedReranking\n"
          ]
        }
      ]
    },
    {
      "cell_type": "code",
      "source": [
        "!bash setup.sh"
      ],
      "metadata": {
        "id": "a3x6GMeGey6w"
      },
      "execution_count": null,
      "outputs": []
    },
    {
      "cell_type": "code",
      "source": [
        "import torch\n",
        "torch.cuda.is_available()"
      ],
      "metadata": {
        "id": "IFklJTLN399-"
      },
      "execution_count": null,
      "outputs": []
    },
    {
      "cell_type": "code",
      "source": [
        "!python Baseline/download_dpr_data.py --resource data.wikipedia-split.psgs_w100"
      ],
      "metadata": {
        "id": "7ZhQbsuOpH7W"
      },
      "execution_count": null,
      "outputs": []
    },
    {
      "cell_type": "code",
      "source": [
        "!python Baseline/download_dpr_data.py --resource data.retriever-outputs.dpr.nq-train"
      ],
      "metadata": {
        "id": "VxlROfN2rCem"
      },
      "execution_count": null,
      "outputs": []
    },
    {
      "cell_type": "code",
      "source": [
        "\n",
        "import torch\n",
        "from torch.utils.data import Dataset, DataLoader\n",
        "import transformers\n",
        "import tokenizers\n",
        "import datasets \n",
        "import pandas\n",
        "\n",
        "wikipedia_txt = datasets.load_dataset(\"csv\", data_files='downloads/data/wikipedia-split/psgs_w100.tsv', delimiter='\\t')\n"
      ],
      "metadata": {
        "id": "-aoevJwPvJ_z",
        "colab": {
          "base_uri": "https://localhost:8080/",
          "height": 105,
          "referenced_widgets": [
            "a0273aa554da489b9445319b0c83aea4",
            "2ab85af96ef54a59a5a7f1fe7d0e99d7",
            "a5853437269b43b08bc2d75e617d70ed",
            "53eb39da338d423295ab9044624cc9cb",
            "2deb54f47b454959aaf7bba84abd1500",
            "b1f2d8b7f158493981f81f82da584234",
            "39a7b05bfe0e4363a3018fe5835aa913",
            "80cb5b64d52b4087b92d8ba9b09dfa7a",
            "40bce063b9bd4087ae59be924e7dd5c1",
            "4a8254ef8b1d4d8a8c74058a324878bc",
            "c03b78c562b74d46b88a30d8655524b0"
          ]
        },
        "outputId": "bb066aaf-90a3-498a-afad-cabb07aab79c"
      },
      "execution_count": 3,
      "outputs": [
        {
          "output_type": "stream",
          "name": "stderr",
          "text": [
            "Using custom data configuration default-cb3c6fef8f5e82e0\n",
            "Found cached dataset csv (/root/.cache/huggingface/datasets/csv/default-cb3c6fef8f5e82e0/0.0.0/652c3096f041ee27b04d2232d41f10547a8fecda3e284a79a0ec4053c916ef7a)\n"
          ]
        },
        {
          "output_type": "display_data",
          "data": {
            "text/plain": [
              "  0%|          | 0/1 [00:00<?, ?it/s]"
            ],
            "application/vnd.jupyter.widget-view+json": {
              "version_major": 2,
              "version_minor": 0,
              "model_id": "a0273aa554da489b9445319b0c83aea4"
            }
          },
          "metadata": {}
        }
      ]
    },
    {
      "cell_type": "code",
      "source": [
        "wikipedia_txt"
      ],
      "metadata": {
        "id": "1A_V9cUj88fV"
      },
      "execution_count": null,
      "outputs": []
    },
    {
      "cell_type": "code",
      "source": [
        "nq_open = datasets.load_dataset(\"json\",data_files=\"downloads/data/retriever-outputs/dpr/nq-train.json\")"
      ],
      "metadata": {
        "id": "egdNZaJC1Bth"
      },
      "execution_count": null,
      "outputs": []
    },
    {
      "cell_type": "code",
      "source": [
        "nq_open[\"train\"][2][\"question\"]"
      ],
      "metadata": {
        "id": "j28EJ8XgczFW"
      },
      "execution_count": null,
      "outputs": []
    },
    {
      "cell_type": "code",
      "source": [
        "def get_top_k_pos(row, k, txt_database):\n",
        "  ctxs = row[\"ctxs\"]\n",
        "  top_k = []\n",
        "  for ctx in ctxs:\n",
        "    if ctx[\"has_answer\"]:\n",
        "      text = txt_database[ctx[\"id\"] - 1][\"text\"]\n",
        "      top_k.append((text, \"true\"))\n",
        "    if len(top_k) == k:\n",
        "      break\n",
        "  if len(top_k) == 0: \n",
        "    return []\n",
        "  while len(top_k) < k:\n",
        "    top_k.extend(top_k[:(k - len(top_k))])\n",
        "\n",
        "  return top_k[:k]\n",
        "  \n",
        "def get_top_k_pos_neg(row, k, txt_database):\n",
        "  ctxs = row[\"ctxs\"]\n",
        "  top_k_pos = []\n",
        "  top_k_neg = []\n",
        "  for ctx in ctxs:\n",
        "    if ctx[\"has_answer\"] and len(top_k_pos) < k:\n",
        "      text = txt_database[ctx[\"id\"] - 1][\"text\"]\n",
        "      top_k_pos.append((text, \"true\"))\n",
        "    if not ctx[\"has_answer\"] and len(top_k_neg) < k: \n",
        "      text = txt_database[ctx[\"id\"] - 1][\"text\"]\n",
        "      top_k_neg.append((text, \"false\"))\n",
        "    if len(top_k_pos) == k and len(top_k_neg):\n",
        "      break \n",
        "  if len(top_k_pos) == 0: \n",
        "    return []\n",
        "  while len(top_k_pos) < k:\n",
        "    top_k_pos.extend(top_k_pos[:(k - len(top_k_pos))])\n",
        "  while len(top_k_neg) < k:\n",
        "    top_k_neg.extend(top_k_neg[:(k - len(top_k_neg))])\n",
        "  top_k = []\n",
        "  for i in range(k):\n",
        "    top_k.append(top_k_pos[i])\n",
        "    top_k.append(top_k_neg[i])\n",
        "  return top_k\n"
      ],
      "metadata": {
        "id": "l_o-aBSYY-9G"
      },
      "execution_count": 6,
      "outputs": []
    },
    {
      "cell_type": "code",
      "source": [
        "def create_pos_txt_col(example, k, txt_database):\n",
        "  return {\"pos_text\": get_top_k_pos(example, k, txt_database)}\n",
        "\n",
        "def create_pos_neg_txt_col(example, k, txt_database):\n",
        "  return {\"pos_neg_text\": get_top_k_pos_neg(example, k, txt_database)}\n"
      ],
      "metadata": {
        "id": "uG5eRvLLm0Ku"
      },
      "execution_count": 7,
      "outputs": []
    },
    {
      "cell_type": "code",
      "source": [
        "from functools import partial\n",
        "nq_open[\"train\"] = nq_open[\"train\"].map(partial(create_pos_txt_col, k=20, txt_database=wikipedia_txt[\"train\"]), num_proc=4)"
      ],
      "metadata": {
        "id": "dvVUFQ71ppEv",
        "colab": {
          "base_uri": "https://localhost:8080/"
        },
        "outputId": "bdcfbc55-6675-4ee6-9c2c-3e2dae691d78"
      },
      "execution_count": 8,
      "outputs": [
        {
          "output_type": "stream",
          "name": "stdout",
          "text": [
            "     "
          ]
        },
        {
          "output_type": "stream",
          "name": "stderr",
          "text": [
            "Loading cached processed dataset at /root/.cache/huggingface/datasets/json/default-a7ea593b34a6dc21/0.0.0/e6070c77f18f01a5ad4551a8b7edfba20b8438b7cad4d94e6ad9378022ce4aab/cache-8de3e792c7da3355.arrow\n"
          ]
        },
        {
          "output_type": "stream",
          "name": "stdout",
          "text": [
            " "
          ]
        },
        {
          "output_type": "stream",
          "name": "stderr",
          "text": [
            "Loading cached processed dataset at /root/.cache/huggingface/datasets/json/default-a7ea593b34a6dc21/0.0.0/e6070c77f18f01a5ad4551a8b7edfba20b8438b7cad4d94e6ad9378022ce4aab/cache-e9479766e3dfbfda.arrow\n"
          ]
        },
        {
          "output_type": "stream",
          "name": "stdout",
          "text": [
            " "
          ]
        },
        {
          "output_type": "stream",
          "name": "stderr",
          "text": [
            "Loading cached processed dataset at /root/.cache/huggingface/datasets/json/default-a7ea593b34a6dc21/0.0.0/e6070c77f18f01a5ad4551a8b7edfba20b8438b7cad4d94e6ad9378022ce4aab/cache-4c401d4674da5ca8.arrow\n"
          ]
        },
        {
          "output_type": "stream",
          "name": "stdout",
          "text": [
            " "
          ]
        },
        {
          "output_type": "stream",
          "name": "stderr",
          "text": [
            "Loading cached processed dataset at /root/.cache/huggingface/datasets/json/default-a7ea593b34a6dc21/0.0.0/e6070c77f18f01a5ad4551a8b7edfba20b8438b7cad4d94e6ad9378022ce4aab/cache-76f806a699dc476d.arrow\n"
          ]
        }
      ]
    },
    {
      "cell_type": "code",
      "source": [
        "nq_open[\"train\"] = nq_open[\"train\"].map(partial(create_pos_neg_txt_col, k=10, txt_database=wikipedia_txt[\"train\"]), num_proc=4)"
      ],
      "metadata": {
        "id": "_QHcEW_H3450",
        "colab": {
          "base_uri": "https://localhost:8080/"
        },
        "outputId": "cc474bd6-5663-4e8a-c136-109fcc0d3f1b"
      },
      "execution_count": 9,
      "outputs": [
        {
          "output_type": "stream",
          "name": "stdout",
          "text": [
            "     "
          ]
        },
        {
          "output_type": "stream",
          "name": "stderr",
          "text": [
            "Loading cached processed dataset at /root/.cache/huggingface/datasets/json/default-a7ea593b34a6dc21/0.0.0/e6070c77f18f01a5ad4551a8b7edfba20b8438b7cad4d94e6ad9378022ce4aab/cache-ebace498ef2fae38.arrow\n"
          ]
        },
        {
          "output_type": "stream",
          "name": "stdout",
          "text": [
            " "
          ]
        },
        {
          "output_type": "stream",
          "name": "stderr",
          "text": [
            "Loading cached processed dataset at /root/.cache/huggingface/datasets/json/default-a7ea593b34a6dc21/0.0.0/e6070c77f18f01a5ad4551a8b7edfba20b8438b7cad4d94e6ad9378022ce4aab/cache-165ae1372225ef88.arrow\n"
          ]
        },
        {
          "output_type": "stream",
          "name": "stdout",
          "text": [
            "  "
          ]
        },
        {
          "output_type": "stream",
          "name": "stderr",
          "text": [
            "Loading cached processed dataset at /root/.cache/huggingface/datasets/json/default-a7ea593b34a6dc21/0.0.0/e6070c77f18f01a5ad4551a8b7edfba20b8438b7cad4d94e6ad9378022ce4aab/cache-ed02ccc181aaa600.arrow\n",
            "Loading cached processed dataset at /root/.cache/huggingface/datasets/json/default-a7ea593b34a6dc21/0.0.0/e6070c77f18f01a5ad4551a8b7edfba20b8438b7cad4d94e6ad9378022ce4aab/cache-a527754ba1ef1b0e.arrow\n"
          ]
        }
      ]
    },
    {
      "cell_type": "code",
      "source": [
        "nq_open[\"train\"][0][\"pos_neg_text\"]"
      ],
      "metadata": {
        "id": "43ZS8EjgBI9x"
      },
      "execution_count": null,
      "outputs": []
    },
    {
      "cell_type": "code",
      "source": [
        "from tqdm import tqdm\n",
        "def create_ranking_loss_baseline_examples(dataset, n=None):\n",
        "  if not n:\n",
        "    n = len(dataset)\n",
        "  with_answer = 0 \n",
        "  inputs = []\n",
        "  targets = []\n",
        "  for i in tqdm(range(n)):\n",
        "    texts = dataset[i][\"pos_neg_text\"]\n",
        "    if not texts: continue \n",
        "    question = dataset[i][\"question\"]\n",
        "    current_inputs = [f\"Question: {question} Passage: {text[0]} Relevant: \" for text in texts]\n",
        "    current_targets = [text[1] for text in texts]\n",
        "    inputs.extend(current_inputs)\n",
        "    targets.extend(current_targets)\n",
        "    with_answer += 1 \n",
        "  k = [len(targets)/(with_answer * 2)] * len(targets)\n",
        "  return {\"inputs\": inputs, \"targets\": targets, \"k_pos_neg\": k}\n",
        "\n",
        "def create_q_gen_baseline_examples(dataset, n=None):\n",
        "  if not n:\n",
        "    n = len(dataset)\n",
        "  inputs = []\n",
        "  targets = []\n",
        "  with_answer = 0 \n",
        "  for i in tqdm(range(n)):\n",
        "    texts = dataset[i][\"pos_text\"]\n",
        "    if not texts: continue \n",
        "    question = dataset[i][\"question\"]\n",
        "    current_inputs = [f\"Passage: {text[0]} Please write a question based on this passage\" for text in texts]\n",
        "    current_targets = [question for text in texts]\n",
        "    inputs.extend(current_inputs)\n",
        "    targets.extend(current_targets)\n",
        "    with_answer += 1     \n",
        "  k = [len(targets)/(with_answer)] * len(targets)\n",
        "  return {\"inputs\": inputs, \"targets\": targets, \"k_pos\": k}\n",
        "\n",
        "def create_q_gen_ranking_baseline_examples(dataset, n=None):\n",
        "  if not n:\n",
        "    n = len(dataset)\n",
        "  inputs = []\n",
        "  targets = []\n",
        "  with_answer = 0 \n",
        "  for i in tqdm(range(n)):\n",
        "    texts = dataset[i][\"pos_neg_text\"]\n",
        "    if not texts: continue \n",
        "    question = dataset[i][\"question\"]\n",
        "    current_inputs = [f\"Passage: {text[0]} Please write a question based on this passage\" for text in texts]\n",
        "    current_targets = [question for text in texts]\n",
        "    inputs.extend(current_inputs)\n",
        "    targets.extend(current_targets)\n",
        "    with_answer += 1   \n",
        "  k = [len(targets)/(with_answer * 2)] * len(targets)\n",
        "  return {\"inputs\": inputs, \"targets\": targets, \"k_pos_neg\": k}\n",
        "\n"
      ],
      "metadata": {
        "id": "5OOLl17P5Mxj"
      },
      "execution_count": 10,
      "outputs": []
    },
    {
      "cell_type": "code",
      "source": [
        "training_dict = create_q_gen_baseline_examples(nq_open[\"train\"])"
      ],
      "metadata": {
        "id": "Z6kOO9he5WZy"
      },
      "execution_count": null,
      "outputs": []
    },
    {
      "cell_type": "code",
      "source": [
        "q_gen_dataset = datasets.Dataset.from_dict(training_dict)"
      ],
      "metadata": {
        "id": "fXXE7VR4WXW0"
      },
      "execution_count": null,
      "outputs": []
    },
    {
      "cell_type": "code",
      "source": [
        "from transformers import AutoTokenizer\n",
        "from transformers import T5ForConditionalGeneration\n",
        "\n",
        "model_checkpoint = \"google/t5-base-lm-adapt\"\n",
        "tokenizer = AutoTokenizer.from_pretrained(model_checkpoint)\n"
      ],
      "metadata": {
        "id": "l5dXGuuNXNax"
      },
      "execution_count": 11,
      "outputs": []
    },
    {
      "cell_type": "code",
      "source": [
        "def preprocess_function(examples, max_input_length, max_target_length, input_col):\n",
        "    model_inputs = tokenizer(\n",
        "        examples[input_col],\n",
        "        max_length=max_input_length,\n",
        "        truncation=True,  padding=\"longest\"\n",
        "    )\n",
        "    labels = tokenizer(text_target=examples[\"targets\"], max_length=max_target_length, truncation=True,  padding=\"longest\", return_tensors=\"pt\"\n",
        "    )\n",
        "    model_inputs[\"labels\"] = labels[\"input_ids\"]\n",
        "    model_inputs[\"decoder_attention_mask\"] = labels[\"attention_mask\"]\n",
        "    return model_inputs"
      ],
      "metadata": {
        "id": "9RuEc3OMcpa9"
      },
      "execution_count": 12,
      "outputs": []
    },
    {
      "cell_type": "code",
      "source": [
        "from transformers import T5ForConditionalGeneration\n",
        "model = T5ForConditionalGeneration.from_pretrained(model_checkpoint)"
      ],
      "metadata": {
        "id": "X_LKBJeFnxVW"
      },
      "execution_count": 15,
      "outputs": []
    },
    {
      "cell_type": "code",
      "source": [
        "import torch\n",
        "import datasets\n",
        "eval_subset = datasets.Dataset.from_dict(create_q_gen_baseline_examples(nq_open[\"train\"].select(range(4))))\n",
        "eval_dataset = eval_subset.map(partial(preprocess_function, max_input_length=300, max_target_length=50, input_col='inputs'), batched=True)\n",
        "eval_dataset.set_format(type=\"torch\", columns=[\"input_ids\", \"labels\", \"attention_mask\", \"labels_mask\"])\n"
      ],
      "metadata": {
        "id": "0opoKqOSbEF6"
      },
      "execution_count": null,
      "outputs": []
    },
    {
      "cell_type": "code",
      "source": [
        "nq_open[\"train\"]"
      ],
      "metadata": {
        "id": "JKoBdSdBDybN"
      },
      "execution_count": null,
      "outputs": []
    },
    {
      "cell_type": "markdown",
      "source": [],
      "metadata": {
        "id": "5hMJ4OZ3We8u"
      }
    },
    {
      "cell_type": "code",
      "source": [
        "i = 0\n",
        "k = 100\n",
        "txt_database = wikipedia_txt[\"train\"]\n",
        "question = nq_open[\"train\"][i][\"question\"]\n",
        "ctxs = nq_open[\"train\"][i][\"ctxs\"][:k]\n",
        "has_ans = [ctx[\"has_answer\"] for ctx in ctxs]\n",
        "texts = [txt_database[ctx[\"id\"] - 1][\"text\"] for ctx in ctxs]\n",
        "texts = [f\"Passage: {text} Please write a question based on this passage\" for text in texts]\n",
        "targets = [question for text in texts]\n",
        "new_dataset = datasets.Dataset.from_dict({'inputs': texts, 'targets': targets})\n",
        "new_dataset = new_dataset.map(partial(preprocess_function, max_input_length=300, max_target_length=50, input_col='inputs'), batched=True)\n",
        "new_dataset.set_format(type=\"torch\", columns=[\"input_ids\", \"labels\", \"attention_mask\", \"labels_mask\"])\n",
        "new_dataset[\"input_ids\"][0:3]\n"
      ],
      "metadata": {
        "id": "claGZRKfWXs3"
      },
      "execution_count": null,
      "outputs": []
    },
    {
      "cell_type": "code",
      "source": [
        "#eval_dataset = eval_dataset.remove_columns(['inputs', 'targets', 'k_pos'])\n",
        "eval_inputs = eval_dataset[\"input_ids\"][0:8]\n",
        "eval_masks = eval_dataset[\"attention_mask\"][0:8]\n",
        "target_eval_labels = eval_dataset[\"labels\"][0:8]\n",
        "target_eval_label_mask= eval_dataset[\"labels_mask\"][0:8]\n",
        "decoder_input_ids = model.prepare_decoder_input_ids_from_labels(labels=eval_dataset[\"labels\"][0:8])"
      ],
      "metadata": {
        "id": "0w4gxpAyAn9A"
      },
      "execution_count": null,
      "outputs": []
    },
    {
      "cell_type": "code",
      "source": [
        "device = \"cuda:0\" if torch.cuda.is_available() else \"cpu\"\n",
        "model.to(device)\n",
        "eval_masks = eval_masks.to(device)\n",
        "eval_inputs = eval_inputs.to(device)\n",
        "target_eval_labels = target_eval_labels.to(device)\n",
        "target_eval_label_mask = target_eval_label_mask.to(device)\n",
        "decoder_input_ids = decoder_input_ids.to(device)\n",
        "outputs = model(input_ids=eval_inputs, labels = target_eval_labels, attention_mask=eval_masks, decoder_attention_mask=target_eval_label_mask, decoder_input_ids=decoder_input_ids)"
      ],
      "metadata": {
        "id": "uio8g_eFGuVl"
      },
      "execution_count": null,
      "outputs": []
    },
    {
      "cell_type": "code",
      "source": [
        "device\n"
      ],
      "metadata": {
        "id": "j3u5r2XfHEBn"
      },
      "execution_count": null,
      "outputs": []
    },
    {
      "cell_type": "code",
      "source": [
        "import torch.nn \n",
        "logits = outputs.logits\n",
        "log_softmax = torch.nn.LogSoftmax(dim=-1)\n",
        "log_soft = log_softmax(logits)"
      ],
      "metadata": {
        "id": "zsFFUnkcHu_J"
      },
      "execution_count": null,
      "outputs": []
    },
    {
      "cell_type": "code",
      "source": [
        "labels = target_eval_labels.unsqueeze(2)\n",
        "log_soft = log_soft.gather(2, labels).squeeze(2)\n",
        "log_soft = log_soft.mean(dim=1)\n",
        "topk_scores, indexes = torch.topk(log_soft, k=len(log_soft))\n",
        "topk_scores\n",
        "eval_subset[indexes]\n"
      ],
      "metadata": {
        "id": "yhbosz8XTIOj"
      },
      "execution_count": null,
      "outputs": []
    },
    {
      "cell_type": "code",
      "source": [
        "-topk_scores.mean()\n",
        "outputs.loss\n"
      ],
      "metadata": {
        "id": "oobKEvRmRT8x"
      },
      "execution_count": null,
      "outputs": []
    },
    {
      "cell_type": "code",
      "source": [
        "from transformers.utils.logging import disable_progress_bar\n",
        "from transformers import DataCollatorForSeq2Seq\n",
        "from torch.utils.data import SequentialSampler, DataLoader\n",
        "import numpy as np\n",
        "def evaluate_questions(validation, k, model, tokenizer, batch_size, evidence_txts, preprocess_function):\n",
        "  \n",
        "  assert k // batch_size != 0, \"k must be multiple of batch_size\"\n",
        "  assert batch_size // 2 != 0, \"Batch Size Must Be Even\"\n",
        "\n",
        "  if k < batch_size: \n",
        "    batch_size = k\n",
        "\n",
        "  original_recall = []\n",
        "  current_recall = []\n",
        "  device = \"cuda:0\" if torch.cuda.is_available() else \"cpu\"\n",
        "  model.to(device)\n",
        "  for i in tqdm(range(len(validation))):\n",
        "\n",
        "    # Extract Question, Passages, and Info on Whether Passages have Answer\n",
        "    question = validation[i][\"question\"]\n",
        "    ctxs = validation[i][\"ctxs\"][:k]\n",
        "    has_ans = [ctx[\"has_answer\"] for ctx in ctxs]\n",
        "    has_ans = torch.BoolTensor(has_ans)\n",
        "\n",
        "    # Build Data as Model Expects\n",
        "    texts = [evidence_txts[ctx[\"id\"] - 1][\"text\"] for ctx in ctxs]\n",
        "    texts = [f\"Passage: {text} Please write a question based on this passage\" for text in texts]\n",
        "    targets = [question for text in texts]\n",
        "    eval_dataset = datasets.Dataset.from_dict({'inputs': texts, 'targets': targets})  \n",
        "\n",
        "    datasets.utils.disable_progress_bar()\n",
        "    data_collator = DataCollatorForSeq2Seq(tokenizer, model=model)\n",
        "    eval_dataset = eval_dataset.map(partial(preprocess_function, max_input_length=300,\n",
        "                                                            max_target_length=50, input_col='inputs'), \n",
        "                                    batched=True)\n",
        "\n",
        "    eval_dataset = eval_dataset.remove_columns([\"inputs\", \"targets\"])\n",
        "    eval_dataset.set_format(type=\"torch\")\n",
        "    eval_dataloader = DataLoader(eval_dataset, batch_size=batch_size, collate_fn=data_collator, shuffle=False)\n",
        "    \n",
        "    # Calculate Log Scores and Get Ranking\n",
        "    log_scores = []\n",
        "    model.eval()\n",
        "    for step, batch in enumerate(eval_dataloader):\n",
        "        with torch.no_grad():\n",
        "          batch = {k: v.to(device) for k, v in batch.items()}\n",
        "          outputs = model(**batch)\n",
        "          logits = outputs.logits\n",
        "          log_softmax = torch.nn.LogSoftmax(dim=-1)\n",
        "          log_soft = log_softmax(logits)\n",
        "          labels = batch[\"labels\"].unsqueeze(2)\n",
        "          log_soft = log_soft.gather(2, labels).squeeze(2)\n",
        "          log_soft = log_soft.mean(dim=1)\n",
        "          log_scores.append(log_soft)\n",
        "    \n",
        "    log_scores = torch.cat(log_scores)\n",
        "    topk_scores, indexes = torch.topk(log_scores, k=len(log_scores))\n",
        "\n",
        "    # Collect Stats for Recall\n",
        "    ranked_answers = has_ans[indexes]\n",
        "    current_has_ans = torch.cumsum(ranked_answers, dim=0) > 0\n",
        "    original_has_ans = torch.cumsum(has_ans, dim=0) > 0\n",
        "\n",
        "    original_recall.append(original_has_ans.tolist())\n",
        "    current_recall.append(current_has_ans.tolist())\n",
        "\n",
        "  original_recall = np.mean(np.array(original_recall), axis=0)\n",
        "  current_recall = np.mean(np.array(current_recall), axis=0)\n",
        "  \n",
        "  return original_recall, current_recall\n",
        "\n",
        "\n",
        "\n",
        "    \n",
        "\n"
      ],
      "metadata": {
        "id": "-jitIWA7VM8K"
      },
      "execution_count": 13,
      "outputs": []
    },
    {
      "cell_type": "code",
      "source": [
        "val_dataset = nq_open[\"train\"].select(range(30,50))\n",
        "original_recall, current_recall = evaluate_questions(val_dataset, k=30, model=model,\n",
        "                                                     tokenizer=tokenizer, \n",
        "                                                     batch_size=10, \n",
        "                                                     evidence_txts = wikipedia_txt[\"train\"], \n",
        "                                                     preprocess_function=preprocess_function)\n"
      ],
      "metadata": {
        "id": "ebIq1r4Ade15",
        "colab": {
          "base_uri": "https://localhost:8080/",
          "height": 294
        },
        "outputId": "207ea052-0ec7-4f6a-ee23-80459af00255"
      },
      "execution_count": 14,
      "outputs": [
        {
          "output_type": "error",
          "ename": "NameError",
          "evalue": "ignored",
          "traceback": [
            "\u001b[0;31m---------------------------------------------------------------------------\u001b[0m",
            "\u001b[0;31mNameError\u001b[0m                                 Traceback (most recent call last)",
            "\u001b[0;32m<ipython-input-14-1b7bf7502e0f>\u001b[0m in \u001b[0;36m<module>\u001b[0;34m\u001b[0m\n\u001b[1;32m      1\u001b[0m \u001b[0mval_dataset\u001b[0m \u001b[0;34m=\u001b[0m \u001b[0mnq_open\u001b[0m\u001b[0;34m[\u001b[0m\u001b[0;34m\"train\"\u001b[0m\u001b[0;34m]\u001b[0m\u001b[0;34m.\u001b[0m\u001b[0mselect\u001b[0m\u001b[0;34m(\u001b[0m\u001b[0mrange\u001b[0m\u001b[0;34m(\u001b[0m\u001b[0;36m30\u001b[0m\u001b[0;34m,\u001b[0m\u001b[0;36m50\u001b[0m\u001b[0;34m)\u001b[0m\u001b[0;34m)\u001b[0m\u001b[0;34m\u001b[0m\u001b[0;34m\u001b[0m\u001b[0m\n\u001b[0;32m----> 2\u001b[0;31m original_recall, current_recall = evaluate_questions(val_dataset, k=30, model=model,\n\u001b[0m\u001b[1;32m      3\u001b[0m                                                      \u001b[0mtokenizer\u001b[0m\u001b[0;34m=\u001b[0m\u001b[0mtokenizer\u001b[0m\u001b[0;34m,\u001b[0m\u001b[0;34m\u001b[0m\u001b[0;34m\u001b[0m\u001b[0m\n\u001b[1;32m      4\u001b[0m                                                      \u001b[0mbatch_size\u001b[0m\u001b[0;34m=\u001b[0m\u001b[0;36m10\u001b[0m\u001b[0;34m,\u001b[0m\u001b[0;34m\u001b[0m\u001b[0;34m\u001b[0m\u001b[0m\n\u001b[1;32m      5\u001b[0m                                                      \u001b[0mevidence_txts\u001b[0m \u001b[0;34m=\u001b[0m \u001b[0mwikipedia_txt\u001b[0m\u001b[0;34m[\u001b[0m\u001b[0;34m\"train\"\u001b[0m\u001b[0;34m]\u001b[0m\u001b[0;34m,\u001b[0m\u001b[0;34m\u001b[0m\u001b[0;34m\u001b[0m\u001b[0m\n",
            "\u001b[0;31mNameError\u001b[0m: name 'model' is not defined"
          ]
        }
      ]
    },
    {
      "cell_type": "code",
      "source": [
        "import gc\n",
        "\n",
        "gc.collect()\n",
        "\n",
        "torch.cuda.is_available()"
      ],
      "metadata": {
        "id": "JGmLofwZl8gN"
      },
      "execution_count": null,
      "outputs": []
    },
    {
      "cell_type": "code",
      "source": [
        "device = \"cuda:0\"\n",
        "#model.to(device)\n",
        "ranking_samples = create_q_gen_ranking_baseline_examples(val_dataset, n=20)\n",
        "ranking_samples = datasets.Dataset.from_dict(ranking_samples)\n",
        "data_collator = DataCollatorForSeq2Seq(tokenizer, model=model)\n",
        "eval_dataset = ranking_samples.map(partial(preprocess_function, max_input_length=300,\n",
        "                                                            max_target_length=50, input_col='inputs'), \n",
        "                                    batched=True)\n",
        "\n",
        "eval_dataset = eval_dataset.remove_columns([\"inputs\", \"targets\", \"k_pos_neg\"])\n",
        "eval_dataset.set_format(type=\"torch\")\n",
        "batch_size = 10\n",
        "eval_dataloader = DataLoader(eval_dataset, batch_size=10, collate_fn=data_collator, shuffle=False)\n",
        "pos = torch.arange(0, 10, 2)\n",
        "neg = torch.arange(1, 10, 2)\n",
        "for batch in eval_dataloader:\n",
        "\n",
        "  batch = {k: v.to(device) for k, v in batch.items()}\n",
        "  outputs = model(**batch)\n",
        "  targets = batch[\"labels\"]\n",
        "  margin = .1 * outputs.loss.item()\n",
        "  loss = ranking_loss(outputs.logits, targets, margin=1, batch_size=10)\n",
        "  print(loss)\n"
      ],
      "metadata": {
        "id": "pcz8unSMYiEc"
      },
      "execution_count": null,
      "outputs": []
    },
    {
      "cell_type": "code",
      "source": [
        "!nvidia-smi"
      ],
      "metadata": {
        "id": "3aU_ooTg5798"
      },
      "execution_count": null,
      "outputs": []
    },
    {
      "cell_type": "code",
      "source": [
        "def ranking_loss(outputs, labels, margin, batch_size):\n",
        "  assert batch_size // 2 != 0, \"Batch Size must be even\" \n",
        "\n",
        "  pos_indexes = torch.arange(0, batch_size, 2)\n",
        "  neg_indexes = torch.arange(1, batch_size, 2)\n",
        "\n",
        "  log_softmax = torch.nn.LogSoftmax(dim=-1)\n",
        "  outputs = log_softmax(outputs)\n",
        "\n",
        "  ce_loss = torch.nn.CrossEntropyLoss()\n",
        "  pos_outputs = outputs[pos_indexes]\n",
        "  neg_outputs = outputs[neg_indexes]\n",
        "  flat_size = pos_outputs.size(-1)\n",
        "\n",
        "  pos_loss = ce_loss(pos_outputs.view(-1, flat_size), labels[pos_indexes].view(-1))\n",
        "  neg_loss = ce_loss(neg_outputs.view(-1, flat_size), labels[neg_indexes].view(-1))\n",
        "\n",
        "\n",
        "  margin_loss = torch.nn.MarginRankingLoss(margin)\n",
        "  loss = margin_loss(torch.tensor(pos_loss), torch.tensor(neg_loss), \n",
        "                     torch.tensor(-1))\n",
        "  return loss"
      ],
      "metadata": {
        "id": "miOZvT8Vvhx7"
      },
      "execution_count": 39,
      "outputs": []
    },
    {
      "cell_type": "code",
      "source": [
        "from transformers import AdamW\n",
        "from transformers import get_scheduler\n",
        "train_dataset = datasets.Dataset.from_dict(create_q_gen_baseline_examples(nq_open[\"train\"].select(range(100, 500))))\n",
        "data_collator = DataCollatorForSeq2Seq(tokenizer, model=model)\n",
        "train_dataset = train_dataset.map(partial(preprocess_function, max_input_length=300,\n",
        "                                                            max_target_length=50, input_col='inputs'), \n",
        "                                    batched=True)\n",
        "\n",
        "train_dataset = train_dataset.remove_columns([\"inputs\", \"targets\", \"k_pos\"])\n",
        "train_dataset.set_format(type=\"torch\")\n",
        "batch_size = 10\n",
        "train_dataloader = DataLoader(train_dataset, batch_size=10, collate_fn=data_collator, shuffle=False)\n",
        "\n",
        "optimizer = AdamW(model.parameters(), lr=5e-5)\n",
        "num_epochs = 3\n",
        "num_training_steps = num_epochs * len(train_dataloader)\n",
        "lr_scheduler = get_scheduler(\n",
        "    \"linear\",\n",
        "    optimizer=optimizer,\n",
        "    num_warmup_steps=0,\n",
        "    num_training_steps=num_training_steps,\n",
        ")\n",
        "model.train()\n",
        "progress_bar = tqdm(range(len(train_dataloader)))\n",
        "for epoch in range(num_epochs):\n",
        "  for step, batch in enumerate(train_dataloader):\n",
        "          batch = {k: v.to(device) for k, v in batch.items()}\n",
        "          outputs = model(**batch)\n",
        "          loss = outputs.loss\n",
        "          loss.backward()\n",
        "\n",
        "          optimizer.step()\n",
        "          lr_scheduler.step()\n",
        "          optimizer.zero_grad()\n",
        "          progress_bar.update(1)\n",
        "  val_dataset = nq_open[\"train\"].select(range(30,50))\n",
        "  original_recall, current_recall = evaluate_questions(val_dataset, k=30, model=model,\n",
        "                                                     tokenizer=tokenizer, \n",
        "                                                     batch_size=10, \n",
        "                                                     evidence_txts = wikipedia_txt[\"train\"], \n",
        "                                                     preprocess_function=preprocess_function)\n",
        "  print(original_recall[5])\n",
        "  print(current_recall[5])\n",
        "  \n",
        "  \n"
      ],
      "metadata": {
        "id": "wUF3LN11EUjp"
      },
      "execution_count": null,
      "outputs": []
    },
    {
      "cell_type": "code",
      "source": [
        "original_recall, current_recall = evaluate_questions(nq_open[\"train\"].select(range(100, 500)), k=30, model=model,\n",
        "                                                     tokenizer=tokenizer, \n",
        "                                                     batch_size=10, \n",
        "                                                     evidence_txts = wikipedia_txt[\"train\"], \n",
        "                                                     preprocess_function=preprocess_function)\n",
        "print(original_recall, current_recall)"
      ],
      "metadata": {
        "id": "WY9xKRajEU9e"
      },
      "execution_count": null,
      "outputs": []
    },
    {
      "cell_type": "code",
      "source": [
        "current_recall[19]"
      ],
      "metadata": {
        "id": "k6SO8vFMPH9C",
        "outputId": "7fb8e095-8465-4571-b4ad-32c0d8446db0",
        "colab": {
          "base_uri": "https://localhost:8080/"
        }
      },
      "execution_count": 53,
      "outputs": [
        {
          "output_type": "execute_result",
          "data": {
            "text/plain": [
              "0.8575"
            ]
          },
          "metadata": {},
          "execution_count": 53
        }
      ]
    }
  ]
}