{
  "nbformat": 4,
  "nbformat_minor": 0,
  "metadata": {
    "colab": {
      "provenance": [],
      "machine_shape": "hm",
      "authorship_tag": "ABX9TyO5Ru7XpUe5DavEl9H6Ex+D",
      "include_colab_link": true
    },
    "kernelspec": {
      "name": "python3",
      "display_name": "Python 3"
    },
    "language_info": {
      "name": "python"
    },
    "accelerator": "GPU"
  },
  "cells": [
    {
      "cell_type": "markdown",
      "metadata": {
        "id": "view-in-github",
        "colab_type": "text"
      },
      "source": [
        "<a href=\"https://colab.research.google.com/github/nvaikunt/PromptBasedReranking/blob/main/BaselineTest.ipynb\" target=\"_parent\"><img src=\"https://colab.research.google.com/assets/colab-badge.svg\" alt=\"Open In Colab\"/></a>"
      ]
    },
    {
      "cell_type": "code",
      "execution_count": null,
      "metadata": {
        "id": "Ty9kvEWUUnWA"
      },
      "outputs": [],
      "source": [
        "!git clone https://github.com/nvaikunt/PromptBasedReranking.git"
      ]
    },
    {
      "cell_type": "code",
      "source": [
        "!pip install -q condacolab\n",
        "import condacolab\n",
        "condacolab.install()"
      ],
      "metadata": {
        "id": "fyZJj4_rbt13"
      },
      "execution_count": null,
      "outputs": []
    },
    {
      "cell_type": "code",
      "source": [
        "!conda --version"
      ],
      "metadata": {
        "id": "pPVDbhP4d-xX"
      },
      "execution_count": null,
      "outputs": []
    },
    {
      "cell_type": "code",
      "source": [
        "%cd PromptBasedReranking/"
      ],
      "metadata": {
        "id": "aCJaFzY3cDqo"
      },
      "execution_count": null,
      "outputs": []
    },
    {
      "cell_type": "code",
      "source": [
        "!bash setup.sh"
      ],
      "metadata": {
        "id": "a3x6GMeGey6w"
      },
      "execution_count": null,
      "outputs": []
    },
    {
      "cell_type": "code",
      "source": [
        "!python Baseline/download_dpr_data.py --resource data.wikipedia-split.psgs_w100"
      ],
      "metadata": {
        "id": "7ZhQbsuOpH7W"
      },
      "execution_count": null,
      "outputs": []
    },
    {
      "cell_type": "code",
      "source": [
        "!python Baseline/download_dpr_data.py --resource data.retriever-outputs.dpr.nq-train"
      ],
      "metadata": {
        "id": "VxlROfN2rCem"
      },
      "execution_count": null,
      "outputs": []
    },
    {
      "cell_type": "code",
      "source": [
        "\n",
        "import torch\n",
        "from torch.utils.data import Dataset, DataLoader\n",
        "import transformers\n",
        "import tokenizers\n",
        "import datasets \n",
        "import pandas\n",
        "\n",
        "wikipedia_txt = datasets.load_dataset(\"csv\", data_files='downloads/data/wikipedia-split/psgs_w100.tsv', delimiter='\\t')\n"
      ],
      "metadata": {
        "id": "-aoevJwPvJ_z"
      },
      "execution_count": null,
      "outputs": []
    },
    {
      "cell_type": "code",
      "source": [
        "wikipedia_txt"
      ],
      "metadata": {
        "id": "1A_V9cUj88fV"
      },
      "execution_count": null,
      "outputs": []
    },
    {
      "cell_type": "code",
      "source": [
        "nq_open = datasets.load_dataset(\"json\",data_files=\"downloads/data/retriever-outputs/dpr/nq-train.json\")"
      ],
      "metadata": {
        "id": "egdNZaJC1Bth"
      },
      "execution_count": null,
      "outputs": []
    },
    {
      "cell_type": "code",
      "source": [
        "nq_open[\"train\"][2][\"question\"]"
      ],
      "metadata": {
        "id": "j28EJ8XgczFW"
      },
      "execution_count": null,
      "outputs": []
    },
    {
      "cell_type": "code",
      "source": [
        "def get_top_k_pos(row, k, txt_database):\n",
        "  ctxs = row[\"ctxs\"]\n",
        "  top_k = []\n",
        "  for ctx in ctxs:\n",
        "    if ctx[\"has_answer\"]:\n",
        "      text = txt_database[ctx[\"id\"] - 1][\"text\"]\n",
        "      top_k.append((text, \"true\"))\n",
        "    if len(top_k) == k:\n",
        "      break\n",
        "  if len(top_k) == 0: \n",
        "    return []\n",
        "  while len(top_k) < k:\n",
        "    top_k.extend(top_k[:(k - len(top_k))])\n",
        "\n",
        "  return top_k[:k]\n",
        "  \n",
        "def get_top_k_pos_neg(row, k, txt_database):\n",
        "  ctxs = row[\"ctxs\"]\n",
        "  top_k_pos = []\n",
        "  top_k_neg = []\n",
        "  for ctx in ctxs:\n",
        "    if ctx[\"has_answer\"] and len(top_k_pos) < k:\n",
        "      text = txt_database[ctx[\"id\"] - 1][\"text\"]\n",
        "      top_k_pos.append((text, \"true\"))\n",
        "    if not ctx[\"has_answer\"] and len(top_k_neg) < k: \n",
        "      text = txt_database[ctx[\"id\"] - 1][\"text\"]\n",
        "      top_k_neg.append((text, \"false\"))\n",
        "    if len(top_k_pos) == k and len(top_k_neg):\n",
        "      break \n",
        "  if len(top_k_pos) == 0: \n",
        "    return []\n",
        "  while len(top_k_pos) < k:\n",
        "    top_k_pos.extend(top_k_pos[:(k - len(top_k_pos))])\n",
        "  while len(top_k_neg) < k:\n",
        "    top_k_neg.extend(top_k_neg[:(k - len(top_k_neg))])\n",
        " \n",
        "  return top_k_pos + top_k_neg\n",
        "\n"
      ],
      "metadata": {
        "id": "l_o-aBSYY-9G"
      },
      "execution_count": 127,
      "outputs": []
    },
    {
      "cell_type": "code",
      "source": [
        "def create_pos_txt_col(example, k, txt_database):\n",
        "  return {\"pos_text\": get_top_k_pos(example, k, txt_database)}\n",
        "\n",
        "def create_pos_neg_txt_col(example, k, txt_database):\n",
        "  return {\"pos_neg_text\": get_top_k_pos_neg(example, k, txt_database)}\n"
      ],
      "metadata": {
        "id": "uG5eRvLLm0Ku"
      },
      "execution_count": 140,
      "outputs": []
    },
    {
      "cell_type": "code",
      "source": [
        "from functools import partial\n",
        "nq_open[\"train\"] = nq_open[\"train\"].map(partial(create_pos_txt_col, k=20, txt_database=wikipedia_txt[\"train\"]), num_proc=4)"
      ],
      "metadata": {
        "id": "dvVUFQ71ppEv"
      },
      "execution_count": null,
      "outputs": []
    },
    {
      "cell_type": "code",
      "source": [
        "nq_open[\"train\"] = nq_open[\"train\"].map(partial(create_pos_neg_txt_col, k=10, txt_database=wikipedia_txt[\"train\"]), num_proc=4)"
      ],
      "metadata": {
        "id": "_QHcEW_H3450"
      },
      "execution_count": null,
      "outputs": []
    },
    {
      "cell_type": "code",
      "source": [
        "nq_open[\"train\"][0][\"pos_neg_text\"]"
      ],
      "metadata": {
        "id": "43ZS8EjgBI9x"
      },
      "execution_count": null,
      "outputs": []
    },
    {
      "cell_type": "code",
      "source": [
        "import tqdm\n",
        "def create_ranking_loss_baseline_examples(dataset, n=None):\n",
        "  if not n:\n",
        "    n = len(dataset)\n",
        "  inputs = []\n",
        "  targets = []\n",
        "  for i in tqdm(range(n)):\n",
        "    texts = dataset[i][\"pos_neg_text\"]\n",
        "    question = dataset[i][\"question\"]\n",
        "    for text in texts:\n",
        "      passage = text[0]\n",
        "      inputs.append(f\"Question: {question} Passage: {passage} Relevant: \")\n",
        "      targets.append(text[1])\n",
        "  k = [len(targets)/(n*2)] * len(targets)\n",
        "  return {\"inputs\": inputs, \"targets\": targets, \"k_pos_neg\": k}\n",
        "\n",
        "def create_q_gen_baseline_examples(dataset, n=None):\n",
        "  if not n:\n",
        "    n = len(dataset)\n",
        "  inputs = []\n",
        "  targets = []\n",
        "  for i in tqdm(range(n)):\n",
        "    texts = dataset[i][\"pos_text\"]\n",
        "    question = dataset[i][\"question\"]\n",
        "    for text in texts:\n",
        "      passage = text[0]\n",
        "      inputs.append(f\"Passage: {passage} Please write a question based on this passage\")\n",
        "      targets.append(question)\n",
        "  k = [len(targets)/(n)] * len(targets)\n",
        "  return {\"inputs\": inputs, \"targets\": targets, \"k_pos\": k}\n",
        "\n",
        "def create_q_gen_ranking_baseline_examples(dataset, n=None):\n",
        "  if not n:\n",
        "    n = len(dataset)\n",
        "  inputs = []\n",
        "  targets = []\n",
        "  for i in tqdm(range(n)):\n",
        "    texts = dataset[i][\"pos_neg_text\"]\n",
        "    question = dataset[i][\"question\"]\n",
        "    for text in texts:\n",
        "      passage = text[0]\n",
        "      inputs.append(f\"Passage: {passage} Please write a question based on this passage\")\n",
        "      targets.append(question)\n",
        "  k = [len(targets)/(n*2)] * len(targets)\n",
        "  return {\"inputs\": inputs, \"targets\": targets, \"k_pos_neg\": k}\n",
        "\n"
      ],
      "metadata": {
        "id": "5OOLl17P5Mxj"
      },
      "execution_count": 156,
      "outputs": []
    },
    {
      "cell_type": "code",
      "source": [
        "training_dict = create_ranking_loss_baseline_examples(nq_open[\"train\"])"
      ],
      "metadata": {
        "id": "Z6kOO9he5WZy",
        "outputId": "d58a8a45-6293-412a-fbab-c37aad99aad3",
        "colab": {
          "base_uri": "https://localhost:8080/",
          "height": 187
        }
      },
      "execution_count": 159,
      "outputs": [
        {
          "output_type": "error",
          "ename": "AttributeError",
          "evalue": "ignored",
          "traceback": [
            "\u001b[0;31m---------------------------------------------------------------------------\u001b[0m",
            "\u001b[0;31mAttributeError\u001b[0m                            Traceback (most recent call last)",
            "\u001b[0;32m<ipython-input-159-2616b2b5b3b8>\u001b[0m in \u001b[0;36m<module>\u001b[0;34m\u001b[0m\n\u001b[1;32m      1\u001b[0m \u001b[0mtraining_dict\u001b[0m \u001b[0;34m=\u001b[0m \u001b[0mcreate_ranking_loss_baseline_examples\u001b[0m\u001b[0;34m(\u001b[0m\u001b[0mnq_open\u001b[0m\u001b[0;34m[\u001b[0m\u001b[0;34m\"train\"\u001b[0m\u001b[0;34m]\u001b[0m\u001b[0;34m)\u001b[0m\u001b[0;34m\u001b[0m\u001b[0;34m\u001b[0m\u001b[0m\n\u001b[0;32m----> 2\u001b[0;31m \u001b[0mranking_loss_dataset\u001b[0m \u001b[0;34m=\u001b[0m \u001b[0mdatasets\u001b[0m\u001b[0;34m.\u001b[0m\u001b[0mfrom_dict\u001b[0m\u001b[0;34m(\u001b[0m\u001b[0mtraining_dict\u001b[0m\u001b[0;34m)\u001b[0m\u001b[0;34m\u001b[0m\u001b[0;34m\u001b[0m\u001b[0m\n\u001b[0m",
            "\u001b[0;31mAttributeError\u001b[0m: module 'datasets' has no attribute 'from_dict'"
          ]
        }
      ]
    },
    {
      "cell_type": "code",
      "source": [
        "ranking_loss_dataset = datasets.Dataset.from_dict(training_dict)"
      ],
      "metadata": {
        "id": "fXXE7VR4WXW0"
      },
      "execution_count": 161,
      "outputs": []
    },
    {
      "cell_type": "code",
      "source": [
        "ranking_loss_dataset.save_to_disk('/downloads/data')"
      ],
      "metadata": {
        "id": "l5dXGuuNXNax"
      },
      "execution_count": 164,
      "outputs": []
    }
  ]
}