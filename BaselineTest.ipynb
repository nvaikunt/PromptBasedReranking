{
  "nbformat": 4,
  "nbformat_minor": 0,
  "metadata": {
    "colab": {
      "provenance": [],
      "machine_shape": "hm",
      "authorship_tag": "ABX9TyMtt8ojNjUDPlTtQY8KAKUy",
      "include_colab_link": true
    },
    "kernelspec": {
      "name": "python3",
      "display_name": "Python 3"
    },
    "language_info": {
      "name": "python"
    },
    "accelerator": "GPU"
  },
  "cells": [
    {
      "cell_type": "markdown",
      "metadata": {
        "id": "view-in-github",
        "colab_type": "text"
      },
      "source": [
        "<a href=\"https://colab.research.google.com/github/nvaikunt/PromptBasedReranking/blob/main/BaselineTest.ipynb\" target=\"_parent\"><img src=\"https://colab.research.google.com/assets/colab-badge.svg\" alt=\"Open In Colab\"/></a>"
      ]
    },
    {
      "cell_type": "code",
      "execution_count": null,
      "metadata": {
        "id": "Ty9kvEWUUnWA",
        "pycharm": {
          "name": "#%%\n"
        }
      },
      "outputs": [],
      "source": [
        "!git clone https://github.com/nvaikunt/PromptBasedReranking.git"
      ]
    },
    {
      "cell_type": "code",
      "source": [
        "!pip install -q condacolab\n",
        "import condacolab\n",
        "condacolab.install()"
      ],
      "metadata": {
        "id": "fyZJj4_rbt13",
        "pycharm": {
          "name": "#%%\n"
        }
      },
      "execution_count": null,
      "outputs": []
    },
    {
      "cell_type": "code",
      "source": [
        "!conda --version"
      ],
      "metadata": {
        "id": "pPVDbhP4d-xX",
        "pycharm": {
          "name": "#%%\n"
        }
      },
      "execution_count": null,
      "outputs": []
    },
    {
      "cell_type": "code",
      "source": [
        "%cd PromptBasedReranking/"
      ],
      "metadata": {
        "id": "aCJaFzY3cDqo",
        "pycharm": {
          "name": "#%%\n"
        }
      },
      "execution_count": null,
      "outputs": []
    },
    {
      "cell_type": "code",
      "source": [
        "!bash setup.sh"
      ],
      "metadata": {
        "id": "a3x6GMeGey6w",
        "pycharm": {
          "name": "#%%\n"
        }
      },
      "execution_count": null,
      "outputs": []
    },
    {
      "cell_type": "code",
      "source": [
        "import torch\n",
        "torch.cuda.is_available()"
      ],
      "metadata": {
        "id": "IFklJTLN399-",
        "pycharm": {
          "name": "#%%\n"
        }
      },
      "execution_count": null,
      "outputs": []
    },
    {
      "cell_type": "code",
      "source": [
        "!python utils/download_dpr_data.py --resource data.wikipedia-split.psgs_w100"
      ],
      "metadata": {
        "id": "7ZhQbsuOpH7W",
        "pycharm": {
          "name": "#%%\n"
        }
      },
      "execution_count": null,
      "outputs": []
    },
    {
      "cell_type": "code",
      "source": [
        "!python utils/download_dpr_data.py --resource data.retriever-outputs.dpr.nq-train"
      ],
      "metadata": {
        "id": "VxlROfN2rCem",
        "pycharm": {
          "name": "#%%\n"
        }
      },
      "execution_count": null,
      "outputs": []
    },
    {
      "cell_type": "code",
      "source": [
        "!python utils/download_dpr_data.py --resource data.retriever-outputs.dpr.nq-dev"
      ],
      "metadata": {
        "id": "NdRFSl84uXvM",
        "pycharm": {
          "name": "#%%\n"
        }
      },
      "execution_count": null,
      "outputs": []
    },
    {
      "cell_type": "code",
      "source": [
        "!mkdir output_test"
      ],
      "metadata": {
        "id": "RB7JNA6-HKEf"
      },
      "execution_count": 7,
      "outputs": []
    },
    {
      "cell_type": "code",
      "source": [
        "!python baseline_train.py -ep 1 -lr 5e-4  -bs 10 -odir output_test \\\n",
        " -edir 'downloads/data/wikipedia-split/psgs_w100.tsv' \\\n",
        " -tdir \"downloads/data/retriever-outputs/dpr/nq-train.json\" \\\n",
        " -vdir \"downloads/data/retriever-outputs/dpr/nq-dev.json\" \\\n",
        " -trsz 200 -vlsz 20 -ngpu 1 -m \"google/t5-base-lm-adapt\""
      ],
      "metadata": {
        "id": "GY9LNb__GvV6"
      },
      "execution_count": null,
      "outputs": []
    },
    {
      "cell_type": "code",
      "source": [
        "from transformers import AutoTokenizer, T5ForConditionalGeneration\n",
        "from preprocess_data import create_training_dataset\n",
        "model_checkpoint = \"google/t5-base-lm-adapt\"\n",
        "model_checkpoint_2 = \"bigscience/T0_3B\"\n",
        "tokenizer = AutoTokenizer.from_pretrained(model_checkpoint)\n",
        "model = T5ForConditionalGeneration.from_pretrained(model_checkpoint)\n",
        "train_file = \"downloads/data/retriever-outputs/dpr/nq-train.json\"\n",
        "evidence_file = 'downloads/data/wikipedia-split/psgs_w100.tsv'\n",
        "train_dataset = create_training_dataset(train_file, evidence_file, 400, \n",
        "                                        isQG=False, isRanking=True, batch_sz=10,\n",
        "                                        tokenizer=tokenizer)\n",
        "train_dataset"
      ],
      "metadata": {
        "id": "bIXUD06o9bM7"
      },
      "execution_count": null,
      "outputs": []
    },
    {
      "cell_type": "code",
      "source": [
        "from transformers import AdamW\n",
        "from transformers import get_scheduler\n",
        "from transformers import DataCollatorForSeq2Seq\n",
        "from torch.utils.data import DataLoader\n",
        "from tqdm import tqdm\n",
        "\n",
        "\n",
        "batch_size = 10\n",
        "data_collator = DataCollatorForSeq2Seq(tokenizer, model=model)\n",
        "train_dataloader = DataLoader(train_dataset, batch_size=10, collate_fn=data_collator, shuffle=False)\n",
        "truth_ix = 1176\n",
        "false_ix = 6136\n",
        "optimizer = AdamW(model.parameters(), lr=5e-4)\n",
        "num_epochs = 3\n",
        "num_training_steps = num_epochs * len(train_dataloader)\n",
        "lr_scheduler = get_scheduler(\n",
        "    \"linear\",\n",
        "    optimizer=optimizer,\n",
        "    num_warmup_steps=0,\n",
        "    num_training_steps=num_training_steps,\n",
        ")\n",
        "model.train()\n",
        "progress_bar = tqdm(range(num_training_steps))\n",
        "device = \"cuda:0\"\n",
        "model.to(device)\n",
        "model.eval\n",
        "log_softmax = torch.nn.LogSoftmax(dim=-1)\n",
        "for epoch in range(num_epochs):\n",
        "  losses = []\n",
        "  with torch.no_grad():\n",
        "    for step, batch in enumerate(train_dataloader):\n",
        "            batch = {k: v.to(device) for k, v in batch.items()}\n",
        "            outputs = model(**batch)\n",
        "            logits = outputs.logits\n",
        "            log_soft = log_softmax(logits)\n",
        "            print(log_soft[:,0,truth_ix])\n",
        "            print(log_soft[:,0,false_ix])\n",
        "            print(batch[\"labels\"])\n",
        "            loss = ranking_loss(logits, batch[\"labels\"], 1, \n",
        "                                  batch[\"labels\"].size(dim=0))\n",
        "            if step > 2: \n",
        "              break\n",
        "            losses.append(loss)\n",
        "            #loss.backward()\n",
        "\n",
        "            #optimizer.step()\n",
        "            #lr_scheduler.step()\n",
        "            #optimizer.zero_grad()\n",
        "            #progress_bar.update(1)\n",
        "  print(f'Train Loss in Epoch {epoch}: {sum(losses)/len(losses)}')\n"
      ],
      "metadata": {
        "id": "7w2kIMll8bVk"
      },
      "execution_count": null,
      "outputs": []
    },
    {
      "cell_type": "code",
      "source": [
        "wikipedia_txt"
      ],
      "metadata": {
        "id": "1A_V9cUj88fV",
        "pycharm": {
          "name": "#%%\n"
        }
      },
      "execution_count": null,
      "outputs": []
    },
    {
      "cell_type": "code",
      "source": [
        "nq_open = datasets.load_dataset(\"json\", data_files=\"downloads/data/retriever-outputs/dpr/nq-train.json\")\n"
      ],
      "metadata": {
        "id": "egdNZaJC1Bth",
        "pycharm": {
          "name": "#%%\n"
        }
      },
      "execution_count": null,
      "outputs": []
    },
    {
      "cell_type": "code",
      "source": [
        "nq_open[\"validation\"] = datasets.load_dataset(\"json\",data_files=\"downloads/data/retriever-outputs/dpr/nq-dev.json\", split=\"train\")"
      ],
      "metadata": {
        "id": "j28EJ8XgczFW",
        "pycharm": {
          "name": "#%%\n"
        }
      },
      "execution_count": null,
      "outputs": []
    },
    {
      "cell_type": "code",
      "source": [
        "def get_top_k_pos(row, k, txt_database):\n",
        "  ctxs = row[\"ctxs\"]\n",
        "  top_k = []\n",
        "  for ctx in ctxs:\n",
        "    if ctx[\"has_answer\"]:\n",
        "      text = txt_database[ctx[\"id\"] - 1][\"text\"]\n",
        "      top_k.append((text, \"true\"))\n",
        "    if len(top_k) == k:\n",
        "      break\n",
        "  if len(top_k) == 0: \n",
        "    return []\n",
        "  while len(top_k) < k:\n",
        "    top_k.extend(top_k[:(k - len(top_k))])\n",
        "\n",
        "  return top_k[:k]\n",
        "  \n",
        "def get_top_k_pos_neg(row, k, txt_database):\n",
        "  ctxs = row[\"ctxs\"]\n",
        "  top_k_pos = []\n",
        "  top_k_neg = []\n",
        "  for ctx in ctxs:\n",
        "    if ctx[\"has_answer\"] and len(top_k_pos) < k:\n",
        "      text = txt_database[ctx[\"id\"] - 1][\"text\"]\n",
        "      top_k_pos.append((text, \"true\"))\n",
        "    if not ctx[\"has_answer\"] and len(top_k_neg) < k: \n",
        "      text = txt_database[ctx[\"id\"] - 1][\"text\"]\n",
        "      top_k_neg.append((text, \"false\"))\n",
        "    if len(top_k_pos) == k and len(top_k_neg):\n",
        "      break \n",
        "  if len(top_k_pos) == 0: \n",
        "    return []\n",
        "  while len(top_k_pos) < k:\n",
        "    top_k_pos.extend(top_k_pos[:(k - len(top_k_pos))])\n",
        "  while len(top_k_neg) < k:\n",
        "    top_k_neg.extend(top_k_neg[:(k - len(top_k_neg))])\n",
        "  top_k = []\n",
        "  top_k.extend(top_k_pos[:k])\n",
        "  top_k.extend(top_k_neg[:k])\n",
        "  return top_k\n"
      ],
      "metadata": {
        "id": "l_o-aBSYY-9G",
        "pycharm": {
          "name": "#%%\n"
        }
      },
      "execution_count": null,
      "outputs": []
    },
    {
      "cell_type": "code",
      "source": [
        "def create_pos_txt_col(example, k, txt_database):\n",
        "  return {\"pos_text\": get_top_k_pos(example, k, txt_database)}\n",
        "\n",
        "def create_pos_neg_txt_col(example, k, txt_database):\n",
        "  return {\"pos_neg_text\": get_top_k_pos_neg(example, k, txt_database)}\n"
      ],
      "metadata": {
        "id": "uG5eRvLLm0Ku",
        "pycharm": {
          "name": "#%%\n"
        }
      },
      "execution_count": null,
      "outputs": []
    },
    {
      "cell_type": "code",
      "source": [
        "from functools import partial\n",
        "nq_open[\"train\"] = nq_open[\"train\"].map(partial(create_pos_txt_col, k=10, txt_database=wikipedia_txt[\"train\"]), num_proc=4)"
      ],
      "metadata": {
        "id": "dvVUFQ71ppEv",
        "pycharm": {
          "name": "#%%\n"
        }
      },
      "execution_count": null,
      "outputs": []
    },
    {
      "cell_type": "code",
      "source": [
        "nq_open[\"train\"] = nq_open[\"train\"].map(partial(create_pos_neg_txt_col, k=5, txt_database=wikipedia_txt[\"train\"]), num_proc=4)"
      ],
      "metadata": {
        "id": "_QHcEW_H3450",
        "pycharm": {
          "name": "#%%\n"
        }
      },
      "execution_count": null,
      "outputs": []
    },
    {
      "cell_type": "code",
      "source": [
        "nq_open[\"validation\"] = nq_open[\"validation\"].map(partial(create_pos_txt_col, k=10, txt_database=wikipedia_txt[\"train\"]), num_proc=4)\n",
        "nq_open[\"validation\"] = nq_open[\"validation\"].map(partial(create_pos_neg_txt_col, k=5, txt_database=wikipedia_txt[\"train\"]), num_proc=4)"
      ],
      "metadata": {
        "id": "43ZS8EjgBI9x",
        "pycharm": {
          "name": "#%%\n"
        }
      },
      "execution_count": null,
      "outputs": []
    },
    {
      "cell_type": "code",
      "source": [
        "from tqdm import tqdm\n",
        "def create_ranking_loss_baseline_examples(dataset, n=None):\n",
        "  if not n:\n",
        "    n = len(dataset)\n",
        "  with_answer = 0 \n",
        "  inputs = []\n",
        "  targets = []\n",
        "  for i in tqdm(range(n)):\n",
        "    texts = dataset[i][\"pos_neg_text\"]\n",
        "    if not texts: continue \n",
        "    question = dataset[i][\"question\"]\n",
        "    current_inputs = [f\"Question: {question} Passage: {text[0]} Relevant: \" for text in texts]\n",
        "    current_targets = [text[1] for text in texts]\n",
        "    inputs.extend(current_inputs)\n",
        "    targets.extend(current_targets)\n",
        "    with_answer += 1 \n",
        "  k = [len(targets)/(with_answer * 2)] * len(targets)\n",
        "  return {\"inputs\": inputs, \"targets\": targets, \"k_pos_neg\": k}\n",
        "\n",
        "def create_q_gen_baseline_examples(dataset, n=None):\n",
        "  if not n:\n",
        "    n = len(dataset)\n",
        "  inputs = []\n",
        "  targets = []\n",
        "  with_answer = 0 \n",
        "  for i in tqdm(range(n)):\n",
        "    texts = dataset[i][\"pos_text\"]\n",
        "    if not texts: continue \n",
        "    question = dataset[i][\"question\"]\n",
        "    current_inputs = [f\"Passage: {text[0]} Please write a question based on this passage\" for text in texts]\n",
        "    current_targets = [question for text in texts]\n",
        "    inputs.extend(current_inputs)\n",
        "    targets.extend(current_targets)\n",
        "    with_answer += 1     \n",
        "  k = [len(targets)/(with_answer)] * len(targets)\n",
        "  return {\"inputs\": inputs, \"targets\": targets, \"k_pos\": k}\n",
        "\n",
        "def create_q_gen_ranking_baseline_examples(dataset, n=None):\n",
        "  if not n:\n",
        "    n = len(dataset)\n",
        "  inputs = []\n",
        "  targets = []\n",
        "  with_answer = 0 \n",
        "  for i in tqdm(range(n)):\n",
        "    texts = dataset[i][\"pos_neg_text\"]\n",
        "    if not texts: continue \n",
        "    question = dataset[i][\"question\"]\n",
        "    current_inputs = [f\"Passage: {text[0]} Please write a question based on this passage\" for text in texts]\n",
        "    current_targets = [question for text in texts]\n",
        "    inputs.extend(current_inputs)\n",
        "    targets.extend(current_targets)\n",
        "    with_answer += 1   \n",
        "  k = [len(targets)/(with_answer * 2)] * len(targets)\n",
        "  return {\"inputs\": inputs, \"targets\": targets, \"k_pos_neg\": k}\n",
        "\n"
      ],
      "metadata": {
        "id": "5OOLl17P5Mxj",
        "pycharm": {
          "name": "#%%\n"
        }
      },
      "execution_count": null,
      "outputs": []
    },
    {
      "cell_type": "code",
      "source": [
        "from transformers import AutoTokenizer, AutoModelForSeq2SeqLM, T5ForConditionalGeneration\n",
        "from utils.data_utils import create_evidence_texts, create_pos_neg_txt_col\n",
        "from functools import partial\n",
        "import datasets\n",
        "import utils.data_utils as data_utils\n",
        "import utils.train_utils as train_utils\n",
        "wikipedia_txt = create_evidence_texts('downloads/data/wikipedia-split/psgs_w100.tsv')\n",
        "tokenizer = AutoTokenizer.from_pretrained(model_checkpoint)\n",
        "nq_open = datasets.load_dataset(\"json\", data_files=\"downloads/data/retriever-outputs/dpr/nq-train.json\", split=\"train\")\n",
        "nq_open = nq_open.select(range(0,400))\n",
        "nq_open = nq_open.map(partial(data_utils.create_pos_neg_txt_col, k=10, txt_database=wikipedia_txt), num_proc=4)\n",
        "trn_function = train_utils.create_ranking_loss_baseline_examples\n",
        "train_dict = trn_function(nq_open, n=3)\n",
        "train_dataset = datasets.Dataset.from_dict(train_dict)\n",
        "train_dataset = train_dataset.map(partial(data_utils.preprocess_function, tokenizer=tokenizer, max_input_length=300, \n",
        "                                     max_target_length=50, input_col=\"inputs\"), batched=True)\n",
        "train_dataset"
      ],
      "metadata": {
        "id": "l5dXGuuNXNax",
        "pycharm": {
          "name": "#%%\n"
        }
      },
      "execution_count": null,
      "outputs": []
    },
    {
      "cell_type": "code",
      "source": [
        "def preprocess_function(examples, tokenizer, max_input_length, max_target_length, input_col) -> dict:\n",
        "    print(type(examples))\n",
        "    model_inputs = tokenizer(\n",
        "        examples[input_col],\n",
        "        max_length=max_input_length,\n",
        "        truncation=True,  padding=\"longest\"\n",
        "    )\n",
        "    labels = tokenizer(text_target=examples[\"targets\"], max_length=max_target_length, truncation=True,  padding=\"longest\", return_tensors=\"pt\"\n",
        "    )\n",
        "    model_inputs[\"labels\"] = labels[\"input_ids\"]\n",
        "    model_inputs[\"decoder_attention_mask\"] = labels[\"attention_mask\"]\n",
        "    return model_inputs"
      ],
      "metadata": {
        "id": "9RuEc3OMcpa9",
        "pycharm": {
          "name": "#%%\n"
        }
      },
      "execution_count": null,
      "outputs": []
    },
    {
      "cell_type": "code",
      "source": [
        "from transformers import T5ForConditionalGeneration\n",
        "model = T5ForConditionalGeneration.from_pretrained(model_checkpoint)"
      ],
      "metadata": {
        "id": "X_LKBJeFnxVW",
        "pycharm": {
          "name": "#%%\n"
        }
      },
      "execution_count": null,
      "outputs": []
    },
    {
      "cell_type": "code",
      "source": [
        "def qg_batching(question, ctxs, has_ans, evidence_txts):\n",
        "  texts = [evidence_txts[ctx[\"id\"] - 1][\"text\"] for ctx in ctxs]\n",
        "  texts = [f\"Passage: {text} Please write a question based on this passage\" for text in texts]\n",
        "  targets = [question for text in texts]\n",
        "  eval_dataset = datasets.Dataset.from_dict({'inputs': texts, 'targets': targets})  \n",
        "  return eval_dataset\n",
        "\n",
        "def relevance_batching(question, ctxs, has_ans, evidence_txts):\n",
        "  texts = [evidence_txts[ctx[\"id\"] - 1][\"text\"] for ctx in ctxs]\n",
        "  texts = [f\"Question: {question} Passage: {text} Relevant: \" for text in texts]\n",
        "  targets = [\"true\" if ans else \"false\" for ans in has_ans]\n",
        "  new_dataset = datasets.Dataset.from_dict({'inputs': texts, 'targets': targets})\n",
        "  return new_dataset\n",
        "  \n",
        "def qg_ranking(logits, labels):\n",
        "  log_softmax = torch.nn.LogSoftmax(dim=-1)\n",
        "  log_soft = log_softmax(logits)\n",
        "  labels = labels.unsqueeze(2)\n",
        "  log_soft = log_soft.gather(2, labels).squeeze(2)\n",
        "  log_soft = log_soft.mean(dim=1)\n",
        "  return log_soft\n",
        "  \n",
        "def relevance_ranking(logits, labels, truth_ix):\n",
        "  softmax = torch.nn.Softmax(dim=-1)\n",
        "  probs = softmax(logits)\n",
        "  probs = probs[:, 0, truth_ix]\n",
        "  return probs\n",
        "\n",
        "\n"
      ],
      "metadata": {
        "id": "kNpbxTGxtJur",
        "pycharm": {
          "name": "#%%\n"
        }
      },
      "execution_count": null,
      "outputs": []
    },
    {
      "cell_type": "code",
      "source": [
        "from transformers.utils.logging import disable_progress_bar\n",
        "from transformers import DataCollatorForSeq2Seq\n",
        "from torch.utils.data import SequentialSampler, DataLoader\n",
        "import numpy as np\n",
        "def evaluate_recall(validation, k, model, tokenizer, batch_size, evidence_txts, \n",
        "                       preprocess_function, truth_ix, isRanking=False, isQG=True):\n",
        "  \n",
        "  assert k // batch_size != 0, \"k must be multiple of batch_size\"\n",
        "  assert batch_size // 2 != 0, \"Batch Size Must Be Even\"\n",
        "\n",
        "  if k < batch_size: \n",
        "    batch_size = k\n",
        "\n",
        "  original_recall = []\n",
        "  current_recall = []\n",
        "  device = \"cuda:0\" if torch.cuda.is_available() else \"cpu\"\n",
        "  model.to(device)\n",
        "  losses = []\n",
        "  for i in tqdm(range(len(validation))):\n",
        "\n",
        "    # Extract Question, Passages, and Info on Whether Passages have Answer\n",
        "    question = validation[i][\"question\"]\n",
        "    ctxs = validation[i][\"ctxs\"][:k]\n",
        "    has_ans = [ctx[\"has_answer\"] for ctx in ctxs]\n",
        "    has_ans = torch.BoolTensor(has_ans)\n",
        "\n",
        "    # Build Data as Model Expects\n",
        "    if isQG: \n",
        "      eval_dataset = qg_batching(question, ctxs, has_ans, evidence_txts)\n",
        "    else: \n",
        "      eval_dataset = relevance_batching(question, ctxs, has_ans, evidence_txts)\n",
        "\n",
        "    datasets.utils.disable_progress_bar()\n",
        "    data_collator = DataCollatorForSeq2Seq(tokenizer, model=model)\n",
        "    eval_dataset = eval_dataset.map(partial(preprocess_function, max_input_length=300,\n",
        "                                                            max_target_length=50, input_col='inputs'), \n",
        "                                    batched=True)\n",
        "\n",
        "    eval_dataset = eval_dataset.remove_columns([\"inputs\", \"targets\"])\n",
        "    eval_dataset.set_format(type=\"torch\")\n",
        "    eval_dataloader = DataLoader(eval_dataset, batch_size=batch_size, collate_fn=data_collator, shuffle=False)\n",
        "    \n",
        "    # Calculate Log Scores and Get Ranking\n",
        "    scores = []\n",
        "    model.eval()\n",
        "    for step, batch in enumerate(eval_dataloader):\n",
        "        with torch.no_grad():\n",
        "          batch = {k: v.to(device) for k, v in batch.items()}\n",
        "          outputs = model(**batch)\n",
        "          logits = outputs.logits\n",
        "          labels = batch[\"labels\"]\n",
        "          if isRanking:\n",
        "            loss = ranking_loss(logits, batch[\"labels\"], 1, \n",
        "                                batch[\"labels\"].size(dim=0))\n",
        "            losses.append(loss)\n",
        "          else: \n",
        "            losses.append(outputs.loss)\n",
        "          if isQG: \n",
        "            score = qg_ranking(logits, labels)\n",
        "          else: \n",
        "            score = relevance_ranking(logits, labels, truth_ix)\n",
        "          scores.append(score)\n",
        "    \n",
        "    scores = torch.cat(scores)\n",
        "    topk_scores, indexes = torch.topk(scores, k=len(scores))\n",
        "\n",
        "    # Collect Stats for Recall\n",
        "    ranked_answers = has_ans[indexes]\n",
        "    current_has_ans = torch.cumsum(ranked_answers, dim=0) > 0\n",
        "    original_has_ans = torch.cumsum(has_ans, dim=0) > 0\n",
        "\n",
        "    original_recall.append(original_has_ans.tolist())\n",
        "    current_recall.append(current_has_ans.tolist())\n",
        "\n",
        "  original_recall = np.mean(np.array(original_recall), axis=0)\n",
        "  current_recall = np.mean(np.array(current_recall), axis=0)\n",
        "  loss = sum(losses) / len(losses)\n",
        "  return original_recall, current_recall, loss\n",
        "\n",
        "\n",
        "\n",
        "    \n",
        "\n"
      ],
      "metadata": {
        "id": "-jitIWA7VM8K",
        "pycharm": {
          "name": "#%%\n"
        }
      },
      "execution_count": null,
      "outputs": []
    },
    {
      "cell_type": "code",
      "source": [
        "val_dataset = nq_open[\"train\"].select(range(30,50))\n",
        "original_recall, current_recall, loss = evaluate_recall(val_dataset, k=30, model=model,\n",
        "                                                     tokenizer=tokenizer, \n",
        "                                                     batch_size=10, \n",
        "                                                     evidence_txts = wikipedia_txt[\"train\"], \n",
        "                                                     preprocess_function=preprocess_function, truth_ix=1176)\n"
      ],
      "metadata": {
        "id": "ebIq1r4Ade15",
        "pycharm": {
          "name": "#%%\n"
        }
      },
      "execution_count": null,
      "outputs": []
    },
    {
      "cell_type": "code",
      "source": [
        "!nvidia-smi"
      ],
      "metadata": {
        "id": "3aU_ooTg5798",
        "pycharm": {
          "name": "#%%\n"
        }
      },
      "execution_count": null,
      "outputs": []
    },
    {
      "cell_type": "code",
      "source": [
        "def ranking_loss(outputs, labels, margin, batch_size):\n",
        "  assert batch_size // 2 != 0, \"Batch Size must be even\" \n",
        "\n",
        "  log_softmax = torch.nn.LogSoftmax(dim=-1)\n",
        "  outputs = log_softmax(outputs)\n",
        "  pos_end = batch_size // 2\n",
        "  ce_loss = torch.nn.CrossEntropyLoss()\n",
        "  pos_outputs = outputs[:pos_end, :, :]\n",
        "  neg_outputs = outputs[pos_end:, :, :]\n",
        "  print(pos_outputs.size(), neg_outputs.size())\n",
        "  flat_size = pos_outputs.size(-1)\n",
        "  pos_loss = ce_loss(pos_outputs.view(-1, flat_size), labels[:pos_end, :].view(-1))\n",
        "  neg_loss = ce_loss(neg_outputs.view(-1, flat_size), labels[pos_end:, :].view(-1))\n",
        "  print(pos_loss)\n",
        "  print(neg_loss)\n",
        "  margin_loss = torch.nn.MarginRankingLoss(margin)\n",
        "  loss = margin_loss(pos_loss, neg_loss, torch.tensor(-1))\n",
        "\n",
        "  return loss"
      ],
      "metadata": {
        "id": "miOZvT8Vvhx7",
        "pycharm": {
          "name": "#%%\n"
        }
      },
      "execution_count": null,
      "outputs": []
    },
    {
      "cell_type": "code",
      "source": [
        "from transformers import AdamW\n",
        "from transformers import get_scheduler\n",
        "train_dataset = datasets.Dataset.from_dict(create_q_gen_ranking_baseline_examples(nq_open[\"train\"].select(range(100, 500))))\n",
        "data_collator = DataCollatorForSeq2Seq(tokenizer, model=model)\n",
        "train_dataset = train_dataset.map(partial(preprocess_function, max_input_length=300,\n",
        "                                                            max_target_length=50, input_col='inputs'), \n",
        "                                    batched=True)\n",
        "\n",
        "train_dataset = train_dataset.remove_columns([\"inputs\", \"targets\", \"k_pos_neg\"])\n",
        "train_dataset.set_format(type=\"torch\")\n",
        "batch_size = 10\n",
        "train_dataloader = DataLoader(train_dataset, batch_size=batch_size, collate_fn=data_collator, shuffle=False)\n",
        "\n",
        "truth_ix = 1176\n",
        "optimizer = AdamW(model.parameters(), lr=5e-4)\n",
        "num_epochs = 3\n",
        "num_training_steps = num_epochs * len(train_dataloader)\n",
        "lr_scheduler = get_scheduler(\n",
        "    \"linear\",\n",
        "    optimizer=optimizer,\n",
        "    num_warmup_steps=0,\n",
        "    num_training_steps=num_training_steps,\n",
        ")\n",
        "model.train()\n",
        "progress_bar = tqdm(range(num_training_steps))\n",
        "device = \"cuda:0\"\n",
        "model.to(device)\n",
        "for epoch in range(num_epochs):\n",
        "  losses = []\n",
        "  for step, batch in enumerate(train_dataloader):\n",
        "          batch = {k: v.to(device) for k, v in batch.items()}\n",
        "          outputs = model(**batch)\n",
        "          logits = outputs.logits\n",
        "          loss = ranking_loss(logits, batch[\"labels\"], 1, \n",
        "                                batch[\"labels\"].size(dim=0))\n",
        "          losses.append(loss)\n",
        "          loss.backward()\n",
        "\n",
        "          optimizer.step()\n",
        "          lr_scheduler.step()\n",
        "          optimizer.zero_grad()\n",
        "          progress_bar.update(1)\n",
        "  print(f'Train Loss in Epoch {epoch}: {sum(losses)/len(losses)}')\n",
        "  val_dataset = nq_open[\"validation\"].select(range(30,50))\n",
        "  original_recall, current_recall, loss = evaluate_recall(val_dataset, k=30, model=model,\n",
        "                                                     tokenizer=tokenizer, \n",
        "                                                     batch_size=10, \n",
        "                                                     evidence_txts = wikipedia_txt[\"train\"], \n",
        "                                                     preprocess_function=preprocess_function, isRanking=True, \n",
        "                                                     truth_ix=truth_ix)\n",
        "  print(f'DPR Recall @ 5: {original_recall[5]}')\n",
        "  print(f'Our Recall @ 5: {current_recall[5]}')\n",
        "  print(f'Validation Loss: {loss.item()}')\n",
        "  \n",
        "  \n"
      ],
      "metadata": {
        "id": "wUF3LN11EUjp",
        "pycharm": {
          "name": "#%%\n"
        }
      },
      "execution_count": null,
      "outputs": []
    },
    {
      "cell_type": "code",
      "source": [],
      "metadata": {
        "id": "WspdWc1kAPT0",
        "pycharm": {
          "name": "#%%\n"
        }
      },
      "execution_count": null,
      "outputs": []
    },
    {
      "cell_type": "code",
      "source": [
        "original_recall, current_recall, loss = evaluate_recall(nq_open[\"train\"].select(range(100, 500)), k=30, model=model,\n",
        "                                                     tokenizer=tokenizer, \n",
        "                                                     batch_size=10, \n",
        "                                                     evidence_txts = wikipedia_txt[\"train\"], \n",
        "                                                     preprocess_function=preprocess_function, isQG=False, \n",
        "                                                     truth_ix=1176)\n",
        "print(original_recall, current_recall, loss)"
      ],
      "metadata": {
        "id": "WY9xKRajEU9e",
        "pycharm": {
          "name": "#%%\n"
        }
      },
      "execution_count": null,
      "outputs": []
    },
    {
      "cell_type": "code",
      "source": [
        "print(current_recall[19], original_recall[19])"
      ],
      "metadata": {
        "id": "k6SO8vFMPH9C",
        "pycharm": {
          "name": "#%%\n"
        }
      },
      "execution_count": null,
      "outputs": []
    },
    {
      "cell_type": "code",
      "source": [
        "model = T5ForConditionalGeneration.from_pretrained(model_checkpoint)\n",
        "original_recall, current_recall, loss = evaluate_recall(nq_open[\"train\"].select(range(100, 110)), k=30, model=model,\n",
        "                                                     tokenizer=tokenizer, \n",
        "                                                     batch_size=10, \n",
        "                                                     evidence_txts = wikipedia_txt[\"train\"], \n",
        "                                                     preprocess_function=preprocess_function, isQG=False,\n",
        "                                                     truth_ix=truth_ix)\n",
        "\n",
        "print(current_recall[19], original_recall[19])"
      ],
      "metadata": {
        "id": "wpakzMZjDNTy",
        "pycharm": {
          "name": "#%%\n"
        }
      },
      "execution_count": null,
      "outputs": []
    },
    {
      "cell_type": "code",
      "source": [
        "print(current_recall[19], original_recall[19], loss)"
      ],
      "metadata": {
        "id": "rQNKKtPrEVsm",
        "pycharm": {
          "name": "#%%\n"
        }
      },
      "execution_count": null,
      "outputs": []
    },
    {
      "cell_type": "code",
      "source": [
        "validation = nq_open[\"train\"].select(range(100, 110))\n",
        "truth_ix = 1176\n",
        "isQG = False\n",
        "i = 0\n",
        "k = 30\n",
        "batch_size = 10\n",
        "question = validation[i][\"question\"]\n",
        "ctxs = validation[i][\"ctxs\"][:k]\n",
        "has_ans = [ctx[\"has_answer\"] for ctx in ctxs]\n",
        "has_ans = torch.BoolTensor(has_ans)\n",
        "losses = []\n",
        "# Build Data as Model Expects\n",
        "evidence_txts = wikipedia_txt[\"train\"]\n",
        "eval_dataset = relevance_batching(question, ctxs, has_ans, evidence_txts)\n",
        "\n",
        "datasets.utils.disable_progress_bar()\n",
        "data_collator = DataCollatorForSeq2Seq(tokenizer, model=model)\n",
        "eval_dataset = eval_dataset.map(partial(preprocess_function, max_input_length=300,\n",
        "                                                        max_target_length=50, input_col='inputs'), \n",
        "                                batched=True)\n",
        "\n",
        "eval_dataset = eval_dataset.remove_columns([\"inputs\", \"targets\"])\n",
        "eval_dataset.set_format(type=\"torch\")\n",
        "eval_dataloader = DataLoader(eval_dataset, batch_size=batch_size, collate_fn=data_collator, shuffle=False)\n",
        "isRanking=False\n",
        "# Calculate Log Scores and Get Ranking\n",
        "scores = []\n",
        "model.to(device)\n",
        "model.eval()\n",
        "for step, batch in enumerate(eval_dataloader):\n",
        "    with torch.no_grad():\n",
        "      batch = {k: v.to(device) for k, v in batch.items()}\n",
        "      outputs = model(**batch)\n",
        "      logits = outputs.logits\n",
        "      labels = batch[\"labels\"]\n",
        "      print(labels)\n",
        "      if isRanking:\n",
        "        loss = ranking_loss(logits, batch[\"labels\"], 1, \n",
        "                            batch[\"labels\"].size(dim=0))\n",
        "        losses.append(loss)\n",
        "      else: \n",
        "        losses.append(outputs.loss)\n",
        "      if isQG: \n",
        "        score = qg_ranking(logits, labels)\n",
        "      else: \n",
        "        score = relevance_ranking(logits, labels, truth_ix)\n",
        "      scores.append(score)\n",
        "\n",
        "scores = torch.cat(scores)\n",
        "topk_scores, indexes = torch.topk(scores, k=len(scores))\n"
      ],
      "metadata": {
        "id": "M65Upax1a0yM",
        "pycharm": {
          "name": "#%%\n"
        }
      },
      "execution_count": null,
      "outputs": []
    },
    {
      "cell_type": "code",
      "source": [
        "scores\n",
        "print(validation[0][\"ctxs\"][:k], scores)\n",
        "print(losses)"
      ],
      "metadata": {
        "id": "llLrU82fJD2H",
        "pycharm": {
          "name": "#%%\n"
        }
      },
      "execution_count": null,
      "outputs": []
    }
  ]
}